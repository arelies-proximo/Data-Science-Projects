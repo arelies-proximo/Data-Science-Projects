{
  "cells": [
    {
      "cell_type": "markdown",
      "metadata": {
        "id": "view-in-github",
        "colab_type": "text"
      },
      "source": [
        "<a href=\"https://colab.research.google.com/github/arelies-proximo/Data-Science-Projects/blob/main/Sales_Analytics_using_Pandas.ipynb\" target=\"_parent\"><img src=\"https://colab.research.google.com/assets/colab-badge.svg\" alt=\"Open In Colab\"/></a>"
      ]
    },
    {
      "cell_type": "code",
      "execution_count": 1,
      "metadata": {
        "colab": {
          "base_uri": "https://localhost:8080/",
          "height": 35
        },
        "id": "RafC4h_xgagl",
        "outputId": "a4cde7dc-eb6c-4033-d47d-5d5af7b1820a"
      },
      "outputs": [
        {
          "output_type": "execute_result",
          "data": {
            "text/plain": [
              "'\\n  - Loading\\n  - Cleaning\\n  - Insights\\n'"
            ],
            "application/vnd.google.colaboratory.intrinsic+json": {
              "type": "string"
            }
          },
          "metadata": {},
          "execution_count": 1
        }
      ],
      "source": [
        "'''\n",
        "  - Loading\n",
        "  - Cleaning\n",
        "  - Insights\n",
        "'''"
      ]
    },
    {
      "cell_type": "code",
      "execution_count": 2,
      "metadata": {
        "id": "lCMdVecDgj0p"
      },
      "outputs": [],
      "source": [
        "import pandas as pd"
      ]
    },
    {
      "cell_type": "code",
      "execution_count": 3,
      "metadata": {
        "id": "2GcDFLOMURw0"
      },
      "outputs": [],
      "source": [
        "import os\n",
        "os.mkdir(\"Sales Folder\")"
      ]
    },
    {
      "cell_type": "code",
      "execution_count": 5,
      "metadata": {
        "colab": {
          "base_uri": "https://localhost:8080/"
        },
        "id": "Bvq9bCL6Zvm-",
        "outputId": "ed916eca-eeb1-4462-eeee-c0470edaff1f"
      },
      "outputs": [
        {
          "output_type": "execute_result",
          "data": {
            "text/plain": [
              "['Sales_December_2019.csv',\n",
              " 'Sales_October_2019.csv',\n",
              " 'Sales_July_2019.csv',\n",
              " 'Sales_April_2019.csv',\n",
              " 'Sales_May_2019.csv',\n",
              " 'Sales_September_2019.csv',\n",
              " 'Sales_January_2019.csv',\n",
              " 'Sales_November_2019.csv',\n",
              " 'Sales_June_2019.csv',\n",
              " 'Sales_February_2019.csv',\n",
              " 'Sales_August_2019.csv',\n",
              " 'Sales_March_2019.csv']"
            ]
          },
          "metadata": {},
          "execution_count": 5
        }
      ],
      "source": [
        "os.listdir(\"./Sales Folder\")"
      ]
    },
    {
      "cell_type": "code",
      "execution_count": null,
      "metadata": {
        "id": "5xK0jNlXZ6ou"
      },
      "outputs": [],
      "source": []
    },
    {
      "cell_type": "markdown",
      "source": [
        "# Task 1: Merge 12 months of data into a single CSV File"
      ],
      "metadata": {
        "id": "FXIi4WwtQrou"
      }
    },
    {
      "cell_type": "code",
      "source": [
        "files = [file for file in os.listdir(\"./Sales Folder\")]\n",
        "for i in files:\n",
        "  print(i)"
      ],
      "metadata": {
        "colab": {
          "base_uri": "https://localhost:8080/"
        },
        "id": "HOEzeYEIQw6R",
        "outputId": "969534d3-5945-49f8-c0bc-30e920d0a368"
      },
      "execution_count": 7,
      "outputs": [
        {
          "output_type": "stream",
          "name": "stdout",
          "text": [
            "Sales_December_2019.csv\n",
            "Sales_October_2019.csv\n",
            "Sales_July_2019.csv\n",
            "Sales_April_2019.csv\n",
            "Sales_May_2019.csv\n",
            "Sales_September_2019.csv\n",
            "Sales_January_2019.csv\n",
            "Sales_November_2019.csv\n",
            "Sales_June_2019.csv\n",
            "Sales_February_2019.csv\n",
            "Sales_August_2019.csv\n",
            "Sales_March_2019.csv\n"
          ]
        }
      ]
    },
    {
      "cell_type": "code",
      "source": [
        "df = pd.read_csv(\"./Sales Folder/Sales_December_2019.csv\")\n",
        "df.info()"
      ],
      "metadata": {
        "colab": {
          "base_uri": "https://localhost:8080/"
        },
        "id": "hVl7i_QjRuvk",
        "outputId": "be8c09e3-4cdb-4a95-ed43-780e8433139f"
      },
      "execution_count": 11,
      "outputs": [
        {
          "output_type": "stream",
          "name": "stdout",
          "text": [
            "<class 'pandas.core.frame.DataFrame'>\n",
            "RangeIndex: 25117 entries, 0 to 25116\n",
            "Data columns (total 6 columns):\n",
            " #   Column            Non-Null Count  Dtype \n",
            "---  ------            --------------  ----- \n",
            " 0   Order ID          25037 non-null  object\n",
            " 1   Product           25037 non-null  object\n",
            " 2   Quantity Ordered  25037 non-null  object\n",
            " 3   Price Each        25037 non-null  object\n",
            " 4   Order Date        25037 non-null  object\n",
            " 5   Purchase Address  25037 non-null  object\n",
            "dtypes: object(6)\n",
            "memory usage: 1.1+ MB\n"
          ]
        }
      ]
    },
    {
      "cell_type": "code",
      "source": [
        "#CONCATENATE TO MAKE SINGLE CSV\n",
        "\n",
        "all_data = pd.DataFrame()\n",
        "\n",
        "for file in files:\n",
        "  df = df = pd.read_csv(\"./Sales Folder/\"+file)\n",
        "  all_data = pd.concat([all_data, df])"
      ],
      "metadata": {
        "id": "AXfprBTNRMfF"
      },
      "execution_count": 9,
      "outputs": []
    },
    {
      "cell_type": "code",
      "source": [
        "all_data.info()"
      ],
      "metadata": {
        "colab": {
          "base_uri": "https://localhost:8080/"
        },
        "id": "q3Nn-eEMSSZY",
        "outputId": "7a7205e6-4275-4992-d6df-94922e990d96"
      },
      "execution_count": 10,
      "outputs": [
        {
          "output_type": "stream",
          "name": "stdout",
          "text": [
            "<class 'pandas.core.frame.DataFrame'>\n",
            "Int64Index: 186850 entries, 0 to 15225\n",
            "Data columns (total 6 columns):\n",
            " #   Column            Non-Null Count   Dtype \n",
            "---  ------            --------------   ----- \n",
            " 0   Order ID          186305 non-null  object\n",
            " 1   Product           186305 non-null  object\n",
            " 2   Quantity Ordered  186305 non-null  object\n",
            " 3   Price Each        186305 non-null  object\n",
            " 4   Order Date        186305 non-null  object\n",
            " 5   Purchase Address  186305 non-null  object\n",
            "dtypes: object(6)\n",
            "memory usage: 10.0+ MB\n"
          ]
        }
      ]
    },
    {
      "cell_type": "code",
      "source": [
        "#saving the df to a csv file\n",
        "\n",
        "all_data.to_csv(\"all_data.csv\", index=False)\n",
        "  #index false, not to save index column of data frame\n"
      ],
      "metadata": {
        "id": "vVNK0ecuSVtd"
      },
      "execution_count": 12,
      "outputs": []
    },
    {
      "cell_type": "code",
      "source": [
        "all_data.sample(10)\n",
        "  #the output contains data from different months of 2019"
      ],
      "metadata": {
        "colab": {
          "base_uri": "https://localhost:8080/",
          "height": 363
        },
        "id": "hrNT3xUfSyH7",
        "outputId": "98dbeb00-560b-4585-9cac-9fca494308d6"
      },
      "execution_count": 14,
      "outputs": [
        {
          "output_type": "execute_result",
          "data": {
            "text/plain": [
              "      Order ID                     Product Quantity Ordered Price Each  \\\n",
              "3437    298940            Wired Headphones                1      11.99   \n",
              "358     162348        USB-C Charging Cable                1      11.95   \n",
              "1215    211077    Lightning Charging Cable                1      14.95   \n",
              "3147    212911      AAA Batteries (4-pack)                1       2.99   \n",
              "502     296141  Bose SoundSport Headphones                1      99.99   \n",
              "6027    265106      27in 4K Gaming Monitor                1     389.99   \n",
              "12785   271565       AA Batteries (4-pack)                1       3.84   \n",
              "11414   172909       AA Batteries (4-pack)                1       3.84   \n",
              "5463    284020             ThinkPad Laptop                1     999.99   \n",
              "17150   312052            27in FHD Monitor                1     149.99   \n",
              "\n",
              "           Order Date                          Purchase Address  \n",
              "3437   12/02/19 14:11       907 Elm St, San Francisco, CA 94016  \n",
              "358    03/18/19 13:49      616 14th St, New York City, NY 10001  \n",
              "1215   06/30/19 18:45  694 Highland St, New York City, NY 10001  \n",
              "3147   06/20/19 15:10           808 Hill St, Portland, OR 97035  \n",
              "502    12/09/19 18:21       787 Elm St, San Francisco, CA 94016  \n",
              "6027   10/28/19 13:38          815 Spruce St, Atlanta, GA 30301  \n",
              "12785  10/06/19 18:40      938 12th St, New York City, NY 10001  \n",
              "11414  03/09/19 22:57    660 Willow St, New York City, NY 10001  \n",
              "5463   11/12/19 07:32         203 9th St, Los Angeles, CA 90001  \n",
              "17150  12/06/19 08:20    788 Willow St, San Francisco, CA 94016  "
            ],
            "text/html": [
              "\n",
              "  <div id=\"df-0ca59fc1-875d-44de-991d-2abe317d6e38\">\n",
              "    <div class=\"colab-df-container\">\n",
              "      <div>\n",
              "<style scoped>\n",
              "    .dataframe tbody tr th:only-of-type {\n",
              "        vertical-align: middle;\n",
              "    }\n",
              "\n",
              "    .dataframe tbody tr th {\n",
              "        vertical-align: top;\n",
              "    }\n",
              "\n",
              "    .dataframe thead th {\n",
              "        text-align: right;\n",
              "    }\n",
              "</style>\n",
              "<table border=\"1\" class=\"dataframe\">\n",
              "  <thead>\n",
              "    <tr style=\"text-align: right;\">\n",
              "      <th></th>\n",
              "      <th>Order ID</th>\n",
              "      <th>Product</th>\n",
              "      <th>Quantity Ordered</th>\n",
              "      <th>Price Each</th>\n",
              "      <th>Order Date</th>\n",
              "      <th>Purchase Address</th>\n",
              "    </tr>\n",
              "  </thead>\n",
              "  <tbody>\n",
              "    <tr>\n",
              "      <th>3437</th>\n",
              "      <td>298940</td>\n",
              "      <td>Wired Headphones</td>\n",
              "      <td>1</td>\n",
              "      <td>11.99</td>\n",
              "      <td>12/02/19 14:11</td>\n",
              "      <td>907 Elm St, San Francisco, CA 94016</td>\n",
              "    </tr>\n",
              "    <tr>\n",
              "      <th>358</th>\n",
              "      <td>162348</td>\n",
              "      <td>USB-C Charging Cable</td>\n",
              "      <td>1</td>\n",
              "      <td>11.95</td>\n",
              "      <td>03/18/19 13:49</td>\n",
              "      <td>616 14th St, New York City, NY 10001</td>\n",
              "    </tr>\n",
              "    <tr>\n",
              "      <th>1215</th>\n",
              "      <td>211077</td>\n",
              "      <td>Lightning Charging Cable</td>\n",
              "      <td>1</td>\n",
              "      <td>14.95</td>\n",
              "      <td>06/30/19 18:45</td>\n",
              "      <td>694 Highland St, New York City, NY 10001</td>\n",
              "    </tr>\n",
              "    <tr>\n",
              "      <th>3147</th>\n",
              "      <td>212911</td>\n",
              "      <td>AAA Batteries (4-pack)</td>\n",
              "      <td>1</td>\n",
              "      <td>2.99</td>\n",
              "      <td>06/20/19 15:10</td>\n",
              "      <td>808 Hill St, Portland, OR 97035</td>\n",
              "    </tr>\n",
              "    <tr>\n",
              "      <th>502</th>\n",
              "      <td>296141</td>\n",
              "      <td>Bose SoundSport Headphones</td>\n",
              "      <td>1</td>\n",
              "      <td>99.99</td>\n",
              "      <td>12/09/19 18:21</td>\n",
              "      <td>787 Elm St, San Francisco, CA 94016</td>\n",
              "    </tr>\n",
              "    <tr>\n",
              "      <th>6027</th>\n",
              "      <td>265106</td>\n",
              "      <td>27in 4K Gaming Monitor</td>\n",
              "      <td>1</td>\n",
              "      <td>389.99</td>\n",
              "      <td>10/28/19 13:38</td>\n",
              "      <td>815 Spruce St, Atlanta, GA 30301</td>\n",
              "    </tr>\n",
              "    <tr>\n",
              "      <th>12785</th>\n",
              "      <td>271565</td>\n",
              "      <td>AA Batteries (4-pack)</td>\n",
              "      <td>1</td>\n",
              "      <td>3.84</td>\n",
              "      <td>10/06/19 18:40</td>\n",
              "      <td>938 12th St, New York City, NY 10001</td>\n",
              "    </tr>\n",
              "    <tr>\n",
              "      <th>11414</th>\n",
              "      <td>172909</td>\n",
              "      <td>AA Batteries (4-pack)</td>\n",
              "      <td>1</td>\n",
              "      <td>3.84</td>\n",
              "      <td>03/09/19 22:57</td>\n",
              "      <td>660 Willow St, New York City, NY 10001</td>\n",
              "    </tr>\n",
              "    <tr>\n",
              "      <th>5463</th>\n",
              "      <td>284020</td>\n",
              "      <td>ThinkPad Laptop</td>\n",
              "      <td>1</td>\n",
              "      <td>999.99</td>\n",
              "      <td>11/12/19 07:32</td>\n",
              "      <td>203 9th St, Los Angeles, CA 90001</td>\n",
              "    </tr>\n",
              "    <tr>\n",
              "      <th>17150</th>\n",
              "      <td>312052</td>\n",
              "      <td>27in FHD Monitor</td>\n",
              "      <td>1</td>\n",
              "      <td>149.99</td>\n",
              "      <td>12/06/19 08:20</td>\n",
              "      <td>788 Willow St, San Francisco, CA 94016</td>\n",
              "    </tr>\n",
              "  </tbody>\n",
              "</table>\n",
              "</div>\n",
              "      <button class=\"colab-df-convert\" onclick=\"convertToInteractive('df-0ca59fc1-875d-44de-991d-2abe317d6e38')\"\n",
              "              title=\"Convert this dataframe to an interactive table.\"\n",
              "              style=\"display:none;\">\n",
              "        \n",
              "  <svg xmlns=\"http://www.w3.org/2000/svg\" height=\"24px\"viewBox=\"0 0 24 24\"\n",
              "       width=\"24px\">\n",
              "    <path d=\"M0 0h24v24H0V0z\" fill=\"none\"/>\n",
              "    <path d=\"M18.56 5.44l.94 2.06.94-2.06 2.06-.94-2.06-.94-.94-2.06-.94 2.06-2.06.94zm-11 1L8.5 8.5l.94-2.06 2.06-.94-2.06-.94L8.5 2.5l-.94 2.06-2.06.94zm10 10l.94 2.06.94-2.06 2.06-.94-2.06-.94-.94-2.06-.94 2.06-2.06.94z\"/><path d=\"M17.41 7.96l-1.37-1.37c-.4-.4-.92-.59-1.43-.59-.52 0-1.04.2-1.43.59L10.3 9.45l-7.72 7.72c-.78.78-.78 2.05 0 2.83L4 21.41c.39.39.9.59 1.41.59.51 0 1.02-.2 1.41-.59l7.78-7.78 2.81-2.81c.8-.78.8-2.07 0-2.86zM5.41 20L4 18.59l7.72-7.72 1.47 1.35L5.41 20z\"/>\n",
              "  </svg>\n",
              "      </button>\n",
              "      \n",
              "  <style>\n",
              "    .colab-df-container {\n",
              "      display:flex;\n",
              "      flex-wrap:wrap;\n",
              "      gap: 12px;\n",
              "    }\n",
              "\n",
              "    .colab-df-convert {\n",
              "      background-color: #E8F0FE;\n",
              "      border: none;\n",
              "      border-radius: 50%;\n",
              "      cursor: pointer;\n",
              "      display: none;\n",
              "      fill: #1967D2;\n",
              "      height: 32px;\n",
              "      padding: 0 0 0 0;\n",
              "      width: 32px;\n",
              "    }\n",
              "\n",
              "    .colab-df-convert:hover {\n",
              "      background-color: #E2EBFA;\n",
              "      box-shadow: 0px 1px 2px rgba(60, 64, 67, 0.3), 0px 1px 3px 1px rgba(60, 64, 67, 0.15);\n",
              "      fill: #174EA6;\n",
              "    }\n",
              "\n",
              "    [theme=dark] .colab-df-convert {\n",
              "      background-color: #3B4455;\n",
              "      fill: #D2E3FC;\n",
              "    }\n",
              "\n",
              "    [theme=dark] .colab-df-convert:hover {\n",
              "      background-color: #434B5C;\n",
              "      box-shadow: 0px 1px 3px 1px rgba(0, 0, 0, 0.15);\n",
              "      filter: drop-shadow(0px 1px 2px rgba(0, 0, 0, 0.3));\n",
              "      fill: #FFFFFF;\n",
              "    }\n",
              "  </style>\n",
              "\n",
              "      <script>\n",
              "        const buttonEl =\n",
              "          document.querySelector('#df-0ca59fc1-875d-44de-991d-2abe317d6e38 button.colab-df-convert');\n",
              "        buttonEl.style.display =\n",
              "          google.colab.kernel.accessAllowed ? 'block' : 'none';\n",
              "\n",
              "        async function convertToInteractive(key) {\n",
              "          const element = document.querySelector('#df-0ca59fc1-875d-44de-991d-2abe317d6e38');\n",
              "          const dataTable =\n",
              "            await google.colab.kernel.invokeFunction('convertToInteractive',\n",
              "                                                     [key], {});\n",
              "          if (!dataTable) return;\n",
              "\n",
              "          const docLinkHtml = 'Like what you see? Visit the ' +\n",
              "            '<a target=\"_blank\" href=https://colab.research.google.com/notebooks/data_table.ipynb>data table notebook</a>'\n",
              "            + ' to learn more about interactive tables.';\n",
              "          element.innerHTML = '';\n",
              "          dataTable['output_type'] = 'display_data';\n",
              "          await google.colab.output.renderOutput(dataTable, element);\n",
              "          const docLink = document.createElement('div');\n",
              "          docLink.innerHTML = docLinkHtml;\n",
              "          element.appendChild(docLink);\n",
              "        }\n",
              "      </script>\n",
              "    </div>\n",
              "  </div>\n",
              "  "
            ]
          },
          "metadata": {},
          "execution_count": 14
        }
      ]
    },
    {
      "cell_type": "markdown",
      "source": [
        "# CLEANING THE VALUE"
      ],
      "metadata": {
        "id": "6PqfDJBxVXMx"
      }
    },
    {
      "cell_type": "code",
      "source": [
        "all_data.info()"
      ],
      "metadata": {
        "colab": {
          "base_uri": "https://localhost:8080/"
        },
        "id": "iXMV102KVV4g",
        "outputId": "041e9e08-46ab-4569-8bd4-54e6be1c2101"
      },
      "execution_count": 18,
      "outputs": [
        {
          "output_type": "stream",
          "name": "stdout",
          "text": [
            "<class 'pandas.core.frame.DataFrame'>\n",
            "Int64Index: 186850 entries, 0 to 15225\n",
            "Data columns (total 7 columns):\n",
            " #   Column            Non-Null Count   Dtype \n",
            "---  ------            --------------   ----- \n",
            " 0   Order ID          186305 non-null  object\n",
            " 1   Product           186305 non-null  object\n",
            " 2   Quantity Ordered  186305 non-null  object\n",
            " 3   Price Each        186305 non-null  object\n",
            " 4   Order Date        186305 non-null  object\n",
            " 5   Purchase Address  186305 non-null  object\n",
            " 6   Month             186305 non-null  object\n",
            "dtypes: object(7)\n",
            "memory usage: 11.4+ MB\n"
          ]
        }
      ]
    },
    {
      "cell_type": "code",
      "source": [
        "#all values are not Null\n",
        "# IT CAN STILL CONTAIN NON NULL VALUES"
      ],
      "metadata": {
        "id": "2ESRJg8YVV6_"
      },
      "execution_count": 19,
      "outputs": []
    },
    {
      "cell_type": "code",
      "source": [
        "for column in all_data.columns:\n",
        "  print(column, \": \", end=\"\")\n",
        "  print(all_data[column].unique())"
      ],
      "metadata": {
        "colab": {
          "base_uri": "https://localhost:8080/"
        },
        "id": "ktPSJivWVV-U",
        "outputId": "469137bb-b9d3-40b6-bb0f-612d56cea2a5"
      },
      "execution_count": 30,
      "outputs": [
        {
          "output_type": "stream",
          "name": "stdout",
          "text": [
            "Order ID : ['295665' '295666' '295667' ... '176555' '176556' '176557']\n",
            "Product : ['Macbook Pro Laptop' 'LG Washing Machine' 'USB-C Charging Cable'\n",
            " '27in FHD Monitor' 'AA Batteries (4-pack)' 'Bose SoundSport Headphones'\n",
            " 'AAA Batteries (4-pack)' 'ThinkPad Laptop' 'Lightning Charging Cable'\n",
            " 'Google Phone' 'Wired Headphones' 'Apple Airpods Headphones'\n",
            " 'Vareebadd Phone' 'iPhone' '20in Monitor' '34in Ultrawide Monitor'\n",
            " 'Flatscreen TV' '27in 4K Gaming Monitor' 'Product' nan 'LG Dryer']\n",
            "Quantity Ordered : ['1' '2' '4' '3' 'Quantity Ordered' nan '7' '5' '6' '8' '9']\n",
            "Price Each : ['1700' '600.0' '11.95' '149.99' '3.84' '99.99' '2.99' '999.99' '14.95'\n",
            " '600' '11.99' '150' '400' '700' '109.99' '379.99' '300' '389.99'\n",
            " 'Price Each' nan '150.0' '700.0' '400.0' '300.0' '1700.0']\n",
            "Order Date : ['12/30/19 00:01' '12/29/19 07:03' '12/12/19 18:21' ... '03/22/19 20:27'\n",
            " '03/14/19 10:29' '03/30/19 12:32']\n",
            "Purchase Address : ['136 Church St, New York City, NY 10001'\n",
            " '562 2nd St, New York City, NY 10001'\n",
            " '277 Main St, New York City, NY 10001' ...\n",
            " '578 Main St, Los Angeles, CA 90001' '871 7th St, Los Angeles, CA 90001'\n",
            " '83 Washington St, San Francisco, CA 94016']\n",
            "Month : ['12' 'Or' nan '01' '10' '11' '07' '08' '04' '05' '06' '09' '02' '03']\n"
          ]
        }
      ]
    },
    {
      "cell_type": "code",
      "source": [
        "#Quantity Ordered, Month contains nan"
      ],
      "metadata": {
        "id": "ve8LyQLcWqDV"
      },
      "execution_count": 31,
      "outputs": []
    },
    {
      "cell_type": "code",
      "source": [
        "## If you want to select rows with at least one NaN value, \n",
        "#then you could use isna + any on axis=1:\n",
        "#df[df.isna().any(axis=1)]"
      ],
      "metadata": {
        "id": "7v-0KGqsWqQU"
      },
      "execution_count": null,
      "outputs": []
    },
    {
      "cell_type": "code",
      "source": [
        "df_nan = all_data[all_data.isna().any(axis=1)]\n",
        "df_nan.info()"
      ],
      "metadata": {
        "colab": {
          "base_uri": "https://localhost:8080/"
        },
        "id": "YAS3On0GWqTP",
        "outputId": "06d620d5-0584-4d20-a8f8-238a290f220b"
      },
      "execution_count": 32,
      "outputs": [
        {
          "output_type": "stream",
          "name": "stdout",
          "text": [
            "<class 'pandas.core.frame.DataFrame'>\n",
            "Int64Index: 545 entries, 264 to 14387\n",
            "Data columns (total 7 columns):\n",
            " #   Column            Non-Null Count  Dtype \n",
            "---  ------            --------------  ----- \n",
            " 0   Order ID          0 non-null      object\n",
            " 1   Product           0 non-null      object\n",
            " 2   Quantity Ordered  0 non-null      object\n",
            " 3   Price Each        0 non-null      object\n",
            " 4   Order Date        0 non-null      object\n",
            " 5   Purchase Address  0 non-null      object\n",
            " 6   Month             0 non-null      object\n",
            "dtypes: object(7)\n",
            "memory usage: 34.1+ KB\n"
          ]
        }
      ]
    },
    {
      "cell_type": "code",
      "source": [
        "df_nan.sample(10)"
      ],
      "metadata": {
        "colab": {
          "base_uri": "https://localhost:8080/",
          "height": 363
        },
        "id": "THstRhdTWqWE",
        "outputId": "1ca29122-97eb-4c65-b3db-5eded372ada6"
      },
      "execution_count": 35,
      "outputs": [
        {
          "output_type": "execute_result",
          "data": {
            "text/plain": [
              "      Order ID Product Quantity Ordered Price Each Order Date  \\\n",
              "11002      NaN     NaN              NaN        NaN        NaN   \n",
              "9382       NaN     NaN              NaN        NaN        NaN   \n",
              "3347       NaN     NaN              NaN        NaN        NaN   \n",
              "172        NaN     NaN              NaN        NaN        NaN   \n",
              "3672       NaN     NaN              NaN        NaN        NaN   \n",
              "16700      NaN     NaN              NaN        NaN        NaN   \n",
              "4533       NaN     NaN              NaN        NaN        NaN   \n",
              "3310       NaN     NaN              NaN        NaN        NaN   \n",
              "9119       NaN     NaN              NaN        NaN        NaN   \n",
              "10163      NaN     NaN              NaN        NaN        NaN   \n",
              "\n",
              "      Purchase Address Month  \n",
              "11002              NaN   NaN  \n",
              "9382               NaN   NaN  \n",
              "3347               NaN   NaN  \n",
              "172                NaN   NaN  \n",
              "3672               NaN   NaN  \n",
              "16700              NaN   NaN  \n",
              "4533               NaN   NaN  \n",
              "3310               NaN   NaN  \n",
              "9119               NaN   NaN  \n",
              "10163              NaN   NaN  "
            ],
            "text/html": [
              "\n",
              "  <div id=\"df-46ea6606-6f01-41f5-8b14-1cf89ab16647\">\n",
              "    <div class=\"colab-df-container\">\n",
              "      <div>\n",
              "<style scoped>\n",
              "    .dataframe tbody tr th:only-of-type {\n",
              "        vertical-align: middle;\n",
              "    }\n",
              "\n",
              "    .dataframe tbody tr th {\n",
              "        vertical-align: top;\n",
              "    }\n",
              "\n",
              "    .dataframe thead th {\n",
              "        text-align: right;\n",
              "    }\n",
              "</style>\n",
              "<table border=\"1\" class=\"dataframe\">\n",
              "  <thead>\n",
              "    <tr style=\"text-align: right;\">\n",
              "      <th></th>\n",
              "      <th>Order ID</th>\n",
              "      <th>Product</th>\n",
              "      <th>Quantity Ordered</th>\n",
              "      <th>Price Each</th>\n",
              "      <th>Order Date</th>\n",
              "      <th>Purchase Address</th>\n",
              "      <th>Month</th>\n",
              "    </tr>\n",
              "  </thead>\n",
              "  <tbody>\n",
              "    <tr>\n",
              "      <th>11002</th>\n",
              "      <td>NaN</td>\n",
              "      <td>NaN</td>\n",
              "      <td>NaN</td>\n",
              "      <td>NaN</td>\n",
              "      <td>NaN</td>\n",
              "      <td>NaN</td>\n",
              "      <td>NaN</td>\n",
              "    </tr>\n",
              "    <tr>\n",
              "      <th>9382</th>\n",
              "      <td>NaN</td>\n",
              "      <td>NaN</td>\n",
              "      <td>NaN</td>\n",
              "      <td>NaN</td>\n",
              "      <td>NaN</td>\n",
              "      <td>NaN</td>\n",
              "      <td>NaN</td>\n",
              "    </tr>\n",
              "    <tr>\n",
              "      <th>3347</th>\n",
              "      <td>NaN</td>\n",
              "      <td>NaN</td>\n",
              "      <td>NaN</td>\n",
              "      <td>NaN</td>\n",
              "      <td>NaN</td>\n",
              "      <td>NaN</td>\n",
              "      <td>NaN</td>\n",
              "    </tr>\n",
              "    <tr>\n",
              "      <th>172</th>\n",
              "      <td>NaN</td>\n",
              "      <td>NaN</td>\n",
              "      <td>NaN</td>\n",
              "      <td>NaN</td>\n",
              "      <td>NaN</td>\n",
              "      <td>NaN</td>\n",
              "      <td>NaN</td>\n",
              "    </tr>\n",
              "    <tr>\n",
              "      <th>3672</th>\n",
              "      <td>NaN</td>\n",
              "      <td>NaN</td>\n",
              "      <td>NaN</td>\n",
              "      <td>NaN</td>\n",
              "      <td>NaN</td>\n",
              "      <td>NaN</td>\n",
              "      <td>NaN</td>\n",
              "    </tr>\n",
              "    <tr>\n",
              "      <th>16700</th>\n",
              "      <td>NaN</td>\n",
              "      <td>NaN</td>\n",
              "      <td>NaN</td>\n",
              "      <td>NaN</td>\n",
              "      <td>NaN</td>\n",
              "      <td>NaN</td>\n",
              "      <td>NaN</td>\n",
              "    </tr>\n",
              "    <tr>\n",
              "      <th>4533</th>\n",
              "      <td>NaN</td>\n",
              "      <td>NaN</td>\n",
              "      <td>NaN</td>\n",
              "      <td>NaN</td>\n",
              "      <td>NaN</td>\n",
              "      <td>NaN</td>\n",
              "      <td>NaN</td>\n",
              "    </tr>\n",
              "    <tr>\n",
              "      <th>3310</th>\n",
              "      <td>NaN</td>\n",
              "      <td>NaN</td>\n",
              "      <td>NaN</td>\n",
              "      <td>NaN</td>\n",
              "      <td>NaN</td>\n",
              "      <td>NaN</td>\n",
              "      <td>NaN</td>\n",
              "    </tr>\n",
              "    <tr>\n",
              "      <th>9119</th>\n",
              "      <td>NaN</td>\n",
              "      <td>NaN</td>\n",
              "      <td>NaN</td>\n",
              "      <td>NaN</td>\n",
              "      <td>NaN</td>\n",
              "      <td>NaN</td>\n",
              "      <td>NaN</td>\n",
              "    </tr>\n",
              "    <tr>\n",
              "      <th>10163</th>\n",
              "      <td>NaN</td>\n",
              "      <td>NaN</td>\n",
              "      <td>NaN</td>\n",
              "      <td>NaN</td>\n",
              "      <td>NaN</td>\n",
              "      <td>NaN</td>\n",
              "      <td>NaN</td>\n",
              "    </tr>\n",
              "  </tbody>\n",
              "</table>\n",
              "</div>\n",
              "      <button class=\"colab-df-convert\" onclick=\"convertToInteractive('df-46ea6606-6f01-41f5-8b14-1cf89ab16647')\"\n",
              "              title=\"Convert this dataframe to an interactive table.\"\n",
              "              style=\"display:none;\">\n",
              "        \n",
              "  <svg xmlns=\"http://www.w3.org/2000/svg\" height=\"24px\"viewBox=\"0 0 24 24\"\n",
              "       width=\"24px\">\n",
              "    <path d=\"M0 0h24v24H0V0z\" fill=\"none\"/>\n",
              "    <path d=\"M18.56 5.44l.94 2.06.94-2.06 2.06-.94-2.06-.94-.94-2.06-.94 2.06-2.06.94zm-11 1L8.5 8.5l.94-2.06 2.06-.94-2.06-.94L8.5 2.5l-.94 2.06-2.06.94zm10 10l.94 2.06.94-2.06 2.06-.94-2.06-.94-.94-2.06-.94 2.06-2.06.94z\"/><path d=\"M17.41 7.96l-1.37-1.37c-.4-.4-.92-.59-1.43-.59-.52 0-1.04.2-1.43.59L10.3 9.45l-7.72 7.72c-.78.78-.78 2.05 0 2.83L4 21.41c.39.39.9.59 1.41.59.51 0 1.02-.2 1.41-.59l7.78-7.78 2.81-2.81c.8-.78.8-2.07 0-2.86zM5.41 20L4 18.59l7.72-7.72 1.47 1.35L5.41 20z\"/>\n",
              "  </svg>\n",
              "      </button>\n",
              "      \n",
              "  <style>\n",
              "    .colab-df-container {\n",
              "      display:flex;\n",
              "      flex-wrap:wrap;\n",
              "      gap: 12px;\n",
              "    }\n",
              "\n",
              "    .colab-df-convert {\n",
              "      background-color: #E8F0FE;\n",
              "      border: none;\n",
              "      border-radius: 50%;\n",
              "      cursor: pointer;\n",
              "      display: none;\n",
              "      fill: #1967D2;\n",
              "      height: 32px;\n",
              "      padding: 0 0 0 0;\n",
              "      width: 32px;\n",
              "    }\n",
              "\n",
              "    .colab-df-convert:hover {\n",
              "      background-color: #E2EBFA;\n",
              "      box-shadow: 0px 1px 2px rgba(60, 64, 67, 0.3), 0px 1px 3px 1px rgba(60, 64, 67, 0.15);\n",
              "      fill: #174EA6;\n",
              "    }\n",
              "\n",
              "    [theme=dark] .colab-df-convert {\n",
              "      background-color: #3B4455;\n",
              "      fill: #D2E3FC;\n",
              "    }\n",
              "\n",
              "    [theme=dark] .colab-df-convert:hover {\n",
              "      background-color: #434B5C;\n",
              "      box-shadow: 0px 1px 3px 1px rgba(0, 0, 0, 0.15);\n",
              "      filter: drop-shadow(0px 1px 2px rgba(0, 0, 0, 0.3));\n",
              "      fill: #FFFFFF;\n",
              "    }\n",
              "  </style>\n",
              "\n",
              "      <script>\n",
              "        const buttonEl =\n",
              "          document.querySelector('#df-46ea6606-6f01-41f5-8b14-1cf89ab16647 button.colab-df-convert');\n",
              "        buttonEl.style.display =\n",
              "          google.colab.kernel.accessAllowed ? 'block' : 'none';\n",
              "\n",
              "        async function convertToInteractive(key) {\n",
              "          const element = document.querySelector('#df-46ea6606-6f01-41f5-8b14-1cf89ab16647');\n",
              "          const dataTable =\n",
              "            await google.colab.kernel.invokeFunction('convertToInteractive',\n",
              "                                                     [key], {});\n",
              "          if (!dataTable) return;\n",
              "\n",
              "          const docLinkHtml = 'Like what you see? Visit the ' +\n",
              "            '<a target=\"_blank\" href=https://colab.research.google.com/notebooks/data_table.ipynb>data table notebook</a>'\n",
              "            + ' to learn more about interactive tables.';\n",
              "          element.innerHTML = '';\n",
              "          dataTable['output_type'] = 'display_data';\n",
              "          await google.colab.output.renderOutput(dataTable, element);\n",
              "          const docLink = document.createElement('div');\n",
              "          docLink.innerHTML = docLinkHtml;\n",
              "          element.appendChild(docLink);\n",
              "        }\n",
              "      </script>\n",
              "    </div>\n",
              "  </div>\n",
              "  "
            ]
          },
          "metadata": {},
          "execution_count": 35
        }
      ]
    },
    {
      "cell_type": "code",
      "source": [
        "#545 entries having nan in them"
      ],
      "metadata": {
        "id": "Zf8IanwmWqZr"
      },
      "execution_count": null,
      "outputs": []
    },
    {
      "cell_type": "code",
      "source": [
        "df_nan = df_nan.dropna(how=\"all\")\n",
        "  #drop rows having all column value nan\n",
        "df_nan.info()"
      ],
      "metadata": {
        "colab": {
          "base_uri": "https://localhost:8080/"
        },
        "id": "30P4o3boZOzq",
        "outputId": "b7a245e0-7d36-457a-d64d-30b0b8a6ad9e"
      },
      "execution_count": 36,
      "outputs": [
        {
          "output_type": "stream",
          "name": "stdout",
          "text": [
            "<class 'pandas.core.frame.DataFrame'>\n",
            "Int64Index: 0 entries\n",
            "Data columns (total 7 columns):\n",
            " #   Column            Non-Null Count  Dtype \n",
            "---  ------            --------------  ----- \n",
            " 0   Order ID          0 non-null      object\n",
            " 1   Product           0 non-null      object\n",
            " 2   Quantity Ordered  0 non-null      object\n",
            " 3   Price Each        0 non-null      object\n",
            " 4   Order Date        0 non-null      object\n",
            " 5   Purchase Address  0 non-null      object\n",
            " 6   Month             0 non-null      object\n",
            "dtypes: object(7)\n",
            "memory usage: 0.0+ bytes\n"
          ]
        }
      ]
    },
    {
      "cell_type": "code",
      "source": [
        "# => all rows were having nan in every column\n",
        "# how= any\n",
        "  #removes rows having atleast a single nan value in column"
      ],
      "metadata": {
        "id": "wezcIBtGZO29"
      },
      "execution_count": 37,
      "outputs": []
    },
    {
      "cell_type": "code",
      "source": [
        "#removing nan column from main df\n",
        "all_data = all_data.dropna(how=\"all\")\n",
        "all_data.info()"
      ],
      "metadata": {
        "colab": {
          "base_uri": "https://localhost:8080/"
        },
        "id": "AxR6Ym2SZ-MB",
        "outputId": "b83a0e82-eaaa-44e6-c29c-dc367c30d669"
      },
      "execution_count": 39,
      "outputs": [
        {
          "output_type": "stream",
          "name": "stdout",
          "text": [
            "<class 'pandas.core.frame.DataFrame'>\n",
            "Int64Index: 186305 entries, 0 to 15225\n",
            "Data columns (total 7 columns):\n",
            " #   Column            Non-Null Count   Dtype \n",
            "---  ------            --------------   ----- \n",
            " 0   Order ID          186305 non-null  object\n",
            " 1   Product           186305 non-null  object\n",
            " 2   Quantity Ordered  186305 non-null  object\n",
            " 3   Price Each        186305 non-null  object\n",
            " 4   Order Date        186305 non-null  object\n",
            " 5   Purchase Address  186305 non-null  object\n",
            " 6   Month             186305 non-null  object\n",
            "dtypes: object(7)\n",
            "memory usage: 11.4+ MB\n"
          ]
        }
      ]
    },
    {
      "cell_type": "code",
      "source": [
        "all_data[\"Month\"].unique()"
      ],
      "metadata": {
        "colab": {
          "base_uri": "https://localhost:8080/"
        },
        "id": "ZiRQXP7QZ-PZ",
        "outputId": "6f66de08-e6df-4d37-83e5-56945ad2a5fe"
      },
      "execution_count": 40,
      "outputs": [
        {
          "output_type": "execute_result",
          "data": {
            "text/plain": [
              "array(['12', 'Or', '01', '10', '11', '07', '08', '04', '05', '06', '09',\n",
              "       '02', '03'], dtype=object)"
            ]
          },
          "metadata": {},
          "execution_count": 40
        }
      ]
    },
    {
      "cell_type": "code",
      "source": [
        "all_data[all_data[\"Month\"] == 'Or']"
      ],
      "metadata": {
        "colab": {
          "base_uri": "https://localhost:8080/",
          "height": 423
        },
        "id": "dXfQg7Z8fpdC",
        "outputId": "bcd132b3-e9d6-49f4-9f1f-b24c5458ec8c"
      },
      "execution_count": 42,
      "outputs": [
        {
          "output_type": "execute_result",
          "data": {
            "text/plain": [
              "       Order ID  Product  Quantity Ordered  Price Each  Order Date  \\\n",
              "254    Order ID  Product  Quantity Ordered  Price Each  Order Date   \n",
              "705    Order ID  Product  Quantity Ordered  Price Each  Order Date   \n",
              "1101   Order ID  Product  Quantity Ordered  Price Each  Order Date   \n",
              "2875   Order ID  Product  Quantity Ordered  Price Each  Order Date   \n",
              "3708   Order ID  Product  Quantity Ordered  Price Each  Order Date   \n",
              "...         ...      ...               ...         ...         ...   \n",
              "13481  Order ID  Product  Quantity Ordered  Price Each  Order Date   \n",
              "13773  Order ID  Product  Quantity Ordered  Price Each  Order Date   \n",
              "14233  Order ID  Product  Quantity Ordered  Price Each  Order Date   \n",
              "14416  Order ID  Product  Quantity Ordered  Price Each  Order Date   \n",
              "14626  Order ID  Product  Quantity Ordered  Price Each  Order Date   \n",
              "\n",
              "       Purchase Address Month  \n",
              "254    Purchase Address    Or  \n",
              "705    Purchase Address    Or  \n",
              "1101   Purchase Address    Or  \n",
              "2875   Purchase Address    Or  \n",
              "3708   Purchase Address    Or  \n",
              "...                 ...   ...  \n",
              "13481  Purchase Address    Or  \n",
              "13773  Purchase Address    Or  \n",
              "14233  Purchase Address    Or  \n",
              "14416  Purchase Address    Or  \n",
              "14626  Purchase Address    Or  \n",
              "\n",
              "[355 rows x 7 columns]"
            ],
            "text/html": [
              "\n",
              "  <div id=\"df-95583146-9542-480e-9f9d-73ef50d0ea26\">\n",
              "    <div class=\"colab-df-container\">\n",
              "      <div>\n",
              "<style scoped>\n",
              "    .dataframe tbody tr th:only-of-type {\n",
              "        vertical-align: middle;\n",
              "    }\n",
              "\n",
              "    .dataframe tbody tr th {\n",
              "        vertical-align: top;\n",
              "    }\n",
              "\n",
              "    .dataframe thead th {\n",
              "        text-align: right;\n",
              "    }\n",
              "</style>\n",
              "<table border=\"1\" class=\"dataframe\">\n",
              "  <thead>\n",
              "    <tr style=\"text-align: right;\">\n",
              "      <th></th>\n",
              "      <th>Order ID</th>\n",
              "      <th>Product</th>\n",
              "      <th>Quantity Ordered</th>\n",
              "      <th>Price Each</th>\n",
              "      <th>Order Date</th>\n",
              "      <th>Purchase Address</th>\n",
              "      <th>Month</th>\n",
              "    </tr>\n",
              "  </thead>\n",
              "  <tbody>\n",
              "    <tr>\n",
              "      <th>254</th>\n",
              "      <td>Order ID</td>\n",
              "      <td>Product</td>\n",
              "      <td>Quantity Ordered</td>\n",
              "      <td>Price Each</td>\n",
              "      <td>Order Date</td>\n",
              "      <td>Purchase Address</td>\n",
              "      <td>Or</td>\n",
              "    </tr>\n",
              "    <tr>\n",
              "      <th>705</th>\n",
              "      <td>Order ID</td>\n",
              "      <td>Product</td>\n",
              "      <td>Quantity Ordered</td>\n",
              "      <td>Price Each</td>\n",
              "      <td>Order Date</td>\n",
              "      <td>Purchase Address</td>\n",
              "      <td>Or</td>\n",
              "    </tr>\n",
              "    <tr>\n",
              "      <th>1101</th>\n",
              "      <td>Order ID</td>\n",
              "      <td>Product</td>\n",
              "      <td>Quantity Ordered</td>\n",
              "      <td>Price Each</td>\n",
              "      <td>Order Date</td>\n",
              "      <td>Purchase Address</td>\n",
              "      <td>Or</td>\n",
              "    </tr>\n",
              "    <tr>\n",
              "      <th>2875</th>\n",
              "      <td>Order ID</td>\n",
              "      <td>Product</td>\n",
              "      <td>Quantity Ordered</td>\n",
              "      <td>Price Each</td>\n",
              "      <td>Order Date</td>\n",
              "      <td>Purchase Address</td>\n",
              "      <td>Or</td>\n",
              "    </tr>\n",
              "    <tr>\n",
              "      <th>3708</th>\n",
              "      <td>Order ID</td>\n",
              "      <td>Product</td>\n",
              "      <td>Quantity Ordered</td>\n",
              "      <td>Price Each</td>\n",
              "      <td>Order Date</td>\n",
              "      <td>Purchase Address</td>\n",
              "      <td>Or</td>\n",
              "    </tr>\n",
              "    <tr>\n",
              "      <th>...</th>\n",
              "      <td>...</td>\n",
              "      <td>...</td>\n",
              "      <td>...</td>\n",
              "      <td>...</td>\n",
              "      <td>...</td>\n",
              "      <td>...</td>\n",
              "      <td>...</td>\n",
              "    </tr>\n",
              "    <tr>\n",
              "      <th>13481</th>\n",
              "      <td>Order ID</td>\n",
              "      <td>Product</td>\n",
              "      <td>Quantity Ordered</td>\n",
              "      <td>Price Each</td>\n",
              "      <td>Order Date</td>\n",
              "      <td>Purchase Address</td>\n",
              "      <td>Or</td>\n",
              "    </tr>\n",
              "    <tr>\n",
              "      <th>13773</th>\n",
              "      <td>Order ID</td>\n",
              "      <td>Product</td>\n",
              "      <td>Quantity Ordered</td>\n",
              "      <td>Price Each</td>\n",
              "      <td>Order Date</td>\n",
              "      <td>Purchase Address</td>\n",
              "      <td>Or</td>\n",
              "    </tr>\n",
              "    <tr>\n",
              "      <th>14233</th>\n",
              "      <td>Order ID</td>\n",
              "      <td>Product</td>\n",
              "      <td>Quantity Ordered</td>\n",
              "      <td>Price Each</td>\n",
              "      <td>Order Date</td>\n",
              "      <td>Purchase Address</td>\n",
              "      <td>Or</td>\n",
              "    </tr>\n",
              "    <tr>\n",
              "      <th>14416</th>\n",
              "      <td>Order ID</td>\n",
              "      <td>Product</td>\n",
              "      <td>Quantity Ordered</td>\n",
              "      <td>Price Each</td>\n",
              "      <td>Order Date</td>\n",
              "      <td>Purchase Address</td>\n",
              "      <td>Or</td>\n",
              "    </tr>\n",
              "    <tr>\n",
              "      <th>14626</th>\n",
              "      <td>Order ID</td>\n",
              "      <td>Product</td>\n",
              "      <td>Quantity Ordered</td>\n",
              "      <td>Price Each</td>\n",
              "      <td>Order Date</td>\n",
              "      <td>Purchase Address</td>\n",
              "      <td>Or</td>\n",
              "    </tr>\n",
              "  </tbody>\n",
              "</table>\n",
              "<p>355 rows × 7 columns</p>\n",
              "</div>\n",
              "      <button class=\"colab-df-convert\" onclick=\"convertToInteractive('df-95583146-9542-480e-9f9d-73ef50d0ea26')\"\n",
              "              title=\"Convert this dataframe to an interactive table.\"\n",
              "              style=\"display:none;\">\n",
              "        \n",
              "  <svg xmlns=\"http://www.w3.org/2000/svg\" height=\"24px\"viewBox=\"0 0 24 24\"\n",
              "       width=\"24px\">\n",
              "    <path d=\"M0 0h24v24H0V0z\" fill=\"none\"/>\n",
              "    <path d=\"M18.56 5.44l.94 2.06.94-2.06 2.06-.94-2.06-.94-.94-2.06-.94 2.06-2.06.94zm-11 1L8.5 8.5l.94-2.06 2.06-.94-2.06-.94L8.5 2.5l-.94 2.06-2.06.94zm10 10l.94 2.06.94-2.06 2.06-.94-2.06-.94-.94-2.06-.94 2.06-2.06.94z\"/><path d=\"M17.41 7.96l-1.37-1.37c-.4-.4-.92-.59-1.43-.59-.52 0-1.04.2-1.43.59L10.3 9.45l-7.72 7.72c-.78.78-.78 2.05 0 2.83L4 21.41c.39.39.9.59 1.41.59.51 0 1.02-.2 1.41-.59l7.78-7.78 2.81-2.81c.8-.78.8-2.07 0-2.86zM5.41 20L4 18.59l7.72-7.72 1.47 1.35L5.41 20z\"/>\n",
              "  </svg>\n",
              "      </button>\n",
              "      \n",
              "  <style>\n",
              "    .colab-df-container {\n",
              "      display:flex;\n",
              "      flex-wrap:wrap;\n",
              "      gap: 12px;\n",
              "    }\n",
              "\n",
              "    .colab-df-convert {\n",
              "      background-color: #E8F0FE;\n",
              "      border: none;\n",
              "      border-radius: 50%;\n",
              "      cursor: pointer;\n",
              "      display: none;\n",
              "      fill: #1967D2;\n",
              "      height: 32px;\n",
              "      padding: 0 0 0 0;\n",
              "      width: 32px;\n",
              "    }\n",
              "\n",
              "    .colab-df-convert:hover {\n",
              "      background-color: #E2EBFA;\n",
              "      box-shadow: 0px 1px 2px rgba(60, 64, 67, 0.3), 0px 1px 3px 1px rgba(60, 64, 67, 0.15);\n",
              "      fill: #174EA6;\n",
              "    }\n",
              "\n",
              "    [theme=dark] .colab-df-convert {\n",
              "      background-color: #3B4455;\n",
              "      fill: #D2E3FC;\n",
              "    }\n",
              "\n",
              "    [theme=dark] .colab-df-convert:hover {\n",
              "      background-color: #434B5C;\n",
              "      box-shadow: 0px 1px 3px 1px rgba(0, 0, 0, 0.15);\n",
              "      filter: drop-shadow(0px 1px 2px rgba(0, 0, 0, 0.3));\n",
              "      fill: #FFFFFF;\n",
              "    }\n",
              "  </style>\n",
              "\n",
              "      <script>\n",
              "        const buttonEl =\n",
              "          document.querySelector('#df-95583146-9542-480e-9f9d-73ef50d0ea26 button.colab-df-convert');\n",
              "        buttonEl.style.display =\n",
              "          google.colab.kernel.accessAllowed ? 'block' : 'none';\n",
              "\n",
              "        async function convertToInteractive(key) {\n",
              "          const element = document.querySelector('#df-95583146-9542-480e-9f9d-73ef50d0ea26');\n",
              "          const dataTable =\n",
              "            await google.colab.kernel.invokeFunction('convertToInteractive',\n",
              "                                                     [key], {});\n",
              "          if (!dataTable) return;\n",
              "\n",
              "          const docLinkHtml = 'Like what you see? Visit the ' +\n",
              "            '<a target=\"_blank\" href=https://colab.research.google.com/notebooks/data_table.ipynb>data table notebook</a>'\n",
              "            + ' to learn more about interactive tables.';\n",
              "          element.innerHTML = '';\n",
              "          dataTable['output_type'] = 'display_data';\n",
              "          await google.colab.output.renderOutput(dataTable, element);\n",
              "          const docLink = document.createElement('div');\n",
              "          docLink.innerHTML = docLinkHtml;\n",
              "          element.appendChild(docLink);\n",
              "        }\n",
              "      </script>\n",
              "    </div>\n",
              "  </div>\n",
              "  "
            ]
          },
          "metadata": {},
          "execution_count": 42
        }
      ]
    },
    {
      "cell_type": "code",
      "source": [
        "df_or = all_data[all_data[\"Month\"] == 'Or']\n",
        "df_or.sample(5)"
      ],
      "metadata": {
        "colab": {
          "base_uri": "https://localhost:8080/",
          "height": 206
        },
        "id": "C5v0aIPofpgd",
        "outputId": "a6f46ba9-1985-4fda-f263-fd35f3fa9529"
      },
      "execution_count": 44,
      "outputs": [
        {
          "output_type": "execute_result",
          "data": {
            "text/plain": [
              "       Order ID  Product  Quantity Ordered  Price Each  Order Date  \\\n",
              "8707   Order ID  Product  Quantity Ordered  Price Each  Order Date   \n",
              "11249  Order ID  Product  Quantity Ordered  Price Each  Order Date   \n",
              "6204   Order ID  Product  Quantity Ordered  Price Each  Order Date   \n",
              "12336  Order ID  Product  Quantity Ordered  Price Each  Order Date   \n",
              "5593   Order ID  Product  Quantity Ordered  Price Each  Order Date   \n",
              "\n",
              "       Purchase Address Month  \n",
              "8707   Purchase Address    Or  \n",
              "11249  Purchase Address    Or  \n",
              "6204   Purchase Address    Or  \n",
              "12336  Purchase Address    Or  \n",
              "5593   Purchase Address    Or  "
            ],
            "text/html": [
              "\n",
              "  <div id=\"df-b8f2e075-d741-43e9-ae7d-fee8fb15c456\">\n",
              "    <div class=\"colab-df-container\">\n",
              "      <div>\n",
              "<style scoped>\n",
              "    .dataframe tbody tr th:only-of-type {\n",
              "        vertical-align: middle;\n",
              "    }\n",
              "\n",
              "    .dataframe tbody tr th {\n",
              "        vertical-align: top;\n",
              "    }\n",
              "\n",
              "    .dataframe thead th {\n",
              "        text-align: right;\n",
              "    }\n",
              "</style>\n",
              "<table border=\"1\" class=\"dataframe\">\n",
              "  <thead>\n",
              "    <tr style=\"text-align: right;\">\n",
              "      <th></th>\n",
              "      <th>Order ID</th>\n",
              "      <th>Product</th>\n",
              "      <th>Quantity Ordered</th>\n",
              "      <th>Price Each</th>\n",
              "      <th>Order Date</th>\n",
              "      <th>Purchase Address</th>\n",
              "      <th>Month</th>\n",
              "    </tr>\n",
              "  </thead>\n",
              "  <tbody>\n",
              "    <tr>\n",
              "      <th>8707</th>\n",
              "      <td>Order ID</td>\n",
              "      <td>Product</td>\n",
              "      <td>Quantity Ordered</td>\n",
              "      <td>Price Each</td>\n",
              "      <td>Order Date</td>\n",
              "      <td>Purchase Address</td>\n",
              "      <td>Or</td>\n",
              "    </tr>\n",
              "    <tr>\n",
              "      <th>11249</th>\n",
              "      <td>Order ID</td>\n",
              "      <td>Product</td>\n",
              "      <td>Quantity Ordered</td>\n",
              "      <td>Price Each</td>\n",
              "      <td>Order Date</td>\n",
              "      <td>Purchase Address</td>\n",
              "      <td>Or</td>\n",
              "    </tr>\n",
              "    <tr>\n",
              "      <th>6204</th>\n",
              "      <td>Order ID</td>\n",
              "      <td>Product</td>\n",
              "      <td>Quantity Ordered</td>\n",
              "      <td>Price Each</td>\n",
              "      <td>Order Date</td>\n",
              "      <td>Purchase Address</td>\n",
              "      <td>Or</td>\n",
              "    </tr>\n",
              "    <tr>\n",
              "      <th>12336</th>\n",
              "      <td>Order ID</td>\n",
              "      <td>Product</td>\n",
              "      <td>Quantity Ordered</td>\n",
              "      <td>Price Each</td>\n",
              "      <td>Order Date</td>\n",
              "      <td>Purchase Address</td>\n",
              "      <td>Or</td>\n",
              "    </tr>\n",
              "    <tr>\n",
              "      <th>5593</th>\n",
              "      <td>Order ID</td>\n",
              "      <td>Product</td>\n",
              "      <td>Quantity Ordered</td>\n",
              "      <td>Price Each</td>\n",
              "      <td>Order Date</td>\n",
              "      <td>Purchase Address</td>\n",
              "      <td>Or</td>\n",
              "    </tr>\n",
              "  </tbody>\n",
              "</table>\n",
              "</div>\n",
              "      <button class=\"colab-df-convert\" onclick=\"convertToInteractive('df-b8f2e075-d741-43e9-ae7d-fee8fb15c456')\"\n",
              "              title=\"Convert this dataframe to an interactive table.\"\n",
              "              style=\"display:none;\">\n",
              "        \n",
              "  <svg xmlns=\"http://www.w3.org/2000/svg\" height=\"24px\"viewBox=\"0 0 24 24\"\n",
              "       width=\"24px\">\n",
              "    <path d=\"M0 0h24v24H0V0z\" fill=\"none\"/>\n",
              "    <path d=\"M18.56 5.44l.94 2.06.94-2.06 2.06-.94-2.06-.94-.94-2.06-.94 2.06-2.06.94zm-11 1L8.5 8.5l.94-2.06 2.06-.94-2.06-.94L8.5 2.5l-.94 2.06-2.06.94zm10 10l.94 2.06.94-2.06 2.06-.94-2.06-.94-.94-2.06-.94 2.06-2.06.94z\"/><path d=\"M17.41 7.96l-1.37-1.37c-.4-.4-.92-.59-1.43-.59-.52 0-1.04.2-1.43.59L10.3 9.45l-7.72 7.72c-.78.78-.78 2.05 0 2.83L4 21.41c.39.39.9.59 1.41.59.51 0 1.02-.2 1.41-.59l7.78-7.78 2.81-2.81c.8-.78.8-2.07 0-2.86zM5.41 20L4 18.59l7.72-7.72 1.47 1.35L5.41 20z\"/>\n",
              "  </svg>\n",
              "      </button>\n",
              "      \n",
              "  <style>\n",
              "    .colab-df-container {\n",
              "      display:flex;\n",
              "      flex-wrap:wrap;\n",
              "      gap: 12px;\n",
              "    }\n",
              "\n",
              "    .colab-df-convert {\n",
              "      background-color: #E8F0FE;\n",
              "      border: none;\n",
              "      border-radius: 50%;\n",
              "      cursor: pointer;\n",
              "      display: none;\n",
              "      fill: #1967D2;\n",
              "      height: 32px;\n",
              "      padding: 0 0 0 0;\n",
              "      width: 32px;\n",
              "    }\n",
              "\n",
              "    .colab-df-convert:hover {\n",
              "      background-color: #E2EBFA;\n",
              "      box-shadow: 0px 1px 2px rgba(60, 64, 67, 0.3), 0px 1px 3px 1px rgba(60, 64, 67, 0.15);\n",
              "      fill: #174EA6;\n",
              "    }\n",
              "\n",
              "    [theme=dark] .colab-df-convert {\n",
              "      background-color: #3B4455;\n",
              "      fill: #D2E3FC;\n",
              "    }\n",
              "\n",
              "    [theme=dark] .colab-df-convert:hover {\n",
              "      background-color: #434B5C;\n",
              "      box-shadow: 0px 1px 3px 1px rgba(0, 0, 0, 0.15);\n",
              "      filter: drop-shadow(0px 1px 2px rgba(0, 0, 0, 0.3));\n",
              "      fill: #FFFFFF;\n",
              "    }\n",
              "  </style>\n",
              "\n",
              "      <script>\n",
              "        const buttonEl =\n",
              "          document.querySelector('#df-b8f2e075-d741-43e9-ae7d-fee8fb15c456 button.colab-df-convert');\n",
              "        buttonEl.style.display =\n",
              "          google.colab.kernel.accessAllowed ? 'block' : 'none';\n",
              "\n",
              "        async function convertToInteractive(key) {\n",
              "          const element = document.querySelector('#df-b8f2e075-d741-43e9-ae7d-fee8fb15c456');\n",
              "          const dataTable =\n",
              "            await google.colab.kernel.invokeFunction('convertToInteractive',\n",
              "                                                     [key], {});\n",
              "          if (!dataTable) return;\n",
              "\n",
              "          const docLinkHtml = 'Like what you see? Visit the ' +\n",
              "            '<a target=\"_blank\" href=https://colab.research.google.com/notebooks/data_table.ipynb>data table notebook</a>'\n",
              "            + ' to learn more about interactive tables.';\n",
              "          element.innerHTML = '';\n",
              "          dataTable['output_type'] = 'display_data';\n",
              "          await google.colab.output.renderOutput(dataTable, element);\n",
              "          const docLink = document.createElement('div');\n",
              "          docLink.innerHTML = docLinkHtml;\n",
              "          element.appendChild(docLink);\n",
              "        }\n",
              "      </script>\n",
              "    </div>\n",
              "  </div>\n",
              "  "
            ]
          },
          "metadata": {},
          "execution_count": 44
        }
      ]
    },
    {
      "cell_type": "code",
      "source": [
        "all_data[all_data[\"Order Date\"].str[0:2] == 'Or']"
      ],
      "metadata": {
        "colab": {
          "base_uri": "https://localhost:8080/",
          "height": 645
        },
        "id": "riLu481NgUOL",
        "outputId": "7d2b7aea-3718-4361-e1e3-e0051c466b76"
      },
      "execution_count": 45,
      "outputs": [
        {
          "output_type": "execute_result",
          "data": {
            "text/plain": [
              "       Order ID  Product  Quantity Ordered  Price Each  Order Date  \\\n",
              "254    Order ID  Product  Quantity Ordered  Price Each  Order Date   \n",
              "705    Order ID  Product  Quantity Ordered  Price Each  Order Date   \n",
              "1101   Order ID  Product  Quantity Ordered  Price Each  Order Date   \n",
              "2875   Order ID  Product  Quantity Ordered  Price Each  Order Date   \n",
              "3708   Order ID  Product  Quantity Ordered  Price Each  Order Date   \n",
              "...         ...      ...               ...         ...         ...   \n",
              "13481  Order ID  Product  Quantity Ordered  Price Each  Order Date   \n",
              "13773  Order ID  Product  Quantity Ordered  Price Each  Order Date   \n",
              "14233  Order ID  Product  Quantity Ordered  Price Each  Order Date   \n",
              "14416  Order ID  Product  Quantity Ordered  Price Each  Order Date   \n",
              "14626  Order ID  Product  Quantity Ordered  Price Each  Order Date   \n",
              "\n",
              "       Purchase Address Month  \n",
              "254    Purchase Address    Or  \n",
              "705    Purchase Address    Or  \n",
              "1101   Purchase Address    Or  \n",
              "2875   Purchase Address    Or  \n",
              "3708   Purchase Address    Or  \n",
              "...                 ...   ...  \n",
              "13481  Purchase Address    Or  \n",
              "13773  Purchase Address    Or  \n",
              "14233  Purchase Address    Or  \n",
              "14416  Purchase Address    Or  \n",
              "14626  Purchase Address    Or  \n",
              "\n",
              "[355 rows x 7 columns]"
            ],
            "text/html": [
              "\n",
              "  <div id=\"df-3087814b-b0c2-45d4-9a06-db2d387fd946\">\n",
              "    <div class=\"colab-df-container\">\n",
              "      <div>\n",
              "<style scoped>\n",
              "    .dataframe tbody tr th:only-of-type {\n",
              "        vertical-align: middle;\n",
              "    }\n",
              "\n",
              "    .dataframe tbody tr th {\n",
              "        vertical-align: top;\n",
              "    }\n",
              "\n",
              "    .dataframe thead th {\n",
              "        text-align: right;\n",
              "    }\n",
              "</style>\n",
              "<table border=\"1\" class=\"dataframe\">\n",
              "  <thead>\n",
              "    <tr style=\"text-align: right;\">\n",
              "      <th></th>\n",
              "      <th>Order ID</th>\n",
              "      <th>Product</th>\n",
              "      <th>Quantity Ordered</th>\n",
              "      <th>Price Each</th>\n",
              "      <th>Order Date</th>\n",
              "      <th>Purchase Address</th>\n",
              "      <th>Month</th>\n",
              "    </tr>\n",
              "  </thead>\n",
              "  <tbody>\n",
              "    <tr>\n",
              "      <th>254</th>\n",
              "      <td>Order ID</td>\n",
              "      <td>Product</td>\n",
              "      <td>Quantity Ordered</td>\n",
              "      <td>Price Each</td>\n",
              "      <td>Order Date</td>\n",
              "      <td>Purchase Address</td>\n",
              "      <td>Or</td>\n",
              "    </tr>\n",
              "    <tr>\n",
              "      <th>705</th>\n",
              "      <td>Order ID</td>\n",
              "      <td>Product</td>\n",
              "      <td>Quantity Ordered</td>\n",
              "      <td>Price Each</td>\n",
              "      <td>Order Date</td>\n",
              "      <td>Purchase Address</td>\n",
              "      <td>Or</td>\n",
              "    </tr>\n",
              "    <tr>\n",
              "      <th>1101</th>\n",
              "      <td>Order ID</td>\n",
              "      <td>Product</td>\n",
              "      <td>Quantity Ordered</td>\n",
              "      <td>Price Each</td>\n",
              "      <td>Order Date</td>\n",
              "      <td>Purchase Address</td>\n",
              "      <td>Or</td>\n",
              "    </tr>\n",
              "    <tr>\n",
              "      <th>2875</th>\n",
              "      <td>Order ID</td>\n",
              "      <td>Product</td>\n",
              "      <td>Quantity Ordered</td>\n",
              "      <td>Price Each</td>\n",
              "      <td>Order Date</td>\n",
              "      <td>Purchase Address</td>\n",
              "      <td>Or</td>\n",
              "    </tr>\n",
              "    <tr>\n",
              "      <th>3708</th>\n",
              "      <td>Order ID</td>\n",
              "      <td>Product</td>\n",
              "      <td>Quantity Ordered</td>\n",
              "      <td>Price Each</td>\n",
              "      <td>Order Date</td>\n",
              "      <td>Purchase Address</td>\n",
              "      <td>Or</td>\n",
              "    </tr>\n",
              "    <tr>\n",
              "      <th>...</th>\n",
              "      <td>...</td>\n",
              "      <td>...</td>\n",
              "      <td>...</td>\n",
              "      <td>...</td>\n",
              "      <td>...</td>\n",
              "      <td>...</td>\n",
              "      <td>...</td>\n",
              "    </tr>\n",
              "    <tr>\n",
              "      <th>13481</th>\n",
              "      <td>Order ID</td>\n",
              "      <td>Product</td>\n",
              "      <td>Quantity Ordered</td>\n",
              "      <td>Price Each</td>\n",
              "      <td>Order Date</td>\n",
              "      <td>Purchase Address</td>\n",
              "      <td>Or</td>\n",
              "    </tr>\n",
              "    <tr>\n",
              "      <th>13773</th>\n",
              "      <td>Order ID</td>\n",
              "      <td>Product</td>\n",
              "      <td>Quantity Ordered</td>\n",
              "      <td>Price Each</td>\n",
              "      <td>Order Date</td>\n",
              "      <td>Purchase Address</td>\n",
              "      <td>Or</td>\n",
              "    </tr>\n",
              "    <tr>\n",
              "      <th>14233</th>\n",
              "      <td>Order ID</td>\n",
              "      <td>Product</td>\n",
              "      <td>Quantity Ordered</td>\n",
              "      <td>Price Each</td>\n",
              "      <td>Order Date</td>\n",
              "      <td>Purchase Address</td>\n",
              "      <td>Or</td>\n",
              "    </tr>\n",
              "    <tr>\n",
              "      <th>14416</th>\n",
              "      <td>Order ID</td>\n",
              "      <td>Product</td>\n",
              "      <td>Quantity Ordered</td>\n",
              "      <td>Price Each</td>\n",
              "      <td>Order Date</td>\n",
              "      <td>Purchase Address</td>\n",
              "      <td>Or</td>\n",
              "    </tr>\n",
              "    <tr>\n",
              "      <th>14626</th>\n",
              "      <td>Order ID</td>\n",
              "      <td>Product</td>\n",
              "      <td>Quantity Ordered</td>\n",
              "      <td>Price Each</td>\n",
              "      <td>Order Date</td>\n",
              "      <td>Purchase Address</td>\n",
              "      <td>Or</td>\n",
              "    </tr>\n",
              "  </tbody>\n",
              "</table>\n",
              "<p>355 rows × 7 columns</p>\n",
              "</div>\n",
              "      <button class=\"colab-df-convert\" onclick=\"convertToInteractive('df-3087814b-b0c2-45d4-9a06-db2d387fd946')\"\n",
              "              title=\"Convert this dataframe to an interactive table.\"\n",
              "              style=\"display:none;\">\n",
              "        \n",
              "  <svg xmlns=\"http://www.w3.org/2000/svg\" height=\"24px\"viewBox=\"0 0 24 24\"\n",
              "       width=\"24px\">\n",
              "    <path d=\"M0 0h24v24H0V0z\" fill=\"none\"/>\n",
              "    <path d=\"M18.56 5.44l.94 2.06.94-2.06 2.06-.94-2.06-.94-.94-2.06-.94 2.06-2.06.94zm-11 1L8.5 8.5l.94-2.06 2.06-.94-2.06-.94L8.5 2.5l-.94 2.06-2.06.94zm10 10l.94 2.06.94-2.06 2.06-.94-2.06-.94-.94-2.06-.94 2.06-2.06.94z\"/><path d=\"M17.41 7.96l-1.37-1.37c-.4-.4-.92-.59-1.43-.59-.52 0-1.04.2-1.43.59L10.3 9.45l-7.72 7.72c-.78.78-.78 2.05 0 2.83L4 21.41c.39.39.9.59 1.41.59.51 0 1.02-.2 1.41-.59l7.78-7.78 2.81-2.81c.8-.78.8-2.07 0-2.86zM5.41 20L4 18.59l7.72-7.72 1.47 1.35L5.41 20z\"/>\n",
              "  </svg>\n",
              "      </button>\n",
              "      \n",
              "  <style>\n",
              "    .colab-df-container {\n",
              "      display:flex;\n",
              "      flex-wrap:wrap;\n",
              "      gap: 12px;\n",
              "    }\n",
              "\n",
              "    .colab-df-convert {\n",
              "      background-color: #E8F0FE;\n",
              "      border: none;\n",
              "      border-radius: 50%;\n",
              "      cursor: pointer;\n",
              "      display: none;\n",
              "      fill: #1967D2;\n",
              "      height: 32px;\n",
              "      padding: 0 0 0 0;\n",
              "      width: 32px;\n",
              "    }\n",
              "\n",
              "    .colab-df-convert:hover {\n",
              "      background-color: #E2EBFA;\n",
              "      box-shadow: 0px 1px 2px rgba(60, 64, 67, 0.3), 0px 1px 3px 1px rgba(60, 64, 67, 0.15);\n",
              "      fill: #174EA6;\n",
              "    }\n",
              "\n",
              "    [theme=dark] .colab-df-convert {\n",
              "      background-color: #3B4455;\n",
              "      fill: #D2E3FC;\n",
              "    }\n",
              "\n",
              "    [theme=dark] .colab-df-convert:hover {\n",
              "      background-color: #434B5C;\n",
              "      box-shadow: 0px 1px 3px 1px rgba(0, 0, 0, 0.15);\n",
              "      filter: drop-shadow(0px 1px 2px rgba(0, 0, 0, 0.3));\n",
              "      fill: #FFFFFF;\n",
              "    }\n",
              "  </style>\n",
              "\n",
              "      <script>\n",
              "        const buttonEl =\n",
              "          document.querySelector('#df-3087814b-b0c2-45d4-9a06-db2d387fd946 button.colab-df-convert');\n",
              "        buttonEl.style.display =\n",
              "          google.colab.kernel.accessAllowed ? 'block' : 'none';\n",
              "\n",
              "        async function convertToInteractive(key) {\n",
              "          const element = document.querySelector('#df-3087814b-b0c2-45d4-9a06-db2d387fd946');\n",
              "          const dataTable =\n",
              "            await google.colab.kernel.invokeFunction('convertToInteractive',\n",
              "                                                     [key], {});\n",
              "          if (!dataTable) return;\n",
              "\n",
              "          const docLinkHtml = 'Like what you see? Visit the ' +\n",
              "            '<a target=\"_blank\" href=https://colab.research.google.com/notebooks/data_table.ipynb>data table notebook</a>'\n",
              "            + ' to learn more about interactive tables.';\n",
              "          element.innerHTML = '';\n",
              "          dataTable['output_type'] = 'display_data';\n",
              "          await google.colab.output.renderOutput(dataTable, element);\n",
              "          const docLink = document.createElement('div');\n",
              "          docLink.innerHTML = docLinkHtml;\n",
              "          element.appendChild(docLink);\n",
              "        }\n",
              "      </script>\n",
              "    </div>\n",
              "  </div>\n",
              "  "
            ]
          },
          "metadata": {},
          "execution_count": 45
        }
      ]
    },
    {
      "cell_type": "code",
      "source": [
        "# THE COLUMN IS BEING DUBLICATED TO ROWS\n",
        "# removing rows, having 'Or' in Order Date\n",
        "# Keeping rows, not equal to 'Or' "
      ],
      "metadata": {
        "id": "yt8LbTzegUQr"
      },
      "execution_count": null,
      "outputs": []
    },
    {
      "cell_type": "code",
      "source": [
        "all_data = all_data[all_data[\"Order Date\"].str[0:2] != 'Or']\n",
        "all_data.info()"
      ],
      "metadata": {
        "colab": {
          "base_uri": "https://localhost:8080/"
        },
        "id": "QvP-93Q8gUUd",
        "outputId": "ad1dae9d-4da3-41b5-b399-761bb85c34e2"
      },
      "execution_count": 46,
      "outputs": [
        {
          "output_type": "stream",
          "name": "stdout",
          "text": [
            "<class 'pandas.core.frame.DataFrame'>\n",
            "Int64Index: 185950 entries, 0 to 15225\n",
            "Data columns (total 7 columns):\n",
            " #   Column            Non-Null Count   Dtype \n",
            "---  ------            --------------   ----- \n",
            " 0   Order ID          185950 non-null  object\n",
            " 1   Product           185950 non-null  object\n",
            " 2   Quantity Ordered  185950 non-null  object\n",
            " 3   Price Each        185950 non-null  object\n",
            " 4   Order Date        185950 non-null  object\n",
            " 5   Purchase Address  185950 non-null  object\n",
            " 6   Month             185950 non-null  object\n",
            "dtypes: object(7)\n",
            "memory usage: 11.3+ MB\n"
          ]
        }
      ]
    },
    {
      "cell_type": "code",
      "source": [
        "all_data[all_data[\"Order Date\"].str[0:2] == 'Or']"
      ],
      "metadata": {
        "colab": {
          "base_uri": "https://localhost:8080/",
          "height": 49
        },
        "id": "g-yMOAzUhOJ8",
        "outputId": "fff785a8-6bcb-4f69-f1a7-6b95b3349135"
      },
      "execution_count": 47,
      "outputs": [
        {
          "output_type": "execute_result",
          "data": {
            "text/plain": [
              "Empty DataFrame\n",
              "Columns: [Order ID, Product, Quantity Ordered, Price Each, Order Date, Purchase Address, Month]\n",
              "Index: []"
            ],
            "text/html": [
              "\n",
              "  <div id=\"df-ffa2467f-864f-4c71-b744-3b5076df63ed\">\n",
              "    <div class=\"colab-df-container\">\n",
              "      <div>\n",
              "<style scoped>\n",
              "    .dataframe tbody tr th:only-of-type {\n",
              "        vertical-align: middle;\n",
              "    }\n",
              "\n",
              "    .dataframe tbody tr th {\n",
              "        vertical-align: top;\n",
              "    }\n",
              "\n",
              "    .dataframe thead th {\n",
              "        text-align: right;\n",
              "    }\n",
              "</style>\n",
              "<table border=\"1\" class=\"dataframe\">\n",
              "  <thead>\n",
              "    <tr style=\"text-align: right;\">\n",
              "      <th></th>\n",
              "      <th>Order ID</th>\n",
              "      <th>Product</th>\n",
              "      <th>Quantity Ordered</th>\n",
              "      <th>Price Each</th>\n",
              "      <th>Order Date</th>\n",
              "      <th>Purchase Address</th>\n",
              "      <th>Month</th>\n",
              "    </tr>\n",
              "  </thead>\n",
              "  <tbody>\n",
              "  </tbody>\n",
              "</table>\n",
              "</div>\n",
              "      <button class=\"colab-df-convert\" onclick=\"convertToInteractive('df-ffa2467f-864f-4c71-b744-3b5076df63ed')\"\n",
              "              title=\"Convert this dataframe to an interactive table.\"\n",
              "              style=\"display:none;\">\n",
              "        \n",
              "  <svg xmlns=\"http://www.w3.org/2000/svg\" height=\"24px\"viewBox=\"0 0 24 24\"\n",
              "       width=\"24px\">\n",
              "    <path d=\"M0 0h24v24H0V0z\" fill=\"none\"/>\n",
              "    <path d=\"M18.56 5.44l.94 2.06.94-2.06 2.06-.94-2.06-.94-.94-2.06-.94 2.06-2.06.94zm-11 1L8.5 8.5l.94-2.06 2.06-.94-2.06-.94L8.5 2.5l-.94 2.06-2.06.94zm10 10l.94 2.06.94-2.06 2.06-.94-2.06-.94-.94-2.06-.94 2.06-2.06.94z\"/><path d=\"M17.41 7.96l-1.37-1.37c-.4-.4-.92-.59-1.43-.59-.52 0-1.04.2-1.43.59L10.3 9.45l-7.72 7.72c-.78.78-.78 2.05 0 2.83L4 21.41c.39.39.9.59 1.41.59.51 0 1.02-.2 1.41-.59l7.78-7.78 2.81-2.81c.8-.78.8-2.07 0-2.86zM5.41 20L4 18.59l7.72-7.72 1.47 1.35L5.41 20z\"/>\n",
              "  </svg>\n",
              "      </button>\n",
              "      \n",
              "  <style>\n",
              "    .colab-df-container {\n",
              "      display:flex;\n",
              "      flex-wrap:wrap;\n",
              "      gap: 12px;\n",
              "    }\n",
              "\n",
              "    .colab-df-convert {\n",
              "      background-color: #E8F0FE;\n",
              "      border: none;\n",
              "      border-radius: 50%;\n",
              "      cursor: pointer;\n",
              "      display: none;\n",
              "      fill: #1967D2;\n",
              "      height: 32px;\n",
              "      padding: 0 0 0 0;\n",
              "      width: 32px;\n",
              "    }\n",
              "\n",
              "    .colab-df-convert:hover {\n",
              "      background-color: #E2EBFA;\n",
              "      box-shadow: 0px 1px 2px rgba(60, 64, 67, 0.3), 0px 1px 3px 1px rgba(60, 64, 67, 0.15);\n",
              "      fill: #174EA6;\n",
              "    }\n",
              "\n",
              "    [theme=dark] .colab-df-convert {\n",
              "      background-color: #3B4455;\n",
              "      fill: #D2E3FC;\n",
              "    }\n",
              "\n",
              "    [theme=dark] .colab-df-convert:hover {\n",
              "      background-color: #434B5C;\n",
              "      box-shadow: 0px 1px 3px 1px rgba(0, 0, 0, 0.15);\n",
              "      filter: drop-shadow(0px 1px 2px rgba(0, 0, 0, 0.3));\n",
              "      fill: #FFFFFF;\n",
              "    }\n",
              "  </style>\n",
              "\n",
              "      <script>\n",
              "        const buttonEl =\n",
              "          document.querySelector('#df-ffa2467f-864f-4c71-b744-3b5076df63ed button.colab-df-convert');\n",
              "        buttonEl.style.display =\n",
              "          google.colab.kernel.accessAllowed ? 'block' : 'none';\n",
              "\n",
              "        async function convertToInteractive(key) {\n",
              "          const element = document.querySelector('#df-ffa2467f-864f-4c71-b744-3b5076df63ed');\n",
              "          const dataTable =\n",
              "            await google.colab.kernel.invokeFunction('convertToInteractive',\n",
              "                                                     [key], {});\n",
              "          if (!dataTable) return;\n",
              "\n",
              "          const docLinkHtml = 'Like what you see? Visit the ' +\n",
              "            '<a target=\"_blank\" href=https://colab.research.google.com/notebooks/data_table.ipynb>data table notebook</a>'\n",
              "            + ' to learn more about interactive tables.';\n",
              "          element.innerHTML = '';\n",
              "          dataTable['output_type'] = 'display_data';\n",
              "          await google.colab.output.renderOutput(dataTable, element);\n",
              "          const docLink = document.createElement('div');\n",
              "          docLink.innerHTML = docLinkHtml;\n",
              "          element.appendChild(docLink);\n",
              "        }\n",
              "      </script>\n",
              "    </div>\n",
              "  </div>\n",
              "  "
            ]
          },
          "metadata": {},
          "execution_count": 47
        }
      ]
    },
    {
      "cell_type": "markdown",
      "source": [
        "## ANALYSIS"
      ],
      "metadata": {
        "id": "2LxUQ5zzTkV5"
      }
    },
    {
      "cell_type": "markdown",
      "source": [
        "**Question 1: Best Month for sales? How much sales made in that month ?**"
      ],
      "metadata": {
        "id": "IIxDjzUJTSYK"
      }
    },
    {
      "cell_type": "code",
      "source": [
        "## ADD ANOTHER COLUMN FOR ONLY MONTH\n",
        "# Data Format given : 12/09/19\n",
        "# to take the first two character from Order date string"
      ],
      "metadata": {
        "id": "aCg-SkNMTAF-"
      },
      "execution_count": 15,
      "outputs": []
    },
    {
      "cell_type": "code",
      "source": [
        "#creating a column\n",
        "all_data[\"Month\"] = 0\n",
        "all_data.head(2)"
      ],
      "metadata": {
        "colab": {
          "base_uri": "https://localhost:8080/",
          "height": 112
        },
        "id": "GWpDT8gWTnFS",
        "outputId": "c382c0d1-d2ba-4ab0-aeca-2b0ee388f0e3"
      },
      "execution_count": 16,
      "outputs": [
        {
          "output_type": "execute_result",
          "data": {
            "text/plain": [
              "  Order ID             Product Quantity Ordered Price Each      Order Date  \\\n",
              "0   295665  Macbook Pro Laptop                1       1700  12/30/19 00:01   \n",
              "1   295666  LG Washing Machine                1      600.0  12/29/19 07:03   \n",
              "\n",
              "                         Purchase Address  Month  \n",
              "0  136 Church St, New York City, NY 10001      0  \n",
              "1     562 2nd St, New York City, NY 10001      0  "
            ],
            "text/html": [
              "\n",
              "  <div id=\"df-623f6a2c-25db-4578-925b-da71a1652c91\">\n",
              "    <div class=\"colab-df-container\">\n",
              "      <div>\n",
              "<style scoped>\n",
              "    .dataframe tbody tr th:only-of-type {\n",
              "        vertical-align: middle;\n",
              "    }\n",
              "\n",
              "    .dataframe tbody tr th {\n",
              "        vertical-align: top;\n",
              "    }\n",
              "\n",
              "    .dataframe thead th {\n",
              "        text-align: right;\n",
              "    }\n",
              "</style>\n",
              "<table border=\"1\" class=\"dataframe\">\n",
              "  <thead>\n",
              "    <tr style=\"text-align: right;\">\n",
              "      <th></th>\n",
              "      <th>Order ID</th>\n",
              "      <th>Product</th>\n",
              "      <th>Quantity Ordered</th>\n",
              "      <th>Price Each</th>\n",
              "      <th>Order Date</th>\n",
              "      <th>Purchase Address</th>\n",
              "      <th>Month</th>\n",
              "    </tr>\n",
              "  </thead>\n",
              "  <tbody>\n",
              "    <tr>\n",
              "      <th>0</th>\n",
              "      <td>295665</td>\n",
              "      <td>Macbook Pro Laptop</td>\n",
              "      <td>1</td>\n",
              "      <td>1700</td>\n",
              "      <td>12/30/19 00:01</td>\n",
              "      <td>136 Church St, New York City, NY 10001</td>\n",
              "      <td>0</td>\n",
              "    </tr>\n",
              "    <tr>\n",
              "      <th>1</th>\n",
              "      <td>295666</td>\n",
              "      <td>LG Washing Machine</td>\n",
              "      <td>1</td>\n",
              "      <td>600.0</td>\n",
              "      <td>12/29/19 07:03</td>\n",
              "      <td>562 2nd St, New York City, NY 10001</td>\n",
              "      <td>0</td>\n",
              "    </tr>\n",
              "  </tbody>\n",
              "</table>\n",
              "</div>\n",
              "      <button class=\"colab-df-convert\" onclick=\"convertToInteractive('df-623f6a2c-25db-4578-925b-da71a1652c91')\"\n",
              "              title=\"Convert this dataframe to an interactive table.\"\n",
              "              style=\"display:none;\">\n",
              "        \n",
              "  <svg xmlns=\"http://www.w3.org/2000/svg\" height=\"24px\"viewBox=\"0 0 24 24\"\n",
              "       width=\"24px\">\n",
              "    <path d=\"M0 0h24v24H0V0z\" fill=\"none\"/>\n",
              "    <path d=\"M18.56 5.44l.94 2.06.94-2.06 2.06-.94-2.06-.94-.94-2.06-.94 2.06-2.06.94zm-11 1L8.5 8.5l.94-2.06 2.06-.94-2.06-.94L8.5 2.5l-.94 2.06-2.06.94zm10 10l.94 2.06.94-2.06 2.06-.94-2.06-.94-.94-2.06-.94 2.06-2.06.94z\"/><path d=\"M17.41 7.96l-1.37-1.37c-.4-.4-.92-.59-1.43-.59-.52 0-1.04.2-1.43.59L10.3 9.45l-7.72 7.72c-.78.78-.78 2.05 0 2.83L4 21.41c.39.39.9.59 1.41.59.51 0 1.02-.2 1.41-.59l7.78-7.78 2.81-2.81c.8-.78.8-2.07 0-2.86zM5.41 20L4 18.59l7.72-7.72 1.47 1.35L5.41 20z\"/>\n",
              "  </svg>\n",
              "      </button>\n",
              "      \n",
              "  <style>\n",
              "    .colab-df-container {\n",
              "      display:flex;\n",
              "      flex-wrap:wrap;\n",
              "      gap: 12px;\n",
              "    }\n",
              "\n",
              "    .colab-df-convert {\n",
              "      background-color: #E8F0FE;\n",
              "      border: none;\n",
              "      border-radius: 50%;\n",
              "      cursor: pointer;\n",
              "      display: none;\n",
              "      fill: #1967D2;\n",
              "      height: 32px;\n",
              "      padding: 0 0 0 0;\n",
              "      width: 32px;\n",
              "    }\n",
              "\n",
              "    .colab-df-convert:hover {\n",
              "      background-color: #E2EBFA;\n",
              "      box-shadow: 0px 1px 2px rgba(60, 64, 67, 0.3), 0px 1px 3px 1px rgba(60, 64, 67, 0.15);\n",
              "      fill: #174EA6;\n",
              "    }\n",
              "\n",
              "    [theme=dark] .colab-df-convert {\n",
              "      background-color: #3B4455;\n",
              "      fill: #D2E3FC;\n",
              "    }\n",
              "\n",
              "    [theme=dark] .colab-df-convert:hover {\n",
              "      background-color: #434B5C;\n",
              "      box-shadow: 0px 1px 3px 1px rgba(0, 0, 0, 0.15);\n",
              "      filter: drop-shadow(0px 1px 2px rgba(0, 0, 0, 0.3));\n",
              "      fill: #FFFFFF;\n",
              "    }\n",
              "  </style>\n",
              "\n",
              "      <script>\n",
              "        const buttonEl =\n",
              "          document.querySelector('#df-623f6a2c-25db-4578-925b-da71a1652c91 button.colab-df-convert');\n",
              "        buttonEl.style.display =\n",
              "          google.colab.kernel.accessAllowed ? 'block' : 'none';\n",
              "\n",
              "        async function convertToInteractive(key) {\n",
              "          const element = document.querySelector('#df-623f6a2c-25db-4578-925b-da71a1652c91');\n",
              "          const dataTable =\n",
              "            await google.colab.kernel.invokeFunction('convertToInteractive',\n",
              "                                                     [key], {});\n",
              "          if (!dataTable) return;\n",
              "\n",
              "          const docLinkHtml = 'Like what you see? Visit the ' +\n",
              "            '<a target=\"_blank\" href=https://colab.research.google.com/notebooks/data_table.ipynb>data table notebook</a>'\n",
              "            + ' to learn more about interactive tables.';\n",
              "          element.innerHTML = '';\n",
              "          dataTable['output_type'] = 'display_data';\n",
              "          await google.colab.output.renderOutput(dataTable, element);\n",
              "          const docLink = document.createElement('div');\n",
              "          docLink.innerHTML = docLinkHtml;\n",
              "          element.appendChild(docLink);\n",
              "        }\n",
              "      </script>\n",
              "    </div>\n",
              "  </div>\n",
              "  "
            ]
          },
          "metadata": {},
          "execution_count": 16
        }
      ]
    },
    {
      "cell_type": "code",
      "source": [
        "#adding the correct month to month column\n",
        "all_data[\"Month\"] = all_data[\"Order Date\"].str[0:2]\n",
        "  #converting to string and accessing the first two characters\n",
        "all_data.sample(3)"
      ],
      "metadata": {
        "colab": {
          "base_uri": "https://localhost:8080/",
          "height": 143
        },
        "id": "aIowP8WyTnI6",
        "outputId": "2331453e-b5a4-4022-abac-2a5e3dae7a98"
      },
      "execution_count": 17,
      "outputs": [
        {
          "output_type": "execute_result",
          "data": {
            "text/plain": [
              "      Order ID                   Product Quantity Ordered Price Each  \\\n",
              "5081    253027          Wired Headphones                1      11.99   \n",
              "10963   160987  Apple Airpods Headphones                1        150   \n",
              "8500    231030    AAA Batteries (4-pack)                1       2.99   \n",
              "\n",
              "           Order Date                      Purchase Address Month  \n",
              "5081   09/23/19 20:42   217 1st St, San Francisco, CA 94016    09  \n",
              "10963  02/11/19 18:09  348 10th St, San Francisco, CA 94016    02  \n",
              "8500   07/20/19 10:34    91 7th St, San Francisco, CA 94016    07  "
            ],
            "text/html": [
              "\n",
              "  <div id=\"df-13e576ff-8ef6-4a3b-b53b-0bb2f3ffd22c\">\n",
              "    <div class=\"colab-df-container\">\n",
              "      <div>\n",
              "<style scoped>\n",
              "    .dataframe tbody tr th:only-of-type {\n",
              "        vertical-align: middle;\n",
              "    }\n",
              "\n",
              "    .dataframe tbody tr th {\n",
              "        vertical-align: top;\n",
              "    }\n",
              "\n",
              "    .dataframe thead th {\n",
              "        text-align: right;\n",
              "    }\n",
              "</style>\n",
              "<table border=\"1\" class=\"dataframe\">\n",
              "  <thead>\n",
              "    <tr style=\"text-align: right;\">\n",
              "      <th></th>\n",
              "      <th>Order ID</th>\n",
              "      <th>Product</th>\n",
              "      <th>Quantity Ordered</th>\n",
              "      <th>Price Each</th>\n",
              "      <th>Order Date</th>\n",
              "      <th>Purchase Address</th>\n",
              "      <th>Month</th>\n",
              "    </tr>\n",
              "  </thead>\n",
              "  <tbody>\n",
              "    <tr>\n",
              "      <th>5081</th>\n",
              "      <td>253027</td>\n",
              "      <td>Wired Headphones</td>\n",
              "      <td>1</td>\n",
              "      <td>11.99</td>\n",
              "      <td>09/23/19 20:42</td>\n",
              "      <td>217 1st St, San Francisco, CA 94016</td>\n",
              "      <td>09</td>\n",
              "    </tr>\n",
              "    <tr>\n",
              "      <th>10963</th>\n",
              "      <td>160987</td>\n",
              "      <td>Apple Airpods Headphones</td>\n",
              "      <td>1</td>\n",
              "      <td>150</td>\n",
              "      <td>02/11/19 18:09</td>\n",
              "      <td>348 10th St, San Francisco, CA 94016</td>\n",
              "      <td>02</td>\n",
              "    </tr>\n",
              "    <tr>\n",
              "      <th>8500</th>\n",
              "      <td>231030</td>\n",
              "      <td>AAA Batteries (4-pack)</td>\n",
              "      <td>1</td>\n",
              "      <td>2.99</td>\n",
              "      <td>07/20/19 10:34</td>\n",
              "      <td>91 7th St, San Francisco, CA 94016</td>\n",
              "      <td>07</td>\n",
              "    </tr>\n",
              "  </tbody>\n",
              "</table>\n",
              "</div>\n",
              "      <button class=\"colab-df-convert\" onclick=\"convertToInteractive('df-13e576ff-8ef6-4a3b-b53b-0bb2f3ffd22c')\"\n",
              "              title=\"Convert this dataframe to an interactive table.\"\n",
              "              style=\"display:none;\">\n",
              "        \n",
              "  <svg xmlns=\"http://www.w3.org/2000/svg\" height=\"24px\"viewBox=\"0 0 24 24\"\n",
              "       width=\"24px\">\n",
              "    <path d=\"M0 0h24v24H0V0z\" fill=\"none\"/>\n",
              "    <path d=\"M18.56 5.44l.94 2.06.94-2.06 2.06-.94-2.06-.94-.94-2.06-.94 2.06-2.06.94zm-11 1L8.5 8.5l.94-2.06 2.06-.94-2.06-.94L8.5 2.5l-.94 2.06-2.06.94zm10 10l.94 2.06.94-2.06 2.06-.94-2.06-.94-.94-2.06-.94 2.06-2.06.94z\"/><path d=\"M17.41 7.96l-1.37-1.37c-.4-.4-.92-.59-1.43-.59-.52 0-1.04.2-1.43.59L10.3 9.45l-7.72 7.72c-.78.78-.78 2.05 0 2.83L4 21.41c.39.39.9.59 1.41.59.51 0 1.02-.2 1.41-.59l7.78-7.78 2.81-2.81c.8-.78.8-2.07 0-2.86zM5.41 20L4 18.59l7.72-7.72 1.47 1.35L5.41 20z\"/>\n",
              "  </svg>\n",
              "      </button>\n",
              "      \n",
              "  <style>\n",
              "    .colab-df-container {\n",
              "      display:flex;\n",
              "      flex-wrap:wrap;\n",
              "      gap: 12px;\n",
              "    }\n",
              "\n",
              "    .colab-df-convert {\n",
              "      background-color: #E8F0FE;\n",
              "      border: none;\n",
              "      border-radius: 50%;\n",
              "      cursor: pointer;\n",
              "      display: none;\n",
              "      fill: #1967D2;\n",
              "      height: 32px;\n",
              "      padding: 0 0 0 0;\n",
              "      width: 32px;\n",
              "    }\n",
              "\n",
              "    .colab-df-convert:hover {\n",
              "      background-color: #E2EBFA;\n",
              "      box-shadow: 0px 1px 2px rgba(60, 64, 67, 0.3), 0px 1px 3px 1px rgba(60, 64, 67, 0.15);\n",
              "      fill: #174EA6;\n",
              "    }\n",
              "\n",
              "    [theme=dark] .colab-df-convert {\n",
              "      background-color: #3B4455;\n",
              "      fill: #D2E3FC;\n",
              "    }\n",
              "\n",
              "    [theme=dark] .colab-df-convert:hover {\n",
              "      background-color: #434B5C;\n",
              "      box-shadow: 0px 1px 3px 1px rgba(0, 0, 0, 0.15);\n",
              "      filter: drop-shadow(0px 1px 2px rgba(0, 0, 0, 0.3));\n",
              "      fill: #FFFFFF;\n",
              "    }\n",
              "  </style>\n",
              "\n",
              "      <script>\n",
              "        const buttonEl =\n",
              "          document.querySelector('#df-13e576ff-8ef6-4a3b-b53b-0bb2f3ffd22c button.colab-df-convert');\n",
              "        buttonEl.style.display =\n",
              "          google.colab.kernel.accessAllowed ? 'block' : 'none';\n",
              "\n",
              "        async function convertToInteractive(key) {\n",
              "          const element = document.querySelector('#df-13e576ff-8ef6-4a3b-b53b-0bb2f3ffd22c');\n",
              "          const dataTable =\n",
              "            await google.colab.kernel.invokeFunction('convertToInteractive',\n",
              "                                                     [key], {});\n",
              "          if (!dataTable) return;\n",
              "\n",
              "          const docLinkHtml = 'Like what you see? Visit the ' +\n",
              "            '<a target=\"_blank\" href=https://colab.research.google.com/notebooks/data_table.ipynb>data table notebook</a>'\n",
              "            + ' to learn more about interactive tables.';\n",
              "          element.innerHTML = '';\n",
              "          dataTable['output_type'] = 'display_data';\n",
              "          await google.colab.output.renderOutput(dataTable, element);\n",
              "          const docLink = document.createElement('div');\n",
              "          docLink.innerHTML = docLinkHtml;\n",
              "          element.appendChild(docLink);\n",
              "        }\n",
              "      </script>\n",
              "    </div>\n",
              "  </div>\n",
              "  "
            ]
          },
          "metadata": {},
          "execution_count": 17
        }
      ]
    },
    {
      "cell_type": "code",
      "source": [
        "all_data[\"Month\"] = all_data[\"Month\"].astype('int32')\n",
        "all_data.sample(5)"
      ],
      "metadata": {
        "colab": {
          "base_uri": "https://localhost:8080/",
          "height": 206
        },
        "id": "0C48CQNRU9_Y",
        "outputId": "37691f67-6bbe-4b01-8513-9f7eac9ce463"
      },
      "execution_count": 48,
      "outputs": [
        {
          "output_type": "execute_result",
          "data": {
            "text/plain": [
              "      Order ID                Product Quantity Ordered Price Each  \\\n",
              "11313   289600  AA Batteries (4-pack)                2       3.84   \n",
              "13195   308257       27in FHD Monitor                1     149.99   \n",
              "15568   208916       Wired Headphones                1      11.99   \n",
              "9417    287798  AA Batteries (4-pack)                2       3.84   \n",
              "91      176644   USB-C Charging Cable                1      11.95   \n",
              "\n",
              "           Order Date                        Purchase Address  Month  \n",
              "11313  11/14/19 21:24  707 Forest St, New York City, NY 10001     11  \n",
              "13195  12/18/19 10:09    991 Hill St, San Francisco, CA 94016     12  \n",
              "15568  05/29/19 11:14          325 North St, Dallas, TX 75001      5  \n",
              "9417   11/07/19 14:46     722 5th St, San Francisco, CA 94016     11  \n",
              "91     04/23/19 02:09       962 7th St, Los Angeles, CA 90001      4  "
            ],
            "text/html": [
              "\n",
              "  <div id=\"df-fda4bf08-4bb7-4cb9-9d89-200eed087caa\">\n",
              "    <div class=\"colab-df-container\">\n",
              "      <div>\n",
              "<style scoped>\n",
              "    .dataframe tbody tr th:only-of-type {\n",
              "        vertical-align: middle;\n",
              "    }\n",
              "\n",
              "    .dataframe tbody tr th {\n",
              "        vertical-align: top;\n",
              "    }\n",
              "\n",
              "    .dataframe thead th {\n",
              "        text-align: right;\n",
              "    }\n",
              "</style>\n",
              "<table border=\"1\" class=\"dataframe\">\n",
              "  <thead>\n",
              "    <tr style=\"text-align: right;\">\n",
              "      <th></th>\n",
              "      <th>Order ID</th>\n",
              "      <th>Product</th>\n",
              "      <th>Quantity Ordered</th>\n",
              "      <th>Price Each</th>\n",
              "      <th>Order Date</th>\n",
              "      <th>Purchase Address</th>\n",
              "      <th>Month</th>\n",
              "    </tr>\n",
              "  </thead>\n",
              "  <tbody>\n",
              "    <tr>\n",
              "      <th>11313</th>\n",
              "      <td>289600</td>\n",
              "      <td>AA Batteries (4-pack)</td>\n",
              "      <td>2</td>\n",
              "      <td>3.84</td>\n",
              "      <td>11/14/19 21:24</td>\n",
              "      <td>707 Forest St, New York City, NY 10001</td>\n",
              "      <td>11</td>\n",
              "    </tr>\n",
              "    <tr>\n",
              "      <th>13195</th>\n",
              "      <td>308257</td>\n",
              "      <td>27in FHD Monitor</td>\n",
              "      <td>1</td>\n",
              "      <td>149.99</td>\n",
              "      <td>12/18/19 10:09</td>\n",
              "      <td>991 Hill St, San Francisco, CA 94016</td>\n",
              "      <td>12</td>\n",
              "    </tr>\n",
              "    <tr>\n",
              "      <th>15568</th>\n",
              "      <td>208916</td>\n",
              "      <td>Wired Headphones</td>\n",
              "      <td>1</td>\n",
              "      <td>11.99</td>\n",
              "      <td>05/29/19 11:14</td>\n",
              "      <td>325 North St, Dallas, TX 75001</td>\n",
              "      <td>5</td>\n",
              "    </tr>\n",
              "    <tr>\n",
              "      <th>9417</th>\n",
              "      <td>287798</td>\n",
              "      <td>AA Batteries (4-pack)</td>\n",
              "      <td>2</td>\n",
              "      <td>3.84</td>\n",
              "      <td>11/07/19 14:46</td>\n",
              "      <td>722 5th St, San Francisco, CA 94016</td>\n",
              "      <td>11</td>\n",
              "    </tr>\n",
              "    <tr>\n",
              "      <th>91</th>\n",
              "      <td>176644</td>\n",
              "      <td>USB-C Charging Cable</td>\n",
              "      <td>1</td>\n",
              "      <td>11.95</td>\n",
              "      <td>04/23/19 02:09</td>\n",
              "      <td>962 7th St, Los Angeles, CA 90001</td>\n",
              "      <td>4</td>\n",
              "    </tr>\n",
              "  </tbody>\n",
              "</table>\n",
              "</div>\n",
              "      <button class=\"colab-df-convert\" onclick=\"convertToInteractive('df-fda4bf08-4bb7-4cb9-9d89-200eed087caa')\"\n",
              "              title=\"Convert this dataframe to an interactive table.\"\n",
              "              style=\"display:none;\">\n",
              "        \n",
              "  <svg xmlns=\"http://www.w3.org/2000/svg\" height=\"24px\"viewBox=\"0 0 24 24\"\n",
              "       width=\"24px\">\n",
              "    <path d=\"M0 0h24v24H0V0z\" fill=\"none\"/>\n",
              "    <path d=\"M18.56 5.44l.94 2.06.94-2.06 2.06-.94-2.06-.94-.94-2.06-.94 2.06-2.06.94zm-11 1L8.5 8.5l.94-2.06 2.06-.94-2.06-.94L8.5 2.5l-.94 2.06-2.06.94zm10 10l.94 2.06.94-2.06 2.06-.94-2.06-.94-.94-2.06-.94 2.06-2.06.94z\"/><path d=\"M17.41 7.96l-1.37-1.37c-.4-.4-.92-.59-1.43-.59-.52 0-1.04.2-1.43.59L10.3 9.45l-7.72 7.72c-.78.78-.78 2.05 0 2.83L4 21.41c.39.39.9.59 1.41.59.51 0 1.02-.2 1.41-.59l7.78-7.78 2.81-2.81c.8-.78.8-2.07 0-2.86zM5.41 20L4 18.59l7.72-7.72 1.47 1.35L5.41 20z\"/>\n",
              "  </svg>\n",
              "      </button>\n",
              "      \n",
              "  <style>\n",
              "    .colab-df-container {\n",
              "      display:flex;\n",
              "      flex-wrap:wrap;\n",
              "      gap: 12px;\n",
              "    }\n",
              "\n",
              "    .colab-df-convert {\n",
              "      background-color: #E8F0FE;\n",
              "      border: none;\n",
              "      border-radius: 50%;\n",
              "      cursor: pointer;\n",
              "      display: none;\n",
              "      fill: #1967D2;\n",
              "      height: 32px;\n",
              "      padding: 0 0 0 0;\n",
              "      width: 32px;\n",
              "    }\n",
              "\n",
              "    .colab-df-convert:hover {\n",
              "      background-color: #E2EBFA;\n",
              "      box-shadow: 0px 1px 2px rgba(60, 64, 67, 0.3), 0px 1px 3px 1px rgba(60, 64, 67, 0.15);\n",
              "      fill: #174EA6;\n",
              "    }\n",
              "\n",
              "    [theme=dark] .colab-df-convert {\n",
              "      background-color: #3B4455;\n",
              "      fill: #D2E3FC;\n",
              "    }\n",
              "\n",
              "    [theme=dark] .colab-df-convert:hover {\n",
              "      background-color: #434B5C;\n",
              "      box-shadow: 0px 1px 3px 1px rgba(0, 0, 0, 0.15);\n",
              "      filter: drop-shadow(0px 1px 2px rgba(0, 0, 0, 0.3));\n",
              "      fill: #FFFFFF;\n",
              "    }\n",
              "  </style>\n",
              "\n",
              "      <script>\n",
              "        const buttonEl =\n",
              "          document.querySelector('#df-fda4bf08-4bb7-4cb9-9d89-200eed087caa button.colab-df-convert');\n",
              "        buttonEl.style.display =\n",
              "          google.colab.kernel.accessAllowed ? 'block' : 'none';\n",
              "\n",
              "        async function convertToInteractive(key) {\n",
              "          const element = document.querySelector('#df-fda4bf08-4bb7-4cb9-9d89-200eed087caa');\n",
              "          const dataTable =\n",
              "            await google.colab.kernel.invokeFunction('convertToInteractive',\n",
              "                                                     [key], {});\n",
              "          if (!dataTable) return;\n",
              "\n",
              "          const docLinkHtml = 'Like what you see? Visit the ' +\n",
              "            '<a target=\"_blank\" href=https://colab.research.google.com/notebooks/data_table.ipynb>data table notebook</a>'\n",
              "            + ' to learn more about interactive tables.';\n",
              "          element.innerHTML = '';\n",
              "          dataTable['output_type'] = 'display_data';\n",
              "          await google.colab.output.renderOutput(dataTable, element);\n",
              "          const docLink = document.createElement('div');\n",
              "          docLink.innerHTML = docLinkHtml;\n",
              "          element.appendChild(docLink);\n",
              "        }\n",
              "      </script>\n",
              "    </div>\n",
              "  </div>\n",
              "  "
            ]
          },
          "metadata": {},
          "execution_count": 48
        }
      ]
    },
    {
      "cell_type": "code",
      "source": [
        "#need to add column for total sale per order\n",
        "# QUANTITY * PRICE EACH\n"
      ],
      "metadata": {
        "id": "RBc0_o3vhmwL"
      },
      "execution_count": 49,
      "outputs": []
    },
    {
      "cell_type": "code",
      "source": [
        "all_data[\"Sale\"] = all_data[\"Quantity Ordered\"] * all_data[\"Price Each\"]\n",
        "all_data.info()"
      ],
      "metadata": {
        "colab": {
          "base_uri": "https://localhost:8080/",
          "height": 433
        },
        "id": "-_XwTKTch6XC",
        "outputId": "dda172f9-6f02-440b-8818-e41304bb1d16"
      },
      "execution_count": 50,
      "outputs": [
        {
          "output_type": "error",
          "ename": "TypeError",
          "evalue": "ignored",
          "traceback": [
            "\u001b[0;31m---------------------------------------------------------------------------\u001b[0m",
            "\u001b[0;31mTypeError\u001b[0m                                 Traceback (most recent call last)",
            "\u001b[0;32m/usr/local/lib/python3.8/dist-packages/pandas/core/ops/array_ops.py\u001b[0m in \u001b[0;36m_na_arithmetic_op\u001b[0;34m(left, right, op, is_cmp)\u001b[0m\n\u001b[1;32m    165\u001b[0m     \u001b[0;32mtry\u001b[0m\u001b[0;34m:\u001b[0m\u001b[0;34m\u001b[0m\u001b[0;34m\u001b[0m\u001b[0m\n\u001b[0;32m--> 166\u001b[0;31m         \u001b[0mresult\u001b[0m \u001b[0;34m=\u001b[0m \u001b[0mfunc\u001b[0m\u001b[0;34m(\u001b[0m\u001b[0mleft\u001b[0m\u001b[0;34m,\u001b[0m \u001b[0mright\u001b[0m\u001b[0;34m)\u001b[0m\u001b[0;34m\u001b[0m\u001b[0;34m\u001b[0m\u001b[0m\n\u001b[0m\u001b[1;32m    167\u001b[0m     \u001b[0;32mexcept\u001b[0m \u001b[0mTypeError\u001b[0m\u001b[0;34m:\u001b[0m\u001b[0;34m\u001b[0m\u001b[0;34m\u001b[0m\u001b[0m\n",
            "\u001b[0;32m/usr/local/lib/python3.8/dist-packages/pandas/core/computation/expressions.py\u001b[0m in \u001b[0;36mevaluate\u001b[0;34m(op, a, b, use_numexpr)\u001b[0m\n\u001b[1;32m    238\u001b[0m             \u001b[0;31m# error: \"None\" not callable\u001b[0m\u001b[0;34m\u001b[0m\u001b[0;34m\u001b[0m\u001b[0;34m\u001b[0m\u001b[0m\n\u001b[0;32m--> 239\u001b[0;31m             \u001b[0;32mreturn\u001b[0m \u001b[0m_evaluate\u001b[0m\u001b[0;34m(\u001b[0m\u001b[0mop\u001b[0m\u001b[0;34m,\u001b[0m \u001b[0mop_str\u001b[0m\u001b[0;34m,\u001b[0m \u001b[0ma\u001b[0m\u001b[0;34m,\u001b[0m \u001b[0mb\u001b[0m\u001b[0;34m)\u001b[0m  \u001b[0;31m# type: ignore[misc]\u001b[0m\u001b[0;34m\u001b[0m\u001b[0;34m\u001b[0m\u001b[0m\n\u001b[0m\u001b[1;32m    240\u001b[0m     \u001b[0;32mreturn\u001b[0m \u001b[0m_evaluate_standard\u001b[0m\u001b[0;34m(\u001b[0m\u001b[0mop\u001b[0m\u001b[0;34m,\u001b[0m \u001b[0mop_str\u001b[0m\u001b[0;34m,\u001b[0m \u001b[0ma\u001b[0m\u001b[0;34m,\u001b[0m \u001b[0mb\u001b[0m\u001b[0;34m)\u001b[0m\u001b[0;34m\u001b[0m\u001b[0;34m\u001b[0m\u001b[0m\n",
            "\u001b[0;32m/usr/local/lib/python3.8/dist-packages/pandas/core/computation/expressions.py\u001b[0m in \u001b[0;36m_evaluate_numexpr\u001b[0;34m(op, op_str, a, b)\u001b[0m\n\u001b[1;32m    127\u001b[0m     \u001b[0;32mif\u001b[0m \u001b[0mresult\u001b[0m \u001b[0;32mis\u001b[0m \u001b[0;32mNone\u001b[0m\u001b[0;34m:\u001b[0m\u001b[0;34m\u001b[0m\u001b[0;34m\u001b[0m\u001b[0m\n\u001b[0;32m--> 128\u001b[0;31m         \u001b[0mresult\u001b[0m \u001b[0;34m=\u001b[0m \u001b[0m_evaluate_standard\u001b[0m\u001b[0;34m(\u001b[0m\u001b[0mop\u001b[0m\u001b[0;34m,\u001b[0m \u001b[0mop_str\u001b[0m\u001b[0;34m,\u001b[0m \u001b[0ma\u001b[0m\u001b[0;34m,\u001b[0m \u001b[0mb\u001b[0m\u001b[0;34m)\u001b[0m\u001b[0;34m\u001b[0m\u001b[0;34m\u001b[0m\u001b[0m\n\u001b[0m\u001b[1;32m    129\u001b[0m \u001b[0;34m\u001b[0m\u001b[0m\n",
            "\u001b[0;32m/usr/local/lib/python3.8/dist-packages/pandas/core/computation/expressions.py\u001b[0m in \u001b[0;36m_evaluate_standard\u001b[0;34m(op, op_str, a, b)\u001b[0m\n\u001b[1;32m     68\u001b[0m         \u001b[0m_store_test_result\u001b[0m\u001b[0;34m(\u001b[0m\u001b[0;32mFalse\u001b[0m\u001b[0;34m)\u001b[0m\u001b[0;34m\u001b[0m\u001b[0;34m\u001b[0m\u001b[0m\n\u001b[0;32m---> 69\u001b[0;31m     \u001b[0;32mreturn\u001b[0m \u001b[0mop\u001b[0m\u001b[0;34m(\u001b[0m\u001b[0ma\u001b[0m\u001b[0;34m,\u001b[0m \u001b[0mb\u001b[0m\u001b[0;34m)\u001b[0m\u001b[0;34m\u001b[0m\u001b[0;34m\u001b[0m\u001b[0m\n\u001b[0m\u001b[1;32m     70\u001b[0m \u001b[0;34m\u001b[0m\u001b[0m\n",
            "\u001b[0;31mTypeError\u001b[0m: can't multiply sequence by non-int of type 'str'",
            "\nDuring handling of the above exception, another exception occurred:\n",
            "\u001b[0;31mTypeError\u001b[0m                                 Traceback (most recent call last)",
            "\u001b[0;32m<ipython-input-50-d14f3ab32899>\u001b[0m in \u001b[0;36m<module>\u001b[0;34m\u001b[0m\n\u001b[0;32m----> 1\u001b[0;31m \u001b[0mall_data\u001b[0m\u001b[0;34m[\u001b[0m\u001b[0;34m\"Sale\"\u001b[0m\u001b[0;34m]\u001b[0m \u001b[0;34m=\u001b[0m \u001b[0mall_data\u001b[0m\u001b[0;34m[\u001b[0m\u001b[0;34m\"Quantity Ordered\"\u001b[0m\u001b[0;34m]\u001b[0m \u001b[0;34m*\u001b[0m \u001b[0mall_data\u001b[0m\u001b[0;34m[\u001b[0m\u001b[0;34m\"Price Each\"\u001b[0m\u001b[0;34m]\u001b[0m\u001b[0;34m\u001b[0m\u001b[0;34m\u001b[0m\u001b[0m\n\u001b[0m\u001b[1;32m      2\u001b[0m \u001b[0mall_data\u001b[0m\u001b[0;34m.\u001b[0m\u001b[0minfo\u001b[0m\u001b[0;34m(\u001b[0m\u001b[0;34m)\u001b[0m\u001b[0;34m\u001b[0m\u001b[0;34m\u001b[0m\u001b[0m\n",
            "\u001b[0;32m/usr/local/lib/python3.8/dist-packages/pandas/core/ops/common.py\u001b[0m in \u001b[0;36mnew_method\u001b[0;34m(self, other)\u001b[0m\n\u001b[1;32m     67\u001b[0m         \u001b[0mother\u001b[0m \u001b[0;34m=\u001b[0m \u001b[0mitem_from_zerodim\u001b[0m\u001b[0;34m(\u001b[0m\u001b[0mother\u001b[0m\u001b[0;34m)\u001b[0m\u001b[0;34m\u001b[0m\u001b[0;34m\u001b[0m\u001b[0m\n\u001b[1;32m     68\u001b[0m \u001b[0;34m\u001b[0m\u001b[0m\n\u001b[0;32m---> 69\u001b[0;31m         \u001b[0;32mreturn\u001b[0m \u001b[0mmethod\u001b[0m\u001b[0;34m(\u001b[0m\u001b[0mself\u001b[0m\u001b[0;34m,\u001b[0m \u001b[0mother\u001b[0m\u001b[0;34m)\u001b[0m\u001b[0;34m\u001b[0m\u001b[0;34m\u001b[0m\u001b[0m\n\u001b[0m\u001b[1;32m     70\u001b[0m \u001b[0;34m\u001b[0m\u001b[0m\n\u001b[1;32m     71\u001b[0m     \u001b[0;32mreturn\u001b[0m \u001b[0mnew_method\u001b[0m\u001b[0;34m\u001b[0m\u001b[0;34m\u001b[0m\u001b[0m\n",
            "\u001b[0;32m/usr/local/lib/python3.8/dist-packages/pandas/core/arraylike.py\u001b[0m in \u001b[0;36m__mul__\u001b[0;34m(self, other)\u001b[0m\n\u001b[1;32m    106\u001b[0m     \u001b[0;34m@\u001b[0m\u001b[0munpack_zerodim_and_defer\u001b[0m\u001b[0;34m(\u001b[0m\u001b[0;34m\"__mul__\"\u001b[0m\u001b[0;34m)\u001b[0m\u001b[0;34m\u001b[0m\u001b[0;34m\u001b[0m\u001b[0m\n\u001b[1;32m    107\u001b[0m     \u001b[0;32mdef\u001b[0m \u001b[0m__mul__\u001b[0m\u001b[0;34m(\u001b[0m\u001b[0mself\u001b[0m\u001b[0;34m,\u001b[0m \u001b[0mother\u001b[0m\u001b[0;34m)\u001b[0m\u001b[0;34m:\u001b[0m\u001b[0;34m\u001b[0m\u001b[0;34m\u001b[0m\u001b[0m\n\u001b[0;32m--> 108\u001b[0;31m         \u001b[0;32mreturn\u001b[0m \u001b[0mself\u001b[0m\u001b[0;34m.\u001b[0m\u001b[0m_arith_method\u001b[0m\u001b[0;34m(\u001b[0m\u001b[0mother\u001b[0m\u001b[0;34m,\u001b[0m \u001b[0moperator\u001b[0m\u001b[0;34m.\u001b[0m\u001b[0mmul\u001b[0m\u001b[0;34m)\u001b[0m\u001b[0;34m\u001b[0m\u001b[0;34m\u001b[0m\u001b[0m\n\u001b[0m\u001b[1;32m    109\u001b[0m \u001b[0;34m\u001b[0m\u001b[0m\n\u001b[1;32m    110\u001b[0m     \u001b[0;34m@\u001b[0m\u001b[0munpack_zerodim_and_defer\u001b[0m\u001b[0;34m(\u001b[0m\u001b[0;34m\"__rmul__\"\u001b[0m\u001b[0;34m)\u001b[0m\u001b[0;34m\u001b[0m\u001b[0;34m\u001b[0m\u001b[0m\n",
            "\u001b[0;32m/usr/local/lib/python3.8/dist-packages/pandas/core/series.py\u001b[0m in \u001b[0;36m_arith_method\u001b[0;34m(self, other, op)\u001b[0m\n\u001b[1;32m   5524\u001b[0m \u001b[0;34m\u001b[0m\u001b[0m\n\u001b[1;32m   5525\u001b[0m         \u001b[0;32mwith\u001b[0m \u001b[0mnp\u001b[0m\u001b[0;34m.\u001b[0m\u001b[0merrstate\u001b[0m\u001b[0;34m(\u001b[0m\u001b[0mall\u001b[0m\u001b[0;34m=\u001b[0m\u001b[0;34m\"ignore\"\u001b[0m\u001b[0;34m)\u001b[0m\u001b[0;34m:\u001b[0m\u001b[0;34m\u001b[0m\u001b[0;34m\u001b[0m\u001b[0m\n\u001b[0;32m-> 5526\u001b[0;31m             \u001b[0mresult\u001b[0m \u001b[0;34m=\u001b[0m \u001b[0mops\u001b[0m\u001b[0;34m.\u001b[0m\u001b[0marithmetic_op\u001b[0m\u001b[0;34m(\u001b[0m\u001b[0mlvalues\u001b[0m\u001b[0;34m,\u001b[0m \u001b[0mrvalues\u001b[0m\u001b[0;34m,\u001b[0m \u001b[0mop\u001b[0m\u001b[0;34m)\u001b[0m\u001b[0;34m\u001b[0m\u001b[0;34m\u001b[0m\u001b[0m\n\u001b[0m\u001b[1;32m   5527\u001b[0m \u001b[0;34m\u001b[0m\u001b[0m\n\u001b[1;32m   5528\u001b[0m         \u001b[0;32mreturn\u001b[0m \u001b[0mself\u001b[0m\u001b[0;34m.\u001b[0m\u001b[0m_construct_result\u001b[0m\u001b[0;34m(\u001b[0m\u001b[0mresult\u001b[0m\u001b[0;34m,\u001b[0m \u001b[0mname\u001b[0m\u001b[0;34m=\u001b[0m\u001b[0mres_name\u001b[0m\u001b[0;34m)\u001b[0m\u001b[0;34m\u001b[0m\u001b[0;34m\u001b[0m\u001b[0m\n",
            "\u001b[0;32m/usr/local/lib/python3.8/dist-packages/pandas/core/ops/array_ops.py\u001b[0m in \u001b[0;36marithmetic_op\u001b[0;34m(left, right, op)\u001b[0m\n\u001b[1;32m    222\u001b[0m         \u001b[0m_bool_arith_check\u001b[0m\u001b[0;34m(\u001b[0m\u001b[0mop\u001b[0m\u001b[0;34m,\u001b[0m \u001b[0mleft\u001b[0m\u001b[0;34m,\u001b[0m \u001b[0mright\u001b[0m\u001b[0;34m)\u001b[0m\u001b[0;34m\u001b[0m\u001b[0;34m\u001b[0m\u001b[0m\n\u001b[1;32m    223\u001b[0m \u001b[0;34m\u001b[0m\u001b[0m\n\u001b[0;32m--> 224\u001b[0;31m         \u001b[0mres_values\u001b[0m \u001b[0;34m=\u001b[0m \u001b[0m_na_arithmetic_op\u001b[0m\u001b[0;34m(\u001b[0m\u001b[0mleft\u001b[0m\u001b[0;34m,\u001b[0m \u001b[0mright\u001b[0m\u001b[0;34m,\u001b[0m \u001b[0mop\u001b[0m\u001b[0;34m)\u001b[0m\u001b[0;34m\u001b[0m\u001b[0;34m\u001b[0m\u001b[0m\n\u001b[0m\u001b[1;32m    225\u001b[0m \u001b[0;34m\u001b[0m\u001b[0m\n\u001b[1;32m    226\u001b[0m     \u001b[0;32mreturn\u001b[0m \u001b[0mres_values\u001b[0m\u001b[0;34m\u001b[0m\u001b[0;34m\u001b[0m\u001b[0m\n",
            "\u001b[0;32m/usr/local/lib/python3.8/dist-packages/pandas/core/ops/array_ops.py\u001b[0m in \u001b[0;36m_na_arithmetic_op\u001b[0;34m(left, right, op, is_cmp)\u001b[0m\n\u001b[1;32m    171\u001b[0m             \u001b[0;31m# Don't do this for comparisons, as that will handle complex numbers\u001b[0m\u001b[0;34m\u001b[0m\u001b[0;34m\u001b[0m\u001b[0;34m\u001b[0m\u001b[0m\n\u001b[1;32m    172\u001b[0m             \u001b[0;31m#  incorrectly, see GH#32047\u001b[0m\u001b[0;34m\u001b[0m\u001b[0;34m\u001b[0m\u001b[0;34m\u001b[0m\u001b[0m\n\u001b[0;32m--> 173\u001b[0;31m             \u001b[0mresult\u001b[0m \u001b[0;34m=\u001b[0m \u001b[0m_masked_arith_op\u001b[0m\u001b[0;34m(\u001b[0m\u001b[0mleft\u001b[0m\u001b[0;34m,\u001b[0m \u001b[0mright\u001b[0m\u001b[0;34m,\u001b[0m \u001b[0mop\u001b[0m\u001b[0;34m)\u001b[0m\u001b[0;34m\u001b[0m\u001b[0;34m\u001b[0m\u001b[0m\n\u001b[0m\u001b[1;32m    174\u001b[0m         \u001b[0;32melse\u001b[0m\u001b[0;34m:\u001b[0m\u001b[0;34m\u001b[0m\u001b[0;34m\u001b[0m\u001b[0m\n\u001b[1;32m    175\u001b[0m             \u001b[0;32mraise\u001b[0m\u001b[0;34m\u001b[0m\u001b[0;34m\u001b[0m\u001b[0m\n",
            "\u001b[0;32m/usr/local/lib/python3.8/dist-packages/pandas/core/ops/array_ops.py\u001b[0m in \u001b[0;36m_masked_arith_op\u001b[0;34m(x, y, op)\u001b[0m\n\u001b[1;32m    110\u001b[0m         \u001b[0;31m# See GH#5284, GH#5035, GH#19448 for historical reference\u001b[0m\u001b[0;34m\u001b[0m\u001b[0;34m\u001b[0m\u001b[0;34m\u001b[0m\u001b[0m\n\u001b[1;32m    111\u001b[0m         \u001b[0;32mif\u001b[0m \u001b[0mmask\u001b[0m\u001b[0;34m.\u001b[0m\u001b[0many\u001b[0m\u001b[0;34m(\u001b[0m\u001b[0;34m)\u001b[0m\u001b[0;34m:\u001b[0m\u001b[0;34m\u001b[0m\u001b[0;34m\u001b[0m\u001b[0m\n\u001b[0;32m--> 112\u001b[0;31m             \u001b[0mresult\u001b[0m\u001b[0;34m[\u001b[0m\u001b[0mmask\u001b[0m\u001b[0;34m]\u001b[0m \u001b[0;34m=\u001b[0m \u001b[0mop\u001b[0m\u001b[0;34m(\u001b[0m\u001b[0mxrav\u001b[0m\u001b[0;34m[\u001b[0m\u001b[0mmask\u001b[0m\u001b[0;34m]\u001b[0m\u001b[0;34m,\u001b[0m \u001b[0myrav\u001b[0m\u001b[0;34m[\u001b[0m\u001b[0mmask\u001b[0m\u001b[0;34m]\u001b[0m\u001b[0;34m)\u001b[0m\u001b[0;34m\u001b[0m\u001b[0;34m\u001b[0m\u001b[0m\n\u001b[0m\u001b[1;32m    113\u001b[0m \u001b[0;34m\u001b[0m\u001b[0m\n\u001b[1;32m    114\u001b[0m     \u001b[0;32melse\u001b[0m\u001b[0;34m:\u001b[0m\u001b[0;34m\u001b[0m\u001b[0;34m\u001b[0m\u001b[0m\n",
            "\u001b[0;31mTypeError\u001b[0m: can't multiply sequence by non-int of type 'str'"
          ]
        }
      ]
    },
    {
      "cell_type": "code",
      "source": [
        "all_data.info()"
      ],
      "metadata": {
        "colab": {
          "base_uri": "https://localhost:8080/"
        },
        "id": "spJuKV0qiNiZ",
        "outputId": "c40b67ae-f0a0-442d-fefb-3afee42692b1"
      },
      "execution_count": 51,
      "outputs": [
        {
          "output_type": "stream",
          "name": "stdout",
          "text": [
            "<class 'pandas.core.frame.DataFrame'>\n",
            "Int64Index: 185950 entries, 0 to 15225\n",
            "Data columns (total 7 columns):\n",
            " #   Column            Non-Null Count   Dtype \n",
            "---  ------            --------------   ----- \n",
            " 0   Order ID          185950 non-null  object\n",
            " 1   Product           185950 non-null  object\n",
            " 2   Quantity Ordered  185950 non-null  object\n",
            " 3   Price Each        185950 non-null  object\n",
            " 4   Order Date        185950 non-null  object\n",
            " 5   Purchase Address  185950 non-null  object\n",
            " 6   Month             185950 non-null  int32 \n",
            "dtypes: int32(1), object(6)\n",
            "memory usage: 10.6+ MB\n"
          ]
        }
      ]
    },
    {
      "cell_type": "code",
      "source": [
        "all_data[\"Quantity Ordered\"].astype('int32')"
      ],
      "metadata": {
        "colab": {
          "base_uri": "https://localhost:8080/"
        },
        "id": "fFT2n5LqiaON",
        "outputId": "e4d2bb1e-c7c9-4b23-e721-2b9d278d5218"
      },
      "execution_count": 52,
      "outputs": [
        {
          "output_type": "execute_result",
          "data": {
            "text/plain": [
              "0        1\n",
              "1        1\n",
              "2        1\n",
              "3        1\n",
              "4        1\n",
              "        ..\n",
              "15221    1\n",
              "15222    1\n",
              "15223    3\n",
              "15224    1\n",
              "15225    1\n",
              "Name: Quantity Ordered, Length: 185950, dtype: int32"
            ]
          },
          "metadata": {},
          "execution_count": 52
        }
      ]
    },
    {
      "cell_type": "code",
      "source": [
        "all_data[\"Price Each\"].astype(float)"
      ],
      "metadata": {
        "colab": {
          "base_uri": "https://localhost:8080/"
        },
        "id": "QPHqK5NJin3y",
        "outputId": "82123b8e-943d-4d5c-f07a-110cc670d084"
      },
      "execution_count": 53,
      "outputs": [
        {
          "output_type": "execute_result",
          "data": {
            "text/plain": [
              "0        1700.00\n",
              "1         600.00\n",
              "2          11.95\n",
              "3         149.99\n",
              "4          11.95\n",
              "          ...   \n",
              "15221      14.95\n",
              "15222     149.99\n",
              "15223       2.99\n",
              "15224     700.00\n",
              "15225      14.95\n",
              "Name: Price Each, Length: 185950, dtype: float64"
            ]
          },
          "metadata": {},
          "execution_count": 53
        }
      ]
    },
    {
      "cell_type": "code",
      "source": [
        "all_data[\"Order ID\"].astype('int32')"
      ],
      "metadata": {
        "colab": {
          "base_uri": "https://localhost:8080/"
        },
        "id": "U6RTIsRojG01",
        "outputId": "eaa99b46-f28f-4f4a-c861-d83e7d6cd3c3"
      },
      "execution_count": 56,
      "outputs": [
        {
          "output_type": "execute_result",
          "data": {
            "text/plain": [
              "0        295665\n",
              "1        295666\n",
              "2        295667\n",
              "3        295668\n",
              "4        295669\n",
              "          ...  \n",
              "15221    176554\n",
              "15222    176555\n",
              "15223    176556\n",
              "15224    176557\n",
              "15225    176557\n",
              "Name: Order ID, Length: 185950, dtype: int32"
            ]
          },
          "metadata": {},
          "execution_count": 56
        }
      ]
    },
    {
      "cell_type": "code",
      "source": [
        "all_data.info()"
      ],
      "metadata": {
        "colab": {
          "base_uri": "https://localhost:8080/"
        },
        "id": "yHv7_tfki1l-",
        "outputId": "bb945521-29f0-400a-c0b0-3a35006104e1"
      },
      "execution_count": 54,
      "outputs": [
        {
          "output_type": "stream",
          "name": "stdout",
          "text": [
            "<class 'pandas.core.frame.DataFrame'>\n",
            "Int64Index: 185950 entries, 0 to 15225\n",
            "Data columns (total 7 columns):\n",
            " #   Column            Non-Null Count   Dtype \n",
            "---  ------            --------------   ----- \n",
            " 0   Order ID          185950 non-null  object\n",
            " 1   Product           185950 non-null  object\n",
            " 2   Quantity Ordered  185950 non-null  object\n",
            " 3   Price Each        185950 non-null  object\n",
            " 4   Order Date        185950 non-null  object\n",
            " 5   Purchase Address  185950 non-null  object\n",
            " 6   Month             185950 non-null  int32 \n",
            "dtypes: int32(1), object(6)\n",
            "memory usage: 10.6+ MB\n"
          ]
        }
      ]
    },
    {
      "cell_type": "code",
      "source": [
        "all_data[\"Quantity Ordered\"] = all_data[\"Quantity Ordered\"].astype('int32')\n",
        "all_data[\"Price Each\"] = all_data[\"Price Each\"].astype(float)\n",
        "all_data[\"Order ID\"] = pd.to_numeric(all_data[\"Order ID\"])\n",
        "all_data.info()"
      ],
      "metadata": {
        "colab": {
          "base_uri": "https://localhost:8080/"
        },
        "id": "6I81aRdOi32N",
        "outputId": "77e45bde-460f-4f12-b8d5-af07ce7aa66a"
      },
      "execution_count": 62,
      "outputs": [
        {
          "output_type": "stream",
          "name": "stdout",
          "text": [
            "<class 'pandas.core.frame.DataFrame'>\n",
            "Int64Index: 185950 entries, 0 to 15225\n",
            "Data columns (total 7 columns):\n",
            " #   Column            Non-Null Count   Dtype  \n",
            "---  ------            --------------   -----  \n",
            " 0   Order ID          185950 non-null  int32  \n",
            " 1   Product           185950 non-null  object \n",
            " 2   Quantity Ordered  185950 non-null  int32  \n",
            " 3   Price Each        185950 non-null  float64\n",
            " 4   Order Date        185950 non-null  object \n",
            " 5   Purchase Address  185950 non-null  object \n",
            " 6   Month             185950 non-null  int32  \n",
            "dtypes: float64(1), int32(3), object(3)\n",
            "memory usage: 9.2+ MB\n"
          ]
        }
      ]
    },
    {
      "cell_type": "markdown",
      "source": [
        "use pd.to_numeric(column) to convert the column to appropriate numeric int or float, auto by pd"
      ],
      "metadata": {
        "id": "Mcg2NiJekPEc"
      }
    },
    {
      "cell_type": "code",
      "source": [
        "all_data[\"Sale\"] = all_data[\"Quantity Ordered\"] * all_data[\"Price Each\"]\n",
        "all_data.info()"
      ],
      "metadata": {
        "colab": {
          "base_uri": "https://localhost:8080/"
        },
        "id": "FD4H93lWjQJ8",
        "outputId": "66d64f11-7b90-4964-d433-4816bf05f24f"
      },
      "execution_count": 63,
      "outputs": [
        {
          "output_type": "stream",
          "name": "stdout",
          "text": [
            "<class 'pandas.core.frame.DataFrame'>\n",
            "Int64Index: 185950 entries, 0 to 15225\n",
            "Data columns (total 8 columns):\n",
            " #   Column            Non-Null Count   Dtype  \n",
            "---  ------            --------------   -----  \n",
            " 0   Order ID          185950 non-null  int32  \n",
            " 1   Product           185950 non-null  object \n",
            " 2   Quantity Ordered  185950 non-null  int32  \n",
            " 3   Price Each        185950 non-null  float64\n",
            " 4   Order Date        185950 non-null  object \n",
            " 5   Purchase Address  185950 non-null  object \n",
            " 6   Month             185950 non-null  int32  \n",
            " 7   Sale              185950 non-null  float64\n",
            "dtypes: float64(2), int32(3), object(3)\n",
            "memory usage: 10.6+ MB\n"
          ]
        }
      ]
    },
    {
      "cell_type": "code",
      "source": [
        "all_data.sample(5)"
      ],
      "metadata": {
        "colab": {
          "base_uri": "https://localhost:8080/",
          "height": 206
        },
        "id": "Pq2eEoQrjZqf",
        "outputId": "068309f0-cefa-4925-cdbf-ecb881b82c56"
      },
      "execution_count": 67,
      "outputs": [
        {
          "output_type": "execute_result",
          "data": {
            "text/plain": [
              "       Order ID                   Product  Quantity Ordered  Price Each  \\\n",
              "13345    272092  Lightning Charging Cable                 1       14.95   \n",
              "5945     253854    AAA Batteries (4-pack)                 2        2.99   \n",
              "5802     215427          Wired Headphones                 1       11.99   \n",
              "11283    289572          27in FHD Monitor                 1      149.99   \n",
              "21156    315876  Apple Airpods Headphones                 1      150.00   \n",
              "\n",
              "           Order Date                        Purchase Address  Month    Sale  \n",
              "13345  10/04/19 14:25        267 Church St, Seattle, WA 98101     10   14.95  \n",
              "5945   09/28/19 19:46     800 South St, Los Angeles, CA 90001      9    5.98  \n",
              "5802   06/15/19 23:50   586 Jackson St, Los Angeles, CA 90001      6   11.99  \n",
              "11283  11/16/19 20:40  19 Jefferson St, Los Angeles, CA 90001     11  149.99  \n",
              "21156  12/09/19 12:17  525 Cherry St, New York City, NY 10001     12  150.00  "
            ],
            "text/html": [
              "\n",
              "  <div id=\"df-e68a6ca6-6049-4cf1-a5d2-6dcd61d322a1\">\n",
              "    <div class=\"colab-df-container\">\n",
              "      <div>\n",
              "<style scoped>\n",
              "    .dataframe tbody tr th:only-of-type {\n",
              "        vertical-align: middle;\n",
              "    }\n",
              "\n",
              "    .dataframe tbody tr th {\n",
              "        vertical-align: top;\n",
              "    }\n",
              "\n",
              "    .dataframe thead th {\n",
              "        text-align: right;\n",
              "    }\n",
              "</style>\n",
              "<table border=\"1\" class=\"dataframe\">\n",
              "  <thead>\n",
              "    <tr style=\"text-align: right;\">\n",
              "      <th></th>\n",
              "      <th>Order ID</th>\n",
              "      <th>Product</th>\n",
              "      <th>Quantity Ordered</th>\n",
              "      <th>Price Each</th>\n",
              "      <th>Order Date</th>\n",
              "      <th>Purchase Address</th>\n",
              "      <th>Month</th>\n",
              "      <th>Sale</th>\n",
              "    </tr>\n",
              "  </thead>\n",
              "  <tbody>\n",
              "    <tr>\n",
              "      <th>13345</th>\n",
              "      <td>272092</td>\n",
              "      <td>Lightning Charging Cable</td>\n",
              "      <td>1</td>\n",
              "      <td>14.95</td>\n",
              "      <td>10/04/19 14:25</td>\n",
              "      <td>267 Church St, Seattle, WA 98101</td>\n",
              "      <td>10</td>\n",
              "      <td>14.95</td>\n",
              "    </tr>\n",
              "    <tr>\n",
              "      <th>5945</th>\n",
              "      <td>253854</td>\n",
              "      <td>AAA Batteries (4-pack)</td>\n",
              "      <td>2</td>\n",
              "      <td>2.99</td>\n",
              "      <td>09/28/19 19:46</td>\n",
              "      <td>800 South St, Los Angeles, CA 90001</td>\n",
              "      <td>9</td>\n",
              "      <td>5.98</td>\n",
              "    </tr>\n",
              "    <tr>\n",
              "      <th>5802</th>\n",
              "      <td>215427</td>\n",
              "      <td>Wired Headphones</td>\n",
              "      <td>1</td>\n",
              "      <td>11.99</td>\n",
              "      <td>06/15/19 23:50</td>\n",
              "      <td>586 Jackson St, Los Angeles, CA 90001</td>\n",
              "      <td>6</td>\n",
              "      <td>11.99</td>\n",
              "    </tr>\n",
              "    <tr>\n",
              "      <th>11283</th>\n",
              "      <td>289572</td>\n",
              "      <td>27in FHD Monitor</td>\n",
              "      <td>1</td>\n",
              "      <td>149.99</td>\n",
              "      <td>11/16/19 20:40</td>\n",
              "      <td>19 Jefferson St, Los Angeles, CA 90001</td>\n",
              "      <td>11</td>\n",
              "      <td>149.99</td>\n",
              "    </tr>\n",
              "    <tr>\n",
              "      <th>21156</th>\n",
              "      <td>315876</td>\n",
              "      <td>Apple Airpods Headphones</td>\n",
              "      <td>1</td>\n",
              "      <td>150.00</td>\n",
              "      <td>12/09/19 12:17</td>\n",
              "      <td>525 Cherry St, New York City, NY 10001</td>\n",
              "      <td>12</td>\n",
              "      <td>150.00</td>\n",
              "    </tr>\n",
              "  </tbody>\n",
              "</table>\n",
              "</div>\n",
              "      <button class=\"colab-df-convert\" onclick=\"convertToInteractive('df-e68a6ca6-6049-4cf1-a5d2-6dcd61d322a1')\"\n",
              "              title=\"Convert this dataframe to an interactive table.\"\n",
              "              style=\"display:none;\">\n",
              "        \n",
              "  <svg xmlns=\"http://www.w3.org/2000/svg\" height=\"24px\"viewBox=\"0 0 24 24\"\n",
              "       width=\"24px\">\n",
              "    <path d=\"M0 0h24v24H0V0z\" fill=\"none\"/>\n",
              "    <path d=\"M18.56 5.44l.94 2.06.94-2.06 2.06-.94-2.06-.94-.94-2.06-.94 2.06-2.06.94zm-11 1L8.5 8.5l.94-2.06 2.06-.94-2.06-.94L8.5 2.5l-.94 2.06-2.06.94zm10 10l.94 2.06.94-2.06 2.06-.94-2.06-.94-.94-2.06-.94 2.06-2.06.94z\"/><path d=\"M17.41 7.96l-1.37-1.37c-.4-.4-.92-.59-1.43-.59-.52 0-1.04.2-1.43.59L10.3 9.45l-7.72 7.72c-.78.78-.78 2.05 0 2.83L4 21.41c.39.39.9.59 1.41.59.51 0 1.02-.2 1.41-.59l7.78-7.78 2.81-2.81c.8-.78.8-2.07 0-2.86zM5.41 20L4 18.59l7.72-7.72 1.47 1.35L5.41 20z\"/>\n",
              "  </svg>\n",
              "      </button>\n",
              "      \n",
              "  <style>\n",
              "    .colab-df-container {\n",
              "      display:flex;\n",
              "      flex-wrap:wrap;\n",
              "      gap: 12px;\n",
              "    }\n",
              "\n",
              "    .colab-df-convert {\n",
              "      background-color: #E8F0FE;\n",
              "      border: none;\n",
              "      border-radius: 50%;\n",
              "      cursor: pointer;\n",
              "      display: none;\n",
              "      fill: #1967D2;\n",
              "      height: 32px;\n",
              "      padding: 0 0 0 0;\n",
              "      width: 32px;\n",
              "    }\n",
              "\n",
              "    .colab-df-convert:hover {\n",
              "      background-color: #E2EBFA;\n",
              "      box-shadow: 0px 1px 2px rgba(60, 64, 67, 0.3), 0px 1px 3px 1px rgba(60, 64, 67, 0.15);\n",
              "      fill: #174EA6;\n",
              "    }\n",
              "\n",
              "    [theme=dark] .colab-df-convert {\n",
              "      background-color: #3B4455;\n",
              "      fill: #D2E3FC;\n",
              "    }\n",
              "\n",
              "    [theme=dark] .colab-df-convert:hover {\n",
              "      background-color: #434B5C;\n",
              "      box-shadow: 0px 1px 3px 1px rgba(0, 0, 0, 0.15);\n",
              "      filter: drop-shadow(0px 1px 2px rgba(0, 0, 0, 0.3));\n",
              "      fill: #FFFFFF;\n",
              "    }\n",
              "  </style>\n",
              "\n",
              "      <script>\n",
              "        const buttonEl =\n",
              "          document.querySelector('#df-e68a6ca6-6049-4cf1-a5d2-6dcd61d322a1 button.colab-df-convert');\n",
              "        buttonEl.style.display =\n",
              "          google.colab.kernel.accessAllowed ? 'block' : 'none';\n",
              "\n",
              "        async function convertToInteractive(key) {\n",
              "          const element = document.querySelector('#df-e68a6ca6-6049-4cf1-a5d2-6dcd61d322a1');\n",
              "          const dataTable =\n",
              "            await google.colab.kernel.invokeFunction('convertToInteractive',\n",
              "                                                     [key], {});\n",
              "          if (!dataTable) return;\n",
              "\n",
              "          const docLinkHtml = 'Like what you see? Visit the ' +\n",
              "            '<a target=\"_blank\" href=https://colab.research.google.com/notebooks/data_table.ipynb>data table notebook</a>'\n",
              "            + ' to learn more about interactive tables.';\n",
              "          element.innerHTML = '';\n",
              "          dataTable['output_type'] = 'display_data';\n",
              "          await google.colab.output.renderOutput(dataTable, element);\n",
              "          const docLink = document.createElement('div');\n",
              "          docLink.innerHTML = docLinkHtml;\n",
              "          element.appendChild(docLink);\n",
              "        }\n",
              "      </script>\n",
              "    </div>\n",
              "  </div>\n",
              "  "
            ]
          },
          "metadata": {},
          "execution_count": 67
        }
      ]
    },
    {
      "cell_type": "code",
      "source": [
        "all_data.groupby(\"Month\").sum()"
      ],
      "metadata": {
        "colab": {
          "base_uri": "https://localhost:8080/",
          "height": 457
        },
        "id": "sc2FNnhBkiLs",
        "outputId": "dc72b5e5-e40a-422f-bb2e-8a6e73803dda"
      },
      "execution_count": 68,
      "outputs": [
        {
          "output_type": "execute_result",
          "data": {
            "text/plain": [
              "           Order ID  Quantity Ordered  Price Each        Sale\n",
              "Month                                                        \n",
              "1      1.421631e+09           10903.0  1811768.38  1822256.73\n",
              "2      1.871053e+09           13449.0  2188884.72  2202022.42\n",
              "3      2.564811e+09           17005.0  2791207.83  2807100.38\n",
              "4      3.387347e+09           20558.0  3367671.02  3390670.24\n",
              "5      3.345872e+09           18667.0  3135125.13  3152606.75\n",
              "6      2.932976e+09           15253.0  2562025.61  2577802.26\n",
              "7      3.284140e+09           16072.0  2632539.56  2647775.76\n",
              "8      2.899374e+09           13448.0  2230345.42  2244467.88\n",
              "9      2.948727e+09           13109.0  2084992.09  2097560.13\n",
              "10     5.457110e+09           22703.0  3715554.83  3736726.88\n",
              "11     5.047203e+09           19798.0  3180600.68  3199603.20\n",
              "12     7.685905e+09           28114.0  4588415.41  4613443.34"
            ],
            "text/html": [
              "\n",
              "  <div id=\"df-e1c43198-97ba-4c3b-a879-985bd2c63a7c\">\n",
              "    <div class=\"colab-df-container\">\n",
              "      <div>\n",
              "<style scoped>\n",
              "    .dataframe tbody tr th:only-of-type {\n",
              "        vertical-align: middle;\n",
              "    }\n",
              "\n",
              "    .dataframe tbody tr th {\n",
              "        vertical-align: top;\n",
              "    }\n",
              "\n",
              "    .dataframe thead th {\n",
              "        text-align: right;\n",
              "    }\n",
              "</style>\n",
              "<table border=\"1\" class=\"dataframe\">\n",
              "  <thead>\n",
              "    <tr style=\"text-align: right;\">\n",
              "      <th></th>\n",
              "      <th>Order ID</th>\n",
              "      <th>Quantity Ordered</th>\n",
              "      <th>Price Each</th>\n",
              "      <th>Sale</th>\n",
              "    </tr>\n",
              "    <tr>\n",
              "      <th>Month</th>\n",
              "      <th></th>\n",
              "      <th></th>\n",
              "      <th></th>\n",
              "      <th></th>\n",
              "    </tr>\n",
              "  </thead>\n",
              "  <tbody>\n",
              "    <tr>\n",
              "      <th>1</th>\n",
              "      <td>1.421631e+09</td>\n",
              "      <td>10903.0</td>\n",
              "      <td>1811768.38</td>\n",
              "      <td>1822256.73</td>\n",
              "    </tr>\n",
              "    <tr>\n",
              "      <th>2</th>\n",
              "      <td>1.871053e+09</td>\n",
              "      <td>13449.0</td>\n",
              "      <td>2188884.72</td>\n",
              "      <td>2202022.42</td>\n",
              "    </tr>\n",
              "    <tr>\n",
              "      <th>3</th>\n",
              "      <td>2.564811e+09</td>\n",
              "      <td>17005.0</td>\n",
              "      <td>2791207.83</td>\n",
              "      <td>2807100.38</td>\n",
              "    </tr>\n",
              "    <tr>\n",
              "      <th>4</th>\n",
              "      <td>3.387347e+09</td>\n",
              "      <td>20558.0</td>\n",
              "      <td>3367671.02</td>\n",
              "      <td>3390670.24</td>\n",
              "    </tr>\n",
              "    <tr>\n",
              "      <th>5</th>\n",
              "      <td>3.345872e+09</td>\n",
              "      <td>18667.0</td>\n",
              "      <td>3135125.13</td>\n",
              "      <td>3152606.75</td>\n",
              "    </tr>\n",
              "    <tr>\n",
              "      <th>6</th>\n",
              "      <td>2.932976e+09</td>\n",
              "      <td>15253.0</td>\n",
              "      <td>2562025.61</td>\n",
              "      <td>2577802.26</td>\n",
              "    </tr>\n",
              "    <tr>\n",
              "      <th>7</th>\n",
              "      <td>3.284140e+09</td>\n",
              "      <td>16072.0</td>\n",
              "      <td>2632539.56</td>\n",
              "      <td>2647775.76</td>\n",
              "    </tr>\n",
              "    <tr>\n",
              "      <th>8</th>\n",
              "      <td>2.899374e+09</td>\n",
              "      <td>13448.0</td>\n",
              "      <td>2230345.42</td>\n",
              "      <td>2244467.88</td>\n",
              "    </tr>\n",
              "    <tr>\n",
              "      <th>9</th>\n",
              "      <td>2.948727e+09</td>\n",
              "      <td>13109.0</td>\n",
              "      <td>2084992.09</td>\n",
              "      <td>2097560.13</td>\n",
              "    </tr>\n",
              "    <tr>\n",
              "      <th>10</th>\n",
              "      <td>5.457110e+09</td>\n",
              "      <td>22703.0</td>\n",
              "      <td>3715554.83</td>\n",
              "      <td>3736726.88</td>\n",
              "    </tr>\n",
              "    <tr>\n",
              "      <th>11</th>\n",
              "      <td>5.047203e+09</td>\n",
              "      <td>19798.0</td>\n",
              "      <td>3180600.68</td>\n",
              "      <td>3199603.20</td>\n",
              "    </tr>\n",
              "    <tr>\n",
              "      <th>12</th>\n",
              "      <td>7.685905e+09</td>\n",
              "      <td>28114.0</td>\n",
              "      <td>4588415.41</td>\n",
              "      <td>4613443.34</td>\n",
              "    </tr>\n",
              "  </tbody>\n",
              "</table>\n",
              "</div>\n",
              "      <button class=\"colab-df-convert\" onclick=\"convertToInteractive('df-e1c43198-97ba-4c3b-a879-985bd2c63a7c')\"\n",
              "              title=\"Convert this dataframe to an interactive table.\"\n",
              "              style=\"display:none;\">\n",
              "        \n",
              "  <svg xmlns=\"http://www.w3.org/2000/svg\" height=\"24px\"viewBox=\"0 0 24 24\"\n",
              "       width=\"24px\">\n",
              "    <path d=\"M0 0h24v24H0V0z\" fill=\"none\"/>\n",
              "    <path d=\"M18.56 5.44l.94 2.06.94-2.06 2.06-.94-2.06-.94-.94-2.06-.94 2.06-2.06.94zm-11 1L8.5 8.5l.94-2.06 2.06-.94-2.06-.94L8.5 2.5l-.94 2.06-2.06.94zm10 10l.94 2.06.94-2.06 2.06-.94-2.06-.94-.94-2.06-.94 2.06-2.06.94z\"/><path d=\"M17.41 7.96l-1.37-1.37c-.4-.4-.92-.59-1.43-.59-.52 0-1.04.2-1.43.59L10.3 9.45l-7.72 7.72c-.78.78-.78 2.05 0 2.83L4 21.41c.39.39.9.59 1.41.59.51 0 1.02-.2 1.41-.59l7.78-7.78 2.81-2.81c.8-.78.8-2.07 0-2.86zM5.41 20L4 18.59l7.72-7.72 1.47 1.35L5.41 20z\"/>\n",
              "  </svg>\n",
              "      </button>\n",
              "      \n",
              "  <style>\n",
              "    .colab-df-container {\n",
              "      display:flex;\n",
              "      flex-wrap:wrap;\n",
              "      gap: 12px;\n",
              "    }\n",
              "\n",
              "    .colab-df-convert {\n",
              "      background-color: #E8F0FE;\n",
              "      border: none;\n",
              "      border-radius: 50%;\n",
              "      cursor: pointer;\n",
              "      display: none;\n",
              "      fill: #1967D2;\n",
              "      height: 32px;\n",
              "      padding: 0 0 0 0;\n",
              "      width: 32px;\n",
              "    }\n",
              "\n",
              "    .colab-df-convert:hover {\n",
              "      background-color: #E2EBFA;\n",
              "      box-shadow: 0px 1px 2px rgba(60, 64, 67, 0.3), 0px 1px 3px 1px rgba(60, 64, 67, 0.15);\n",
              "      fill: #174EA6;\n",
              "    }\n",
              "\n",
              "    [theme=dark] .colab-df-convert {\n",
              "      background-color: #3B4455;\n",
              "      fill: #D2E3FC;\n",
              "    }\n",
              "\n",
              "    [theme=dark] .colab-df-convert:hover {\n",
              "      background-color: #434B5C;\n",
              "      box-shadow: 0px 1px 3px 1px rgba(0, 0, 0, 0.15);\n",
              "      filter: drop-shadow(0px 1px 2px rgba(0, 0, 0, 0.3));\n",
              "      fill: #FFFFFF;\n",
              "    }\n",
              "  </style>\n",
              "\n",
              "      <script>\n",
              "        const buttonEl =\n",
              "          document.querySelector('#df-e1c43198-97ba-4c3b-a879-985bd2c63a7c button.colab-df-convert');\n",
              "        buttonEl.style.display =\n",
              "          google.colab.kernel.accessAllowed ? 'block' : 'none';\n",
              "\n",
              "        async function convertToInteractive(key) {\n",
              "          const element = document.querySelector('#df-e1c43198-97ba-4c3b-a879-985bd2c63a7c');\n",
              "          const dataTable =\n",
              "            await google.colab.kernel.invokeFunction('convertToInteractive',\n",
              "                                                     [key], {});\n",
              "          if (!dataTable) return;\n",
              "\n",
              "          const docLinkHtml = 'Like what you see? Visit the ' +\n",
              "            '<a target=\"_blank\" href=https://colab.research.google.com/notebooks/data_table.ipynb>data table notebook</a>'\n",
              "            + ' to learn more about interactive tables.';\n",
              "          element.innerHTML = '';\n",
              "          dataTable['output_type'] = 'display_data';\n",
              "          await google.colab.output.renderOutput(dataTable, element);\n",
              "          const docLink = document.createElement('div');\n",
              "          docLink.innerHTML = docLinkHtml;\n",
              "          element.appendChild(docLink);\n",
              "        }\n",
              "      </script>\n",
              "    </div>\n",
              "  </div>\n",
              "  "
            ]
          },
          "metadata": {},
          "execution_count": 68
        }
      ]
    },
    {
      "cell_type": "code",
      "source": [
        "all_data.groupby(\"Month\").sum()[\"Sale\"]"
      ],
      "metadata": {
        "colab": {
          "base_uri": "https://localhost:8080/"
        },
        "id": "oPupcCLkpGLh",
        "outputId": "bcc72fdc-0f31-463f-b743-4e5d697dc1be"
      },
      "execution_count": 69,
      "outputs": [
        {
          "output_type": "execute_result",
          "data": {
            "text/plain": [
              "Month\n",
              "1     1822256.73\n",
              "2     2202022.42\n",
              "3     2807100.38\n",
              "4     3390670.24\n",
              "5     3152606.75\n",
              "6     2577802.26\n",
              "7     2647775.76\n",
              "8     2244467.88\n",
              "9     2097560.13\n",
              "10    3736726.88\n",
              "11    3199603.20\n",
              "12    4613443.34\n",
              "Name: Sale, dtype: float64"
            ]
          },
          "metadata": {},
          "execution_count": 69
        }
      ]
    },
    {
      "cell_type": "code",
      "source": [
        "all_data.groupby(\"Month\").sum()[\"Sale\"].max()"
      ],
      "metadata": {
        "colab": {
          "base_uri": "https://localhost:8080/"
        },
        "id": "sGE0XwY0pQwc",
        "outputId": "7c504215-347c-486a-ef9c-4daaac3bb093"
      },
      "execution_count": 71,
      "outputs": [
        {
          "output_type": "execute_result",
          "data": {
            "text/plain": [
              "4613443.34"
            ]
          },
          "metadata": {},
          "execution_count": 71
        }
      ]
    },
    {
      "cell_type": "markdown",
      "source": [
        "#December had the highest sale"
      ],
      "metadata": {
        "id": "C5j29dI3pp1n"
      }
    },
    {
      "cell_type": "code",
      "source": [
        "#plotting the results\n",
        "import matplotlib.pyplot as plt"
      ],
      "metadata": {
        "id": "6l_vNu7sptCL"
      },
      "execution_count": 72,
      "outputs": []
    },
    {
      "cell_type": "code",
      "source": [
        "sales = all_data.groupby(\"Month\").sum()[\"Sale\"]\n",
        "\n",
        "months = [\"Jan\", \"Feb\", \"Mar\", \"Apr\", \"May\", \"Jun\", \"Jul\", \"Aug\", \"Sep\", \"Oct\", \"Nov\", \"Dec\"]\n",
        "plt.bar(range(1,13), sales, color=\"#ADD8E6\")\n",
        "plt.xlabel(\"Month\")\n",
        "plt.xticks(range(1,13),months)\n",
        "plt.ylabel(\"Sales in Millions ($)\")\n",
        "plt.title(\"Sales per Month\")\n",
        "plt.show()"
      ],
      "metadata": {
        "colab": {
          "base_uri": "https://localhost:8080/",
          "height": 295
        },
        "id": "o6EVNvcjp7hZ",
        "outputId": "730189a8-5d87-48c2-d381-8715b117e662"
      },
      "execution_count": 88,
      "outputs": [
        {
          "output_type": "display_data",
          "data": {
            "text/plain": [
              "<Figure size 432x288 with 1 Axes>"
            ],
            "image/png": "[encoded data removed]"
          },
          "metadata": {
            "needs_background": "light"
          }
        }
      ]
    },
    {
      "cell_type": "markdown",
      "source": [
        "**Question 2: Which city has the highest number of sales ?**"
      ],
      "metadata": {
        "id": "97F_k68FtXgu"
      }
    },
    {
      "cell_type": "code",
      "source": [
        "#Adding a city column"
      ],
      "metadata": {
        "id": "42d4rjOnqMdf"
      },
      "execution_count": 89,
      "outputs": []
    },
    {
      "cell_type": "code",
      "source": [
        "all_data[\"Purchase Address\"].sample(5)"
      ],
      "metadata": {
        "colab": {
          "base_uri": "https://localhost:8080/"
        },
        "id": "PDUr_YZ1tQBP",
        "outputId": "c258b847-be47-4008-a5f1-0d02896e1892"
      },
      "execution_count": 90,
      "outputs": [
        {
          "output_type": "execute_result",
          "data": {
            "text/plain": [
              "13169          925 Pine St, San Francisco, CA 94016\n",
              "9889     213 Washington St, San Francisco, CA 94016\n",
              "4974          458 Ridge St, San Francisco, CA 94016\n",
              "1656               696 Walnut St, Atlanta, GA 30301\n",
              "14481          96 North St, San Francisco, CA 94016\n",
              "Name: Purchase Address, dtype: object"
            ]
          },
          "metadata": {},
          "execution_count": 90
        }
      ]
    },
    {
      "cell_type": "markdown",
      "source": [
        " .apply() method\n",
        "\n",
        "   allows to run any function on the dataframe\n",
        "\n",
        "925 Pine St, San Francisco, CA 94016\n",
        "\n",
        "the city is after the first comma\n"
      ],
      "metadata": {
        "id": "70hGxHofuwTV"
      }
    },
    {
      "cell_type": "code",
      "source": [
        "all_data[\"Purchase Address\"].apply(lambda x: x.split(',')[1]).unique()"
      ],
      "metadata": {
        "colab": {
          "base_uri": "https://localhost:8080/"
        },
        "id": "voKyJMM6tQPa",
        "outputId": "5780e0d9-f5ed-40b0-fd7d-1ec3b999abc6"
      },
      "execution_count": 92,
      "outputs": [
        {
          "output_type": "execute_result",
          "data": {
            "text/plain": [
              "array([' New York City', ' San Francisco', ' Atlanta', ' Portland',\n",
              "       ' Dallas', ' Los Angeles', ' Boston', ' Austin', ' Seattle'],\n",
              "      dtype=object)"
            ]
          },
          "metadata": {},
          "execution_count": 92
        }
      ]
    },
    {
      "cell_type": "code",
      "source": [
        "all_data[\"City\"] = all_data[\"Purchase Address\"].apply(lambda x: x.split(',')[1])"
      ],
      "metadata": {
        "id": "lVrJ8dt3tQmK"
      },
      "execution_count": 93,
      "outputs": []
    },
    {
      "cell_type": "markdown",
      "source": [
        "ANOTHER WAY\n",
        "\n",
        "    def get_city(x):\n",
        "      return x.split(',')[1]\n",
        "\n",
        "\n",
        "    all_data[\"Purchase Address\"].apply(lambda x: get_city(x))\n",
        "\n",
        "\n",
        "One can add any function like this for manipulating columns\n",
        "\n",
        "NOT FOR LARGE DATA, POOR PERFORMANCE, Use Lambda Instead (to reduce control flow traversal)"
      ],
      "metadata": {
        "id": "N5W9sM9bviuE"
      }
    },
    {
      "cell_type": "code",
      "source": [
        "all_data.info()"
      ],
      "metadata": {
        "colab": {
          "base_uri": "https://localhost:8080/"
        },
        "id": "G0CuEjhUtQx7",
        "outputId": "6da61b79-8bbe-4b3e-f80e-6aa9c83867e2"
      },
      "execution_count": 94,
      "outputs": [
        {
          "output_type": "stream",
          "name": "stdout",
          "text": [
            "<class 'pandas.core.frame.DataFrame'>\n",
            "Int64Index: 185950 entries, 0 to 15225\n",
            "Data columns (total 9 columns):\n",
            " #   Column            Non-Null Count   Dtype  \n",
            "---  ------            --------------   -----  \n",
            " 0   Order ID          185950 non-null  int32  \n",
            " 1   Product           185950 non-null  object \n",
            " 2   Quantity Ordered  185950 non-null  int32  \n",
            " 3   Price Each        185950 non-null  float64\n",
            " 4   Order Date        185950 non-null  object \n",
            " 5   Purchase Address  185950 non-null  object \n",
            " 6   Month             185950 non-null  int32  \n",
            " 7   Sale              185950 non-null  float64\n",
            " 8   City              185950 non-null  object \n",
            "dtypes: float64(2), int32(3), object(4)\n",
            "memory usage: 12.1+ MB\n"
          ]
        }
      ]
    },
    {
      "cell_type": "code",
      "source": [],
      "metadata": {
        "id": "AbaO_lKntQ7z"
      },
      "execution_count": null,
      "outputs": []
    },
    {
      "cell_type": "code",
      "source": [
        "#DIFFERENT STATES MIGHT HAVE SAME CITY NAME"
      ],
      "metadata": {
        "id": "aAnDvUgctREi"
      },
      "execution_count": null,
      "outputs": []
    },
    {
      "cell_type": "code",
      "source": [
        "def get_state(x):\n",
        "  return x.split(',')[2].split(' ')[1]\n",
        "  #state contains white space in front, so the second one will be state\n",
        "def get_city(x):\n",
        "  return x.split(',')[1][1:]\n",
        "  #city also has white space infront of it, so splitting it again n extracting the second item\n",
        "\n",
        "all_data[\"City\"] = all_data[\"Purchase Address\"].apply(lambda x: get_city(x) + \" (\" + get_state(x) +\")\" )\n",
        "      "
      ],
      "metadata": {
        "id": "jSx-O3P4tROG"
      },
      "execution_count": 104,
      "outputs": []
    },
    {
      "cell_type": "code",
      "source": [
        "all_data.sample(5)"
      ],
      "metadata": {
        "colab": {
          "base_uri": "https://localhost:8080/",
          "height": 354
        },
        "id": "1WWaB82_yXNy",
        "outputId": "0f1505c6-a9c5-45ed-f435-a2d13bb6871f"
      },
      "execution_count": 105,
      "outputs": [
        {
          "output_type": "execute_result",
          "data": {
            "text/plain": [
              "       Order ID                     Product  Quantity Ordered  Price Each  \\\n",
              "23151    317778       AA Batteries (4-pack)                 1        3.84   \n",
              "2823     153196  Bose SoundSport Headphones                 1       99.99   \n",
              "9067     304309      27in 4K Gaming Monitor                 1      389.99   \n",
              "5233     155489      27in 4K Gaming Monitor                 1      389.99   \n",
              "12504    173945            Wired Headphones                 1       11.99   \n",
              "\n",
              "           Order Date                       Purchase Address  Month    Sale  \\\n",
              "23151  12/01/19 08:32    685 River St, Los Angeles, CA 90001     12    3.84   \n",
              "2823   02/26/19 19:54         611 North St, Dallas, TX 75001      2   99.99   \n",
              "9067   12/03/19 19:16          606 2nd St, Seattle, WA 98101     12  389.99   \n",
              "5233   02/11/19 20:07   797 Forest St, Los Angeles, CA 90001      2  389.99   \n",
              "12504  03/08/19 10:59  726 Adams St, San Francisco, CA 94016      3   11.99   \n",
              "\n",
              "                     City  \n",
              "23151    Los Angeles (CA)  \n",
              "2823          Dallas (TX)  \n",
              "9067         Seattle (WA)  \n",
              "5233     Los Angeles (CA)  \n",
              "12504  San Francisco (CA)  "
            ],
            "text/html": [
              "\n",
              "  <div id=\"df-00f5edee-785c-4daf-b9c9-5557e2a4d8e7\">\n",
              "    <div class=\"colab-df-container\">\n",
              "      <div>\n",
              "<style scoped>\n",
              "    .dataframe tbody tr th:only-of-type {\n",
              "        vertical-align: middle;\n",
              "    }\n",
              "\n",
              "    .dataframe tbody tr th {\n",
              "        vertical-align: top;\n",
              "    }\n",
              "\n",
              "    .dataframe thead th {\n",
              "        text-align: right;\n",
              "    }\n",
              "</style>\n",
              "<table border=\"1\" class=\"dataframe\">\n",
              "  <thead>\n",
              "    <tr style=\"text-align: right;\">\n",
              "      <th></th>\n",
              "      <th>Order ID</th>\n",
              "      <th>Product</th>\n",
              "      <th>Quantity Ordered</th>\n",
              "      <th>Price Each</th>\n",
              "      <th>Order Date</th>\n",
              "      <th>Purchase Address</th>\n",
              "      <th>Month</th>\n",
              "      <th>Sale</th>\n",
              "      <th>City</th>\n",
              "    </tr>\n",
              "  </thead>\n",
              "  <tbody>\n",
              "    <tr>\n",
              "      <th>23151</th>\n",
              "      <td>317778</td>\n",
              "      <td>AA Batteries (4-pack)</td>\n",
              "      <td>1</td>\n",
              "      <td>3.84</td>\n",
              "      <td>12/01/19 08:32</td>\n",
              "      <td>685 River St, Los Angeles, CA 90001</td>\n",
              "      <td>12</td>\n",
              "      <td>3.84</td>\n",
              "      <td>Los Angeles (CA)</td>\n",
              "    </tr>\n",
              "    <tr>\n",
              "      <th>2823</th>\n",
              "      <td>153196</td>\n",
              "      <td>Bose SoundSport Headphones</td>\n",
              "      <td>1</td>\n",
              "      <td>99.99</td>\n",
              "      <td>02/26/19 19:54</td>\n",
              "      <td>611 North St, Dallas, TX 75001</td>\n",
              "      <td>2</td>\n",
              "      <td>99.99</td>\n",
              "      <td>Dallas (TX)</td>\n",
              "    </tr>\n",
              "    <tr>\n",
              "      <th>9067</th>\n",
              "      <td>304309</td>\n",
              "      <td>27in 4K Gaming Monitor</td>\n",
              "      <td>1</td>\n",
              "      <td>389.99</td>\n",
              "      <td>12/03/19 19:16</td>\n",
              "      <td>606 2nd St, Seattle, WA 98101</td>\n",
              "      <td>12</td>\n",
              "      <td>389.99</td>\n",
              "      <td>Seattle (WA)</td>\n",
              "    </tr>\n",
              "    <tr>\n",
              "      <th>5233</th>\n",
              "      <td>155489</td>\n",
              "      <td>27in 4K Gaming Monitor</td>\n",
              "      <td>1</td>\n",
              "      <td>389.99</td>\n",
              "      <td>02/11/19 20:07</td>\n",
              "      <td>797 Forest St, Los Angeles, CA 90001</td>\n",
              "      <td>2</td>\n",
              "      <td>389.99</td>\n",
              "      <td>Los Angeles (CA)</td>\n",
              "    </tr>\n",
              "    <tr>\n",
              "      <th>12504</th>\n",
              "      <td>173945</td>\n",
              "      <td>Wired Headphones</td>\n",
              "      <td>1</td>\n",
              "      <td>11.99</td>\n",
              "      <td>03/08/19 10:59</td>\n",
              "      <td>726 Adams St, San Francisco, CA 94016</td>\n",
              "      <td>3</td>\n",
              "      <td>11.99</td>\n",
              "      <td>San Francisco (CA)</td>\n",
              "    </tr>\n",
              "  </tbody>\n",
              "</table>\n",
              "</div>\n",
              "      <button class=\"colab-df-convert\" onclick=\"convertToInteractive('df-00f5edee-785c-4daf-b9c9-5557e2a4d8e7')\"\n",
              "              title=\"Convert this dataframe to an interactive table.\"\n",
              "              style=\"display:none;\">\n",
              "        \n",
              "  <svg xmlns=\"http://www.w3.org/2000/svg\" height=\"24px\"viewBox=\"0 0 24 24\"\n",
              "       width=\"24px\">\n",
              "    <path d=\"M0 0h24v24H0V0z\" fill=\"none\"/>\n",
              "    <path d=\"M18.56 5.44l.94 2.06.94-2.06 2.06-.94-2.06-.94-.94-2.06-.94 2.06-2.06.94zm-11 1L8.5 8.5l.94-2.06 2.06-.94-2.06-.94L8.5 2.5l-.94 2.06-2.06.94zm10 10l.94 2.06.94-2.06 2.06-.94-2.06-.94-.94-2.06-.94 2.06-2.06.94z\"/><path d=\"M17.41 7.96l-1.37-1.37c-.4-.4-.92-.59-1.43-.59-.52 0-1.04.2-1.43.59L10.3 9.45l-7.72 7.72c-.78.78-.78 2.05 0 2.83L4 21.41c.39.39.9.59 1.41.59.51 0 1.02-.2 1.41-.59l7.78-7.78 2.81-2.81c.8-.78.8-2.07 0-2.86zM5.41 20L4 18.59l7.72-7.72 1.47 1.35L5.41 20z\"/>\n",
              "  </svg>\n",
              "      </button>\n",
              "      \n",
              "  <style>\n",
              "    .colab-df-container {\n",
              "      display:flex;\n",
              "      flex-wrap:wrap;\n",
              "      gap: 12px;\n",
              "    }\n",
              "\n",
              "    .colab-df-convert {\n",
              "      background-color: #E8F0FE;\n",
              "      border: none;\n",
              "      border-radius: 50%;\n",
              "      cursor: pointer;\n",
              "      display: none;\n",
              "      fill: #1967D2;\n",
              "      height: 32px;\n",
              "      padding: 0 0 0 0;\n",
              "      width: 32px;\n",
              "    }\n",
              "\n",
              "    .colab-df-convert:hover {\n",
              "      background-color: #E2EBFA;\n",
              "      box-shadow: 0px 1px 2px rgba(60, 64, 67, 0.3), 0px 1px 3px 1px rgba(60, 64, 67, 0.15);\n",
              "      fill: #174EA6;\n",
              "    }\n",
              "\n",
              "    [theme=dark] .colab-df-convert {\n",
              "      background-color: #3B4455;\n",
              "      fill: #D2E3FC;\n",
              "    }\n",
              "\n",
              "    [theme=dark] .colab-df-convert:hover {\n",
              "      background-color: #434B5C;\n",
              "      box-shadow: 0px 1px 3px 1px rgba(0, 0, 0, 0.15);\n",
              "      filter: drop-shadow(0px 1px 2px rgba(0, 0, 0, 0.3));\n",
              "      fill: #FFFFFF;\n",
              "    }\n",
              "  </style>\n",
              "\n",
              "      <script>\n",
              "        const buttonEl =\n",
              "          document.querySelector('#df-00f5edee-785c-4daf-b9c9-5557e2a4d8e7 button.colab-df-convert');\n",
              "        buttonEl.style.display =\n",
              "          google.colab.kernel.accessAllowed ? 'block' : 'none';\n",
              "\n",
              "        async function convertToInteractive(key) {\n",
              "          const element = document.querySelector('#df-00f5edee-785c-4daf-b9c9-5557e2a4d8e7');\n",
              "          const dataTable =\n",
              "            await google.colab.kernel.invokeFunction('convertToInteractive',\n",
              "                                                     [key], {});\n",
              "          if (!dataTable) return;\n",
              "\n",
              "          const docLinkHtml = 'Like what you see? Visit the ' +\n",
              "            '<a target=\"_blank\" href=https://colab.research.google.com/notebooks/data_table.ipynb>data table notebook</a>'\n",
              "            + ' to learn more about interactive tables.';\n",
              "          element.innerHTML = '';\n",
              "          dataTable['output_type'] = 'display_data';\n",
              "          await google.colab.output.renderOutput(dataTable, element);\n",
              "          const docLink = document.createElement('div');\n",
              "          docLink.innerHTML = docLinkHtml;\n",
              "          element.appendChild(docLink);\n",
              "        }\n",
              "      </script>\n",
              "    </div>\n",
              "  </div>\n",
              "  "
            ]
          },
          "metadata": {},
          "execution_count": 105
        }
      ]
    },
    {
      "cell_type": "code",
      "source": [
        "all_data[\"City\"].unique()"
      ],
      "metadata": {
        "colab": {
          "base_uri": "https://localhost:8080/"
        },
        "id": "QfmpVxTryZtL",
        "outputId": "02e2bf96-2e59-4ff3-dec0-0c5893f1cda2"
      },
      "execution_count": 106,
      "outputs": [
        {
          "output_type": "execute_result",
          "data": {
            "text/plain": [
              "array(['New York City (NY)', 'San Francisco (CA)', 'Atlanta (GA)',\n",
              "       'Portland (OR)', 'Dallas (TX)', 'Los Angeles (CA)', 'Boston (MA)',\n",
              "       'Austin (TX)', 'Portland (ME)', 'Seattle (WA)'], dtype=object)"
            ]
          },
          "metadata": {},
          "execution_count": 106
        }
      ]
    },
    {
      "cell_type": "code",
      "source": [
        "#changing the sale column name\n",
        "all_data.rename(columns={\"Sale\": \"Sales\"}, inplace=True)"
      ],
      "metadata": {
        "id": "8WAQIHZEzLTp"
      },
      "execution_count": 109,
      "outputs": []
    },
    {
      "cell_type": "code",
      "source": [
        "all_data.groupby(\"City\").sum()[\"Sales\"]"
      ],
      "metadata": {
        "colab": {
          "base_uri": "https://localhost:8080/"
        },
        "id": "pp46x8XwzQfB",
        "outputId": "3cfec890-d34a-4b39-8e58-c7d34ad7d94e"
      },
      "execution_count": 110,
      "outputs": [
        {
          "output_type": "execute_result",
          "data": {
            "text/plain": [
              "City\n",
              "Atlanta (GA)          2795498.58\n",
              "Austin (TX)           1819581.75\n",
              "Boston (MA)           3661642.01\n",
              "Dallas (TX)           2767975.40\n",
              "Los Angeles (CA)      5452570.80\n",
              "New York City (NY)    4664317.43\n",
              "Portland (ME)          449758.27\n",
              "Portland (OR)         1870732.34\n",
              "San Francisco (CA)    8262203.91\n",
              "Seattle (WA)          2747755.48\n",
              "Name: Sales, dtype: float64"
            ]
          },
          "metadata": {},
          "execution_count": 110
        }
      ]
    },
    {
      "cell_type": "code",
      "source": [],
      "metadata": {
        "id": "mr8QnsO_0Nff"
      },
      "execution_count": null,
      "outputs": []
    },
    {
      "cell_type": "code",
      "source": [
        "sales = all_data.groupby(\"City\").sum()[\"Sales\"]\n",
        "\n",
        "cities = all_data['City'].unique()\n",
        "plt.bar(cities, sales, color=\"#ADD8E6\")\n",
        "plt.xlabel(\"Cities\")\n",
        "\n",
        "plt.ylabel(\"Sales in Millions ($)\")\n",
        "plt.title(\"Sales per City\")\n",
        "plt.show()"
      ],
      "metadata": {
        "colab": {
          "base_uri": "https://localhost:8080/",
          "height": 295
        },
        "id": "_uULcTU2zQoo",
        "outputId": "03eb182b-b805-48f5-d938-6b7d81813d18"
      },
      "execution_count": 118,
      "outputs": [
        {
          "output_type": "display_data",
          "data": {
            "text/plain": [
              "<Figure size 432x288 with 1 Axes>"
            ],
            "image/png": "[encoded data removed]"
          },
          "metadata": {
            "needs_background": "light"
          }
        }
      ]
    },
    {
      "cell_type": "code",
      "source": [
        "sales = all_data.groupby(\"City\").sum()[\"Sales\"]\n",
        "\n",
        "cities = all_data['City'].unique()\n",
        "plt.bar(cities, sales, color=\"#ADD8E6\")\n",
        "plt.xlabel(\"Cities\")\n",
        "\n",
        "plt.xticks(cities, rotation='vertical')\n",
        "\n",
        "plt.ylabel(\"Sales in Millions ($)\")\n",
        "plt.title(\"Sales per City\")\n",
        "plt.show()"
      ],
      "metadata": {
        "colab": {
          "base_uri": "https://localhost:8080/",
          "height": 379
        },
        "id": "caCv0LhwzQuu",
        "outputId": "679fc8ca-d6aa-4886-88b9-aa297bb56a5a"
      },
      "execution_count": 120,
      "outputs": [
        {
          "output_type": "display_data",
          "data": {
            "text/plain": [
              "<Figure size 432x288 with 1 Axes>"
            ],
            "image/png": "[encoded data removed]"
          },
          "metadata": {
            "needs_background": "light"
          }
        }
      ]
    },
    {
      "cell_type": "markdown",
      "source": [
        "Above graphh is INCONSISTENT WITH the sales made, the xticks are not in consistent with Sales value shown"
      ],
      "metadata": {
        "id": "k_Qa8IIn6aQ4"
      }
    },
    {
      "cell_type": "code",
      "source": [
        "sales"
      ],
      "metadata": {
        "colab": {
          "base_uri": "https://localhost:8080/"
        },
        "id": "oGPROX_dzQ0s",
        "outputId": "9a513af3-62e4-4e9e-d878-522f7be22dd8"
      },
      "execution_count": 121,
      "outputs": [
        {
          "output_type": "execute_result",
          "data": {
            "text/plain": [
              "City\n",
              "Atlanta (GA)          2795498.58\n",
              "Austin (TX)           1819581.75\n",
              "Boston (MA)           3661642.01\n",
              "Dallas (TX)           2767975.40\n",
              "Los Angeles (CA)      5452570.80\n",
              "New York City (NY)    4664317.43\n",
              "Portland (ME)          449758.27\n",
              "Portland (OR)         1870732.34\n",
              "San Francisco (CA)    8262203.91\n",
              "Seattle (WA)          2747755.48\n",
              "Name: Sales, dtype: float64"
            ]
          },
          "metadata": {},
          "execution_count": 121
        }
      ]
    },
    {
      "cell_type": "code",
      "source": [
        "#sales is ordered alphabetically\n",
        "cities"
      ],
      "metadata": {
        "colab": {
          "base_uri": "https://localhost:8080/"
        },
        "id": "xMtokTJd6mrh",
        "outputId": "4c654418-7b35-4d21-be0f-cada39b7965a"
      },
      "execution_count": 122,
      "outputs": [
        {
          "output_type": "execute_result",
          "data": {
            "text/plain": [
              "array(['New York City (NY)', 'San Francisco (CA)', 'Atlanta (GA)',\n",
              "       'Portland (OR)', 'Dallas (TX)', 'Los Angeles (CA)', 'Boston (MA)',\n",
              "       'Austin (TX)', 'Portland (ME)', 'Seattle (WA)'], dtype=object)"
            ]
          },
          "metadata": {},
          "execution_count": 122
        }
      ]
    },
    {
      "cell_type": "code",
      "source": [
        "cities.sort()\n",
        "cities"
      ],
      "metadata": {
        "colab": {
          "base_uri": "https://localhost:8080/"
        },
        "id": "iSrVcuf16t-w",
        "outputId": "c6ee808d-e247-46dc-dc55-26ec3434dd84"
      },
      "execution_count": 124,
      "outputs": [
        {
          "output_type": "execute_result",
          "data": {
            "text/plain": [
              "array(['Atlanta (GA)', 'Austin (TX)', 'Boston (MA)', 'Dallas (TX)',\n",
              "       'Los Angeles (CA)', 'New York City (NY)', 'Portland (ME)',\n",
              "       'Portland (OR)', 'San Francisco (CA)', 'Seattle (WA)'],\n",
              "      dtype=object)"
            ]
          },
          "metadata": {},
          "execution_count": 124
        }
      ]
    },
    {
      "cell_type": "code",
      "source": [
        "\n",
        "#another way to get cities as they were in group by\n",
        "cities = [city for city, df in all_data.groupby(\"City\")]\n",
        "plt.bar(cities, sales, color=\"#FAD5A5\")\n",
        "plt.xlabel(\"Cities\")\n",
        "\n",
        "plt.xticks(cities, rotation='vertical')\n",
        "\n",
        "plt.ylabel(\"Sales in Millions ($)\")\n",
        "plt.title(\"Sales per City\")\n",
        "plt.show()"
      ],
      "metadata": {
        "colab": {
          "base_uri": "https://localhost:8080/",
          "height": 379
        },
        "id": "7GlJGUwZ6yUp",
        "outputId": "0c64781b-cfe0-46c0-a16c-7ae9a1b79247"
      },
      "execution_count": 126,
      "outputs": [
        {
          "output_type": "display_data",
          "data": {
            "text/plain": [
              "<Figure size 432x288 with 1 Axes>"
            ],
            "image/png": "[encoded data removed]"
          },
          "metadata": {
            "needs_background": "light"
          }
        }
      ]
    },
    {
      "cell_type": "markdown",
      "source": [
        "Answer: San Francisco has the highes sales"
      ],
      "metadata": {
        "id": "NZGzLcjx71VO"
      }
    },
    {
      "cell_type": "code",
      "source": [
        "san_data = pd.DataFrame(all_data[all_data[\"City\"]=='San Francisco (CA)'])"
      ],
      "metadata": {
        "id": "yOfRZexu7FhH"
      },
      "execution_count": 140,
      "outputs": []
    },
    {
      "cell_type": "code",
      "source": [
        "pd.DataFrame(san_data[\"Product\"]).nunique(axis=0)"
      ],
      "metadata": {
        "colab": {
          "base_uri": "https://localhost:8080/"
        },
        "id": "BOHJV1I68NK5",
        "outputId": "85b8e055-74ba-49b2-e85e-25f7d3871d44"
      },
      "execution_count": 144,
      "outputs": [
        {
          "output_type": "execute_result",
          "data": {
            "text/plain": [
              "Product    19\n",
              "dtype: int64"
            ]
          },
          "metadata": {},
          "execution_count": 144
        }
      ]
    },
    {
      "cell_type": "code",
      "source": [
        "all_data.nunique()"
      ],
      "metadata": {
        "colab": {
          "base_uri": "https://localhost:8080/"
        },
        "id": "vLBIZps_9ady",
        "outputId": "24d124d3-03cd-4353-c9a4-55c30bee2aa3"
      },
      "execution_count": 145,
      "outputs": [
        {
          "output_type": "execute_result",
          "data": {
            "text/plain": [
              "Order ID            178437\n",
              "Product                 19\n",
              "Quantity Ordered         9\n",
              "Price Each              17\n",
              "Order Date          142395\n",
              "Purchase Address    140787\n",
              "Month                   12\n",
              "Sales                   54\n",
              "City                    10\n",
              "dtype: int64"
            ]
          },
          "metadata": {},
          "execution_count": 145
        }
      ]
    },
    {
      "cell_type": "code",
      "source": [
        "san_data[\"Product\"].value_counts()"
      ],
      "metadata": {
        "colab": {
          "base_uri": "https://localhost:8080/"
        },
        "id": "hTzgDKBS9yzh",
        "outputId": "035e9e6c-0561-44ce-a315-66dec532c8f5"
      },
      "execution_count": 148,
      "outputs": [
        {
          "output_type": "execute_result",
          "data": {
            "text/plain": [
              "USB-C Charging Cable          5368\n",
              "Lightning Charging Cable      5174\n",
              "AAA Batteries (4-pack)        4932\n",
              "AA Batteries (4-pack)         4903\n",
              "Wired Headphones              4592\n",
              "Apple Airpods Headphones      3705\n",
              "Bose SoundSport Headphones    3287\n",
              "27in FHD Monitor              1803\n",
              "iPhone                        1660\n",
              "27in 4K Gaming Monitor        1456\n",
              "34in Ultrawide Monitor        1442\n",
              "Google Phone                  1355\n",
              "Flatscreen TV                 1149\n",
              "Macbook Pro Laptop            1134\n",
              "20in Monitor                   993\n",
              "ThinkPad Laptop                963\n",
              "Vareebadd Phone                493\n",
              "LG Washing Machine             180\n",
              "LG Dryer                       143\n",
              "Name: Product, dtype: int64"
            ]
          },
          "metadata": {},
          "execution_count": 148
        }
      ]
    },
    {
      "cell_type": "markdown",
      "source": [
        "      .value_counts()\n",
        "\n",
        "It gives the occurance of different values\n",
        "\n",
        "      df.unique()\n",
        "Retuns different unique Values\n",
        "\n",
        "      df.nunique()\n",
        "It gives the count of unique values in a column\n",
        "\n",
        "\n",
        "\n",
        "In San Francisco and who sales data, USB Cable has been the highest selling product"
      ],
      "metadata": {
        "id": "f2QiDzmI-rkM"
      }
    },
    {
      "cell_type": "code",
      "source": [
        "all_data[\"Product\"].value_counts()"
      ],
      "metadata": {
        "colab": {
          "base_uri": "https://localhost:8080/"
        },
        "id": "-7Hxi19s930t",
        "outputId": "88e26f39-795c-41e3-9b3d-df2d7921e501"
      },
      "execution_count": 152,
      "outputs": [
        {
          "output_type": "execute_result",
          "data": {
            "text/plain": [
              "USB-C Charging Cable          21903\n",
              "Lightning Charging Cable      21658\n",
              "AAA Batteries (4-pack)        20641\n",
              "AA Batteries (4-pack)         20577\n",
              "Wired Headphones              18882\n",
              "Apple Airpods Headphones      15549\n",
              "Bose SoundSport Headphones    13325\n",
              "27in FHD Monitor               7507\n",
              "iPhone                         6842\n",
              "27in 4K Gaming Monitor         6230\n",
              "34in Ultrawide Monitor         6181\n",
              "Google Phone                   5525\n",
              "Flatscreen TV                  4800\n",
              "Macbook Pro Laptop             4724\n",
              "ThinkPad Laptop                4128\n",
              "20in Monitor                   4101\n",
              "Vareebadd Phone                2065\n",
              "LG Washing Machine              666\n",
              "LG Dryer                        646\n",
              "Name: Product, dtype: int64"
            ]
          },
          "metadata": {},
          "execution_count": 152
        }
      ]
    },
    {
      "cell_type": "code",
      "source": [],
      "metadata": {
        "id": "02ApgEI5-aPj"
      },
      "execution_count": 153,
      "outputs": []
    },
    {
      "cell_type": "markdown",
      "source": [
        "**Question 3: At what time should one advertise to maximize likelihood of customer's buynig product ?**"
      ],
      "metadata": {
        "id": "pIfga78B_dxK"
      }
    },
    {
      "cell_type": "code",
      "source": [
        "all_data.head(5)"
      ],
      "metadata": {
        "colab": {
          "base_uri": "https://localhost:8080/",
          "height": 206
        },
        "id": "4ADwiHpp_ZhO",
        "outputId": "f4b8bebd-09ef-45a4-97cd-755907f53121"
      },
      "execution_count": 154,
      "outputs": [
        {
          "output_type": "execute_result",
          "data": {
            "text/plain": [
              "   Order ID               Product  Quantity Ordered  Price Each  \\\n",
              "0    295665    Macbook Pro Laptop                 1     1700.00   \n",
              "1    295666    LG Washing Machine                 1      600.00   \n",
              "2    295667  USB-C Charging Cable                 1       11.95   \n",
              "3    295668      27in FHD Monitor                 1      149.99   \n",
              "4    295669  USB-C Charging Cable                 1       11.95   \n",
              "\n",
              "       Order Date                        Purchase Address  Month    Sales  \\\n",
              "0  12/30/19 00:01  136 Church St, New York City, NY 10001     12  1700.00   \n",
              "1  12/29/19 07:03     562 2nd St, New York City, NY 10001     12   600.00   \n",
              "2  12/12/19 18:21    277 Main St, New York City, NY 10001     12    11.95   \n",
              "3  12/22/19 15:13     410 6th St, San Francisco, CA 94016     12   149.99   \n",
              "4  12/18/19 12:38           43 Hill St, Atlanta, GA 30301     12    11.95   \n",
              "\n",
              "                 City  \n",
              "0  New York City (NY)  \n",
              "1  New York City (NY)  \n",
              "2  New York City (NY)  \n",
              "3  San Francisco (CA)  \n",
              "4        Atlanta (GA)  "
            ],
            "text/html": [
              "\n",
              "  <div id=\"df-f670aa98-69f2-4fe1-b751-ea8c1f06f70d\">\n",
              "    <div class=\"colab-df-container\">\n",
              "      <div>\n",
              "<style scoped>\n",
              "    .dataframe tbody tr th:only-of-type {\n",
              "        vertical-align: middle;\n",
              "    }\n",
              "\n",
              "    .dataframe tbody tr th {\n",
              "        vertical-align: top;\n",
              "    }\n",
              "\n",
              "    .dataframe thead th {\n",
              "        text-align: right;\n",
              "    }\n",
              "</style>\n",
              "<table border=\"1\" class=\"dataframe\">\n",
              "  <thead>\n",
              "    <tr style=\"text-align: right;\">\n",
              "      <th></th>\n",
              "      <th>Order ID</th>\n",
              "      <th>Product</th>\n",
              "      <th>Quantity Ordered</th>\n",
              "      <th>Price Each</th>\n",
              "      <th>Order Date</th>\n",
              "      <th>Purchase Address</th>\n",
              "      <th>Month</th>\n",
              "      <th>Sales</th>\n",
              "      <th>City</th>\n",
              "    </tr>\n",
              "  </thead>\n",
              "  <tbody>\n",
              "    <tr>\n",
              "      <th>0</th>\n",
              "      <td>295665</td>\n",
              "      <td>Macbook Pro Laptop</td>\n",
              "      <td>1</td>\n",
              "      <td>1700.00</td>\n",
              "      <td>12/30/19 00:01</td>\n",
              "      <td>136 Church St, New York City, NY 10001</td>\n",
              "      <td>12</td>\n",
              "      <td>1700.00</td>\n",
              "      <td>New York City (NY)</td>\n",
              "    </tr>\n",
              "    <tr>\n",
              "      <th>1</th>\n",
              "      <td>295666</td>\n",
              "      <td>LG Washing Machine</td>\n",
              "      <td>1</td>\n",
              "      <td>600.00</td>\n",
              "      <td>12/29/19 07:03</td>\n",
              "      <td>562 2nd St, New York City, NY 10001</td>\n",
              "      <td>12</td>\n",
              "      <td>600.00</td>\n",
              "      <td>New York City (NY)</td>\n",
              "    </tr>\n",
              "    <tr>\n",
              "      <th>2</th>\n",
              "      <td>295667</td>\n",
              "      <td>USB-C Charging Cable</td>\n",
              "      <td>1</td>\n",
              "      <td>11.95</td>\n",
              "      <td>12/12/19 18:21</td>\n",
              "      <td>277 Main St, New York City, NY 10001</td>\n",
              "      <td>12</td>\n",
              "      <td>11.95</td>\n",
              "      <td>New York City (NY)</td>\n",
              "    </tr>\n",
              "    <tr>\n",
              "      <th>3</th>\n",
              "      <td>295668</td>\n",
              "      <td>27in FHD Monitor</td>\n",
              "      <td>1</td>\n",
              "      <td>149.99</td>\n",
              "      <td>12/22/19 15:13</td>\n",
              "      <td>410 6th St, San Francisco, CA 94016</td>\n",
              "      <td>12</td>\n",
              "      <td>149.99</td>\n",
              "      <td>San Francisco (CA)</td>\n",
              "    </tr>\n",
              "    <tr>\n",
              "      <th>4</th>\n",
              "      <td>295669</td>\n",
              "      <td>USB-C Charging Cable</td>\n",
              "      <td>1</td>\n",
              "      <td>11.95</td>\n",
              "      <td>12/18/19 12:38</td>\n",
              "      <td>43 Hill St, Atlanta, GA 30301</td>\n",
              "      <td>12</td>\n",
              "      <td>11.95</td>\n",
              "      <td>Atlanta (GA)</td>\n",
              "    </tr>\n",
              "  </tbody>\n",
              "</table>\n",
              "</div>\n",
              "      <button class=\"colab-df-convert\" onclick=\"convertToInteractive('df-f670aa98-69f2-4fe1-b751-ea8c1f06f70d')\"\n",
              "              title=\"Convert this dataframe to an interactive table.\"\n",
              "              style=\"display:none;\">\n",
              "        \n",
              "  <svg xmlns=\"http://www.w3.org/2000/svg\" height=\"24px\"viewBox=\"0 0 24 24\"\n",
              "       width=\"24px\">\n",
              "    <path d=\"M0 0h24v24H0V0z\" fill=\"none\"/>\n",
              "    <path d=\"M18.56 5.44l.94 2.06.94-2.06 2.06-.94-2.06-.94-.94-2.06-.94 2.06-2.06.94zm-11 1L8.5 8.5l.94-2.06 2.06-.94-2.06-.94L8.5 2.5l-.94 2.06-2.06.94zm10 10l.94 2.06.94-2.06 2.06-.94-2.06-.94-.94-2.06-.94 2.06-2.06.94z\"/><path d=\"M17.41 7.96l-1.37-1.37c-.4-.4-.92-.59-1.43-.59-.52 0-1.04.2-1.43.59L10.3 9.45l-7.72 7.72c-.78.78-.78 2.05 0 2.83L4 21.41c.39.39.9.59 1.41.59.51 0 1.02-.2 1.41-.59l7.78-7.78 2.81-2.81c.8-.78.8-2.07 0-2.86zM5.41 20L4 18.59l7.72-7.72 1.47 1.35L5.41 20z\"/>\n",
              "  </svg>\n",
              "      </button>\n",
              "      \n",
              "  <style>\n",
              "    .colab-df-container {\n",
              "      display:flex;\n",
              "      flex-wrap:wrap;\n",
              "      gap: 12px;\n",
              "    }\n",
              "\n",
              "    .colab-df-convert {\n",
              "      background-color: #E8F0FE;\n",
              "      border: none;\n",
              "      border-radius: 50%;\n",
              "      cursor: pointer;\n",
              "      display: none;\n",
              "      fill: #1967D2;\n",
              "      height: 32px;\n",
              "      padding: 0 0 0 0;\n",
              "      width: 32px;\n",
              "    }\n",
              "\n",
              "    .colab-df-convert:hover {\n",
              "      background-color: #E2EBFA;\n",
              "      box-shadow: 0px 1px 2px rgba(60, 64, 67, 0.3), 0px 1px 3px 1px rgba(60, 64, 67, 0.15);\n",
              "      fill: #174EA6;\n",
              "    }\n",
              "\n",
              "    [theme=dark] .colab-df-convert {\n",
              "      background-color: #3B4455;\n",
              "      fill: #D2E3FC;\n",
              "    }\n",
              "\n",
              "    [theme=dark] .colab-df-convert:hover {\n",
              "      background-color: #434B5C;\n",
              "      box-shadow: 0px 1px 3px 1px rgba(0, 0, 0, 0.15);\n",
              "      filter: drop-shadow(0px 1px 2px rgba(0, 0, 0, 0.3));\n",
              "      fill: #FFFFFF;\n",
              "    }\n",
              "  </style>\n",
              "\n",
              "      <script>\n",
              "        const buttonEl =\n",
              "          document.querySelector('#df-f670aa98-69f2-4fe1-b751-ea8c1f06f70d button.colab-df-convert');\n",
              "        buttonEl.style.display =\n",
              "          google.colab.kernel.accessAllowed ? 'block' : 'none';\n",
              "\n",
              "        async function convertToInteractive(key) {\n",
              "          const element = document.querySelector('#df-f670aa98-69f2-4fe1-b751-ea8c1f06f70d');\n",
              "          const dataTable =\n",
              "            await google.colab.kernel.invokeFunction('convertToInteractive',\n",
              "                                                     [key], {});\n",
              "          if (!dataTable) return;\n",
              "\n",
              "          const docLinkHtml = 'Like what you see? Visit the ' +\n",
              "            '<a target=\"_blank\" href=https://colab.research.google.com/notebooks/data_table.ipynb>data table notebook</a>'\n",
              "            + ' to learn more about interactive tables.';\n",
              "          element.innerHTML = '';\n",
              "          dataTable['output_type'] = 'display_data';\n",
              "          await google.colab.output.renderOutput(dataTable, element);\n",
              "          const docLink = document.createElement('div');\n",
              "          docLink.innerHTML = docLinkHtml;\n",
              "          element.appendChild(docLink);\n",
              "        }\n",
              "      </script>\n",
              "    </div>\n",
              "  </div>\n",
              "  "
            ]
          },
          "metadata": {},
          "execution_count": 154
        }
      ]
    },
    {
      "cell_type": "code",
      "source": [
        "#Time Format may change in Order Date column in future, \n",
        "#NOT RECOMMENDED TO GET THROUGH STRING MANIPULATION (month as well)\n",
        "#hence using to_datetime() method"
      ],
      "metadata": {
        "id": "HYKkwDDF_sNP"
      },
      "execution_count": 155,
      "outputs": []
    },
    {
      "cell_type": "code",
      "source": [
        "all_data[\"Order Date\"] = pd.to_datetime(all_data[\"Order Date\"])"
      ],
      "metadata": {
        "id": "-iggelodAKs5"
      },
      "execution_count": 157,
      "outputs": []
    },
    {
      "cell_type": "code",
      "source": [
        "all_data[\"Order Date\"].sample(5)"
      ],
      "metadata": {
        "colab": {
          "base_uri": "https://localhost:8080/"
        },
        "id": "NBW3yhS7AcZm",
        "outputId": "e637106f-9f5e-4c43-8022-df64daa05755"
      },
      "execution_count": 158,
      "outputs": [
        {
          "output_type": "execute_result",
          "data": {
            "text/plain": [
              "7768    2019-02-28 17:28:00\n",
              "9060    2019-02-13 14:56:00\n",
              "3169    2019-06-27 19:46:00\n",
              "2031    2019-12-23 11:46:00\n",
              "14246   2019-05-13 00:58:00\n",
              "Name: Order Date, dtype: datetime64[ns]"
            ]
          },
          "metadata": {},
          "execution_count": 158
        }
      ]
    },
    {
      "cell_type": "code",
      "source": [
        "all_data[\"Hour\"] = all_data[\"Order Date\"].dt.hour"
      ],
      "metadata": {
        "id": "aOC9YDjrAuv6"
      },
      "execution_count": 160,
      "outputs": []
    },
    {
      "cell_type": "code",
      "source": [
        "all_data.head(4)"
      ],
      "metadata": {
        "colab": {
          "base_uri": "https://localhost:8080/",
          "height": 305
        },
        "id": "8limMnG0A7eE",
        "outputId": "c831bb7c-bcb7-45b0-9916-bd45106e424f"
      },
      "execution_count": 161,
      "outputs": [
        {
          "output_type": "execute_result",
          "data": {
            "text/plain": [
              "   Order ID               Product  Quantity Ordered  Price Each  \\\n",
              "0    295665    Macbook Pro Laptop                 1     1700.00   \n",
              "1    295666    LG Washing Machine                 1      600.00   \n",
              "2    295667  USB-C Charging Cable                 1       11.95   \n",
              "3    295668      27in FHD Monitor                 1      149.99   \n",
              "\n",
              "           Order Date                        Purchase Address  Month    Sales  \\\n",
              "0 2019-12-30 00:01:00  136 Church St, New York City, NY 10001     12  1700.00   \n",
              "1 2019-12-29 07:03:00     562 2nd St, New York City, NY 10001     12   600.00   \n",
              "2 2019-12-12 18:21:00    277 Main St, New York City, NY 10001     12    11.95   \n",
              "3 2019-12-22 15:13:00     410 6th St, San Francisco, CA 94016     12   149.99   \n",
              "\n",
              "                 City  Hour  \n",
              "0  New York City (NY)     0  \n",
              "1  New York City (NY)     7  \n",
              "2  New York City (NY)    18  \n",
              "3  San Francisco (CA)    15  "
            ],
            "text/html": [
              "\n",
              "  <div id=\"df-fe4d31c9-85a0-4c01-ab29-bc7fed091d09\">\n",
              "    <div class=\"colab-df-container\">\n",
              "      <div>\n",
              "<style scoped>\n",
              "    .dataframe tbody tr th:only-of-type {\n",
              "        vertical-align: middle;\n",
              "    }\n",
              "\n",
              "    .dataframe tbody tr th {\n",
              "        vertical-align: top;\n",
              "    }\n",
              "\n",
              "    .dataframe thead th {\n",
              "        text-align: right;\n",
              "    }\n",
              "</style>\n",
              "<table border=\"1\" class=\"dataframe\">\n",
              "  <thead>\n",
              "    <tr style=\"text-align: right;\">\n",
              "      <th></th>\n",
              "      <th>Order ID</th>\n",
              "      <th>Product</th>\n",
              "      <th>Quantity Ordered</th>\n",
              "      <th>Price Each</th>\n",
              "      <th>Order Date</th>\n",
              "      <th>Purchase Address</th>\n",
              "      <th>Month</th>\n",
              "      <th>Sales</th>\n",
              "      <th>City</th>\n",
              "      <th>Hour</th>\n",
              "    </tr>\n",
              "  </thead>\n",
              "  <tbody>\n",
              "    <tr>\n",
              "      <th>0</th>\n",
              "      <td>295665</td>\n",
              "      <td>Macbook Pro Laptop</td>\n",
              "      <td>1</td>\n",
              "      <td>1700.00</td>\n",
              "      <td>2019-12-30 00:01:00</td>\n",
              "      <td>136 Church St, New York City, NY 10001</td>\n",
              "      <td>12</td>\n",
              "      <td>1700.00</td>\n",
              "      <td>New York City (NY)</td>\n",
              "      <td>0</td>\n",
              "    </tr>\n",
              "    <tr>\n",
              "      <th>1</th>\n",
              "      <td>295666</td>\n",
              "      <td>LG Washing Machine</td>\n",
              "      <td>1</td>\n",
              "      <td>600.00</td>\n",
              "      <td>2019-12-29 07:03:00</td>\n",
              "      <td>562 2nd St, New York City, NY 10001</td>\n",
              "      <td>12</td>\n",
              "      <td>600.00</td>\n",
              "      <td>New York City (NY)</td>\n",
              "      <td>7</td>\n",
              "    </tr>\n",
              "    <tr>\n",
              "      <th>2</th>\n",
              "      <td>295667</td>\n",
              "      <td>USB-C Charging Cable</td>\n",
              "      <td>1</td>\n",
              "      <td>11.95</td>\n",
              "      <td>2019-12-12 18:21:00</td>\n",
              "      <td>277 Main St, New York City, NY 10001</td>\n",
              "      <td>12</td>\n",
              "      <td>11.95</td>\n",
              "      <td>New York City (NY)</td>\n",
              "      <td>18</td>\n",
              "    </tr>\n",
              "    <tr>\n",
              "      <th>3</th>\n",
              "      <td>295668</td>\n",
              "      <td>27in FHD Monitor</td>\n",
              "      <td>1</td>\n",
              "      <td>149.99</td>\n",
              "      <td>2019-12-22 15:13:00</td>\n",
              "      <td>410 6th St, San Francisco, CA 94016</td>\n",
              "      <td>12</td>\n",
              "      <td>149.99</td>\n",
              "      <td>San Francisco (CA)</td>\n",
              "      <td>15</td>\n",
              "    </tr>\n",
              "  </tbody>\n",
              "</table>\n",
              "</div>\n",
              "      <button class=\"colab-df-convert\" onclick=\"convertToInteractive('df-fe4d31c9-85a0-4c01-ab29-bc7fed091d09')\"\n",
              "              title=\"Convert this dataframe to an interactive table.\"\n",
              "              style=\"display:none;\">\n",
              "        \n",
              "  <svg xmlns=\"http://www.w3.org/2000/svg\" height=\"24px\"viewBox=\"0 0 24 24\"\n",
              "       width=\"24px\">\n",
              "    <path d=\"M0 0h24v24H0V0z\" fill=\"none\"/>\n",
              "    <path d=\"M18.56 5.44l.94 2.06.94-2.06 2.06-.94-2.06-.94-.94-2.06-.94 2.06-2.06.94zm-11 1L8.5 8.5l.94-2.06 2.06-.94-2.06-.94L8.5 2.5l-.94 2.06-2.06.94zm10 10l.94 2.06.94-2.06 2.06-.94-2.06-.94-.94-2.06-.94 2.06-2.06.94z\"/><path d=\"M17.41 7.96l-1.37-1.37c-.4-.4-.92-.59-1.43-.59-.52 0-1.04.2-1.43.59L10.3 9.45l-7.72 7.72c-.78.78-.78 2.05 0 2.83L4 21.41c.39.39.9.59 1.41.59.51 0 1.02-.2 1.41-.59l7.78-7.78 2.81-2.81c.8-.78.8-2.07 0-2.86zM5.41 20L4 18.59l7.72-7.72 1.47 1.35L5.41 20z\"/>\n",
              "  </svg>\n",
              "      </button>\n",
              "      \n",
              "  <style>\n",
              "    .colab-df-container {\n",
              "      display:flex;\n",
              "      flex-wrap:wrap;\n",
              "      gap: 12px;\n",
              "    }\n",
              "\n",
              "    .colab-df-convert {\n",
              "      background-color: #E8F0FE;\n",
              "      border: none;\n",
              "      border-radius: 50%;\n",
              "      cursor: pointer;\n",
              "      display: none;\n",
              "      fill: #1967D2;\n",
              "      height: 32px;\n",
              "      padding: 0 0 0 0;\n",
              "      width: 32px;\n",
              "    }\n",
              "\n",
              "    .colab-df-convert:hover {\n",
              "      background-color: #E2EBFA;\n",
              "      box-shadow: 0px 1px 2px rgba(60, 64, 67, 0.3), 0px 1px 3px 1px rgba(60, 64, 67, 0.15);\n",
              "      fill: #174EA6;\n",
              "    }\n",
              "\n",
              "    [theme=dark] .colab-df-convert {\n",
              "      background-color: #3B4455;\n",
              "      fill: #D2E3FC;\n",
              "    }\n",
              "\n",
              "    [theme=dark] .colab-df-convert:hover {\n",
              "      background-color: #434B5C;\n",
              "      box-shadow: 0px 1px 3px 1px rgba(0, 0, 0, 0.15);\n",
              "      filter: drop-shadow(0px 1px 2px rgba(0, 0, 0, 0.3));\n",
              "      fill: #FFFFFF;\n",
              "    }\n",
              "  </style>\n",
              "\n",
              "      <script>\n",
              "        const buttonEl =\n",
              "          document.querySelector('#df-fe4d31c9-85a0-4c01-ab29-bc7fed091d09 button.colab-df-convert');\n",
              "        buttonEl.style.display =\n",
              "          google.colab.kernel.accessAllowed ? 'block' : 'none';\n",
              "\n",
              "        async function convertToInteractive(key) {\n",
              "          const element = document.querySelector('#df-fe4d31c9-85a0-4c01-ab29-bc7fed091d09');\n",
              "          const dataTable =\n",
              "            await google.colab.kernel.invokeFunction('convertToInteractive',\n",
              "                                                     [key], {});\n",
              "          if (!dataTable) return;\n",
              "\n",
              "          const docLinkHtml = 'Like what you see? Visit the ' +\n",
              "            '<a target=\"_blank\" href=https://colab.research.google.com/notebooks/data_table.ipynb>data table notebook</a>'\n",
              "            + ' to learn more about interactive tables.';\n",
              "          element.innerHTML = '';\n",
              "          dataTable['output_type'] = 'display_data';\n",
              "          await google.colab.output.renderOutput(dataTable, element);\n",
              "          const docLink = document.createElement('div');\n",
              "          docLink.innerHTML = docLinkHtml;\n",
              "          element.appendChild(docLink);\n",
              "        }\n",
              "      </script>\n",
              "    </div>\n",
              "  </div>\n",
              "  "
            ]
          },
          "metadata": {},
          "execution_count": 161
        }
      ]
    },
    {
      "cell_type": "code",
      "source": [
        "all_data.groupby(['Hour']).count()"
      ],
      "metadata": {
        "colab": {
          "base_uri": "https://localhost:8080/",
          "height": 833
        },
        "id": "MNyjv8aGBtN5",
        "outputId": "eeb72866-7a6b-4d22-bdb7-845fa5618715"
      },
      "execution_count": 162,
      "outputs": [
        {
          "output_type": "execute_result",
          "data": {
            "text/plain": [
              "      Order ID  Product  Quantity Ordered  Price Each  Order Date  \\\n",
              "Hour                                                                \n",
              "0         3910     3910              3910        3910        3910   \n",
              "1         2350     2350              2350        2350        2350   \n",
              "2         1243     1243              1243        1243        1243   \n",
              "3          831      831               831         831         831   \n",
              "4          854      854               854         854         854   \n",
              "5         1321     1321              1321        1321        1321   \n",
              "6         2482     2482              2482        2482        2482   \n",
              "7         4011     4011              4011        4011        4011   \n",
              "8         6256     6256              6256        6256        6256   \n",
              "9         8748     8748              8748        8748        8748   \n",
              "10       10944    10944             10944       10944       10944   \n",
              "11       12411    12411             12411       12411       12411   \n",
              "12       12587    12587             12587       12587       12587   \n",
              "13       12129    12129             12129       12129       12129   \n",
              "14       10984    10984             10984       10984       10984   \n",
              "15       10175    10175             10175       10175       10175   \n",
              "16       10384    10384             10384       10384       10384   \n",
              "17       10899    10899             10899       10899       10899   \n",
              "18       12280    12280             12280       12280       12280   \n",
              "19       12905    12905             12905       12905       12905   \n",
              "20       12228    12228             12228       12228       12228   \n",
              "21       10921    10921             10921       10921       10921   \n",
              "22        8822     8822              8822        8822        8822   \n",
              "23        6275     6275              6275        6275        6275   \n",
              "\n",
              "      Purchase Address  Month  Sales   City  \n",
              "Hour                                         \n",
              "0                 3910   3910   3910   3910  \n",
              "1                 2350   2350   2350   2350  \n",
              "2                 1243   1243   1243   1243  \n",
              "3                  831    831    831    831  \n",
              "4                  854    854    854    854  \n",
              "5                 1321   1321   1321   1321  \n",
              "6                 2482   2482   2482   2482  \n",
              "7                 4011   4011   4011   4011  \n",
              "8                 6256   6256   6256   6256  \n",
              "9                 8748   8748   8748   8748  \n",
              "10               10944  10944  10944  10944  \n",
              "11               12411  12411  12411  12411  \n",
              "12               12587  12587  12587  12587  \n",
              "13               12129  12129  12129  12129  \n",
              "14               10984  10984  10984  10984  \n",
              "15               10175  10175  10175  10175  \n",
              "16               10384  10384  10384  10384  \n",
              "17               10899  10899  10899  10899  \n",
              "18               12280  12280  12280  12280  \n",
              "19               12905  12905  12905  12905  \n",
              "20               12228  12228  12228  12228  \n",
              "21               10921  10921  10921  10921  \n",
              "22                8822   8822   8822   8822  \n",
              "23                6275   6275   6275   6275  "
            ],
            "text/html": [
              "\n",
              "  <div id=\"df-adda62c6-a45c-4cd1-b938-4a1fd58b5cd9\">\n",
              "    <div class=\"colab-df-container\">\n",
              "      <div>\n",
              "<style scoped>\n",
              "    .dataframe tbody tr th:only-of-type {\n",
              "        vertical-align: middle;\n",
              "    }\n",
              "\n",
              "    .dataframe tbody tr th {\n",
              "        vertical-align: top;\n",
              "    }\n",
              "\n",
              "    .dataframe thead th {\n",
              "        text-align: right;\n",
              "    }\n",
              "</style>\n",
              "<table border=\"1\" class=\"dataframe\">\n",
              "  <thead>\n",
              "    <tr style=\"text-align: right;\">\n",
              "      <th></th>\n",
              "      <th>Order ID</th>\n",
              "      <th>Product</th>\n",
              "      <th>Quantity Ordered</th>\n",
              "      <th>Price Each</th>\n",
              "      <th>Order Date</th>\n",
              "      <th>Purchase Address</th>\n",
              "      <th>Month</th>\n",
              "      <th>Sales</th>\n",
              "      <th>City</th>\n",
              "    </tr>\n",
              "    <tr>\n",
              "      <th>Hour</th>\n",
              "      <th></th>\n",
              "      <th></th>\n",
              "      <th></th>\n",
              "      <th></th>\n",
              "      <th></th>\n",
              "      <th></th>\n",
              "      <th></th>\n",
              "      <th></th>\n",
              "      <th></th>\n",
              "    </tr>\n",
              "  </thead>\n",
              "  <tbody>\n",
              "    <tr>\n",
              "      <th>0</th>\n",
              "      <td>3910</td>\n",
              "      <td>3910</td>\n",
              "      <td>3910</td>\n",
              "      <td>3910</td>\n",
              "      <td>3910</td>\n",
              "      <td>3910</td>\n",
              "      <td>3910</td>\n",
              "      <td>3910</td>\n",
              "      <td>3910</td>\n",
              "    </tr>\n",
              "    <tr>\n",
              "      <th>1</th>\n",
              "      <td>2350</td>\n",
              "      <td>2350</td>\n",
              "      <td>2350</td>\n",
              "      <td>2350</td>\n",
              "      <td>2350</td>\n",
              "      <td>2350</td>\n",
              "      <td>2350</td>\n",
              "      <td>2350</td>\n",
              "      <td>2350</td>\n",
              "    </tr>\n",
              "    <tr>\n",
              "      <th>2</th>\n",
              "      <td>1243</td>\n",
              "      <td>1243</td>\n",
              "      <td>1243</td>\n",
              "      <td>1243</td>\n",
              "      <td>1243</td>\n",
              "      <td>1243</td>\n",
              "      <td>1243</td>\n",
              "      <td>1243</td>\n",
              "      <td>1243</td>\n",
              "    </tr>\n",
              "    <tr>\n",
              "      <th>3</th>\n",
              "      <td>831</td>\n",
              "      <td>831</td>\n",
              "      <td>831</td>\n",
              "      <td>831</td>\n",
              "      <td>831</td>\n",
              "      <td>831</td>\n",
              "      <td>831</td>\n",
              "      <td>831</td>\n",
              "      <td>831</td>\n",
              "    </tr>\n",
              "    <tr>\n",
              "      <th>4</th>\n",
              "      <td>854</td>\n",
              "      <td>854</td>\n",
              "      <td>854</td>\n",
              "      <td>854</td>\n",
              "      <td>854</td>\n",
              "      <td>854</td>\n",
              "      <td>854</td>\n",
              "      <td>854</td>\n",
              "      <td>854</td>\n",
              "    </tr>\n",
              "    <tr>\n",
              "      <th>5</th>\n",
              "      <td>1321</td>\n",
              "      <td>1321</td>\n",
              "      <td>1321</td>\n",
              "      <td>1321</td>\n",
              "      <td>1321</td>\n",
              "      <td>1321</td>\n",
              "      <td>1321</td>\n",
              "      <td>1321</td>\n",
              "      <td>1321</td>\n",
              "    </tr>\n",
              "    <tr>\n",
              "      <th>6</th>\n",
              "      <td>2482</td>\n",
              "      <td>2482</td>\n",
              "      <td>2482</td>\n",
              "      <td>2482</td>\n",
              "      <td>2482</td>\n",
              "      <td>2482</td>\n",
              "      <td>2482</td>\n",
              "      <td>2482</td>\n",
              "      <td>2482</td>\n",
              "    </tr>\n",
              "    <tr>\n",
              "      <th>7</th>\n",
              "      <td>4011</td>\n",
              "      <td>4011</td>\n",
              "      <td>4011</td>\n",
              "      <td>4011</td>\n",
              "      <td>4011</td>\n",
              "      <td>4011</td>\n",
              "      <td>4011</td>\n",
              "      <td>4011</td>\n",
              "      <td>4011</td>\n",
              "    </tr>\n",
              "    <tr>\n",
              "      <th>8</th>\n",
              "      <td>6256</td>\n",
              "      <td>6256</td>\n",
              "      <td>6256</td>\n",
              "      <td>6256</td>\n",
              "      <td>6256</td>\n",
              "      <td>6256</td>\n",
              "      <td>6256</td>\n",
              "      <td>6256</td>\n",
              "      <td>6256</td>\n",
              "    </tr>\n",
              "    <tr>\n",
              "      <th>9</th>\n",
              "      <td>8748</td>\n",
              "      <td>8748</td>\n",
              "      <td>8748</td>\n",
              "      <td>8748</td>\n",
              "      <td>8748</td>\n",
              "      <td>8748</td>\n",
              "      <td>8748</td>\n",
              "      <td>8748</td>\n",
              "      <td>8748</td>\n",
              "    </tr>\n",
              "    <tr>\n",
              "      <th>10</th>\n",
              "      <td>10944</td>\n",
              "      <td>10944</td>\n",
              "      <td>10944</td>\n",
              "      <td>10944</td>\n",
              "      <td>10944</td>\n",
              "      <td>10944</td>\n",
              "      <td>10944</td>\n",
              "      <td>10944</td>\n",
              "      <td>10944</td>\n",
              "    </tr>\n",
              "    <tr>\n",
              "      <th>11</th>\n",
              "      <td>12411</td>\n",
              "      <td>12411</td>\n",
              "      <td>12411</td>\n",
              "      <td>12411</td>\n",
              "      <td>12411</td>\n",
              "      <td>12411</td>\n",
              "      <td>12411</td>\n",
              "      <td>12411</td>\n",
              "      <td>12411</td>\n",
              "    </tr>\n",
              "    <tr>\n",
              "      <th>12</th>\n",
              "      <td>12587</td>\n",
              "      <td>12587</td>\n",
              "      <td>12587</td>\n",
              "      <td>12587</td>\n",
              "      <td>12587</td>\n",
              "      <td>12587</td>\n",
              "      <td>12587</td>\n",
              "      <td>12587</td>\n",
              "      <td>12587</td>\n",
              "    </tr>\n",
              "    <tr>\n",
              "      <th>13</th>\n",
              "      <td>12129</td>\n",
              "      <td>12129</td>\n",
              "      <td>12129</td>\n",
              "      <td>12129</td>\n",
              "      <td>12129</td>\n",
              "      <td>12129</td>\n",
              "      <td>12129</td>\n",
              "      <td>12129</td>\n",
              "      <td>12129</td>\n",
              "    </tr>\n",
              "    <tr>\n",
              "      <th>14</th>\n",
              "      <td>10984</td>\n",
              "      <td>10984</td>\n",
              "      <td>10984</td>\n",
              "      <td>10984</td>\n",
              "      <td>10984</td>\n",
              "      <td>10984</td>\n",
              "      <td>10984</td>\n",
              "      <td>10984</td>\n",
              "      <td>10984</td>\n",
              "    </tr>\n",
              "    <tr>\n",
              "      <th>15</th>\n",
              "      <td>10175</td>\n",
              "      <td>10175</td>\n",
              "      <td>10175</td>\n",
              "      <td>10175</td>\n",
              "      <td>10175</td>\n",
              "      <td>10175</td>\n",
              "      <td>10175</td>\n",
              "      <td>10175</td>\n",
              "      <td>10175</td>\n",
              "    </tr>\n",
              "    <tr>\n",
              "      <th>16</th>\n",
              "      <td>10384</td>\n",
              "      <td>10384</td>\n",
              "      <td>10384</td>\n",
              "      <td>10384</td>\n",
              "      <td>10384</td>\n",
              "      <td>10384</td>\n",
              "      <td>10384</td>\n",
              "      <td>10384</td>\n",
              "      <td>10384</td>\n",
              "    </tr>\n",
              "    <tr>\n",
              "      <th>17</th>\n",
              "      <td>10899</td>\n",
              "      <td>10899</td>\n",
              "      <td>10899</td>\n",
              "      <td>10899</td>\n",
              "      <td>10899</td>\n",
              "      <td>10899</td>\n",
              "      <td>10899</td>\n",
              "      <td>10899</td>\n",
              "      <td>10899</td>\n",
              "    </tr>\n",
              "    <tr>\n",
              "      <th>18</th>\n",
              "      <td>12280</td>\n",
              "      <td>12280</td>\n",
              "      <td>12280</td>\n",
              "      <td>12280</td>\n",
              "      <td>12280</td>\n",
              "      <td>12280</td>\n",
              "      <td>12280</td>\n",
              "      <td>12280</td>\n",
              "      <td>12280</td>\n",
              "    </tr>\n",
              "    <tr>\n",
              "      <th>19</th>\n",
              "      <td>12905</td>\n",
              "      <td>12905</td>\n",
              "      <td>12905</td>\n",
              "      <td>12905</td>\n",
              "      <td>12905</td>\n",
              "      <td>12905</td>\n",
              "      <td>12905</td>\n",
              "      <td>12905</td>\n",
              "      <td>12905</td>\n",
              "    </tr>\n",
              "    <tr>\n",
              "      <th>20</th>\n",
              "      <td>12228</td>\n",
              "      <td>12228</td>\n",
              "      <td>12228</td>\n",
              "      <td>12228</td>\n",
              "      <td>12228</td>\n",
              "      <td>12228</td>\n",
              "      <td>12228</td>\n",
              "      <td>12228</td>\n",
              "      <td>12228</td>\n",
              "    </tr>\n",
              "    <tr>\n",
              "      <th>21</th>\n",
              "      <td>10921</td>\n",
              "      <td>10921</td>\n",
              "      <td>10921</td>\n",
              "      <td>10921</td>\n",
              "      <td>10921</td>\n",
              "      <td>10921</td>\n",
              "      <td>10921</td>\n",
              "      <td>10921</td>\n",
              "      <td>10921</td>\n",
              "    </tr>\n",
              "    <tr>\n",
              "      <th>22</th>\n",
              "      <td>8822</td>\n",
              "      <td>8822</td>\n",
              "      <td>8822</td>\n",
              "      <td>8822</td>\n",
              "      <td>8822</td>\n",
              "      <td>8822</td>\n",
              "      <td>8822</td>\n",
              "      <td>8822</td>\n",
              "      <td>8822</td>\n",
              "    </tr>\n",
              "    <tr>\n",
              "      <th>23</th>\n",
              "      <td>6275</td>\n",
              "      <td>6275</td>\n",
              "      <td>6275</td>\n",
              "      <td>6275</td>\n",
              "      <td>6275</td>\n",
              "      <td>6275</td>\n",
              "      <td>6275</td>\n",
              "      <td>6275</td>\n",
              "      <td>6275</td>\n",
              "    </tr>\n",
              "  </tbody>\n",
              "</table>\n",
              "</div>\n",
              "      <button class=\"colab-df-convert\" onclick=\"convertToInteractive('df-adda62c6-a45c-4cd1-b938-4a1fd58b5cd9')\"\n",
              "              title=\"Convert this dataframe to an interactive table.\"\n",
              "              style=\"display:none;\">\n",
              "        \n",
              "  <svg xmlns=\"http://www.w3.org/2000/svg\" height=\"24px\"viewBox=\"0 0 24 24\"\n",
              "       width=\"24px\">\n",
              "    <path d=\"M0 0h24v24H0V0z\" fill=\"none\"/>\n",
              "    <path d=\"M18.56 5.44l.94 2.06.94-2.06 2.06-.94-2.06-.94-.94-2.06-.94 2.06-2.06.94zm-11 1L8.5 8.5l.94-2.06 2.06-.94-2.06-.94L8.5 2.5l-.94 2.06-2.06.94zm10 10l.94 2.06.94-2.06 2.06-.94-2.06-.94-.94-2.06-.94 2.06-2.06.94z\"/><path d=\"M17.41 7.96l-1.37-1.37c-.4-.4-.92-.59-1.43-.59-.52 0-1.04.2-1.43.59L10.3 9.45l-7.72 7.72c-.78.78-.78 2.05 0 2.83L4 21.41c.39.39.9.59 1.41.59.51 0 1.02-.2 1.41-.59l7.78-7.78 2.81-2.81c.8-.78.8-2.07 0-2.86zM5.41 20L4 18.59l7.72-7.72 1.47 1.35L5.41 20z\"/>\n",
              "  </svg>\n",
              "      </button>\n",
              "      \n",
              "  <style>\n",
              "    .colab-df-container {\n",
              "      display:flex;\n",
              "      flex-wrap:wrap;\n",
              "      gap: 12px;\n",
              "    }\n",
              "\n",
              "    .colab-df-convert {\n",
              "      background-color: #E8F0FE;\n",
              "      border: none;\n",
              "      border-radius: 50%;\n",
              "      cursor: pointer;\n",
              "      display: none;\n",
              "      fill: #1967D2;\n",
              "      height: 32px;\n",
              "      padding: 0 0 0 0;\n",
              "      width: 32px;\n",
              "    }\n",
              "\n",
              "    .colab-df-convert:hover {\n",
              "      background-color: #E2EBFA;\n",
              "      box-shadow: 0px 1px 2px rgba(60, 64, 67, 0.3), 0px 1px 3px 1px rgba(60, 64, 67, 0.15);\n",
              "      fill: #174EA6;\n",
              "    }\n",
              "\n",
              "    [theme=dark] .colab-df-convert {\n",
              "      background-color: #3B4455;\n",
              "      fill: #D2E3FC;\n",
              "    }\n",
              "\n",
              "    [theme=dark] .colab-df-convert:hover {\n",
              "      background-color: #434B5C;\n",
              "      box-shadow: 0px 1px 3px 1px rgba(0, 0, 0, 0.15);\n",
              "      filter: drop-shadow(0px 1px 2px rgba(0, 0, 0, 0.3));\n",
              "      fill: #FFFFFF;\n",
              "    }\n",
              "  </style>\n",
              "\n",
              "      <script>\n",
              "        const buttonEl =\n",
              "          document.querySelector('#df-adda62c6-a45c-4cd1-b938-4a1fd58b5cd9 button.colab-df-convert');\n",
              "        buttonEl.style.display =\n",
              "          google.colab.kernel.accessAllowed ? 'block' : 'none';\n",
              "\n",
              "        async function convertToInteractive(key) {\n",
              "          const element = document.querySelector('#df-adda62c6-a45c-4cd1-b938-4a1fd58b5cd9');\n",
              "          const dataTable =\n",
              "            await google.colab.kernel.invokeFunction('convertToInteractive',\n",
              "                                                     [key], {});\n",
              "          if (!dataTable) return;\n",
              "\n",
              "          const docLinkHtml = 'Like what you see? Visit the ' +\n",
              "            '<a target=\"_blank\" href=https://colab.research.google.com/notebooks/data_table.ipynb>data table notebook</a>'\n",
              "            + ' to learn more about interactive tables.';\n",
              "          element.innerHTML = '';\n",
              "          dataTable['output_type'] = 'display_data';\n",
              "          await google.colab.output.renderOutput(dataTable, element);\n",
              "          const docLink = document.createElement('div');\n",
              "          docLink.innerHTML = docLinkHtml;\n",
              "          element.appendChild(docLink);\n",
              "        }\n",
              "      </script>\n",
              "    </div>\n",
              "  </div>\n",
              "  "
            ]
          },
          "metadata": {},
          "execution_count": 162
        }
      ]
    },
    {
      "cell_type": "code",
      "source": [
        "hours = [hour for hour, df in all_data.groupby(\"Hour\")]\n",
        "\n",
        "#a line chart\n",
        "plt.plot(hours, all_data.groupby(['Hour']).count(), color=\"red\")\n",
        "plt.xticks(hours)\n",
        "plt.ylabel(\"Number of Orders\")\n",
        "plt.xlabel(\"Hours\")\n",
        "plt.title(\"Worldwide Sales Order per Hour\")\n",
        "\n",
        "plt.grid()\n",
        "  #to see which hour is corresponding to which value\n",
        "\n",
        "plt.show()"
      ],
      "metadata": {
        "colab": {
          "base_uri": "https://localhost:8080/",
          "height": 295
        },
        "id": "uR-9uvdGBCET",
        "outputId": "a7a6c466-5b0a-493c-b4c3-cb9cfa5f67fb"
      },
      "execution_count": 166,
      "outputs": [
        {
          "output_type": "display_data",
          "data": {
            "text/plain": [
              "<Figure size 432x288 with 1 Axes>"
            ],
            "image/png": "[encoded data removed]"
          },
          "metadata": {
            "needs_background": "light"
          }
        }
      ]
    },
    {
      "cell_type": "markdown",
      "source": [
        "#Answer:\n",
        "Peaks at 11 am, 12 pm and 7 pm \n",
        "\n",
        " *Before these time, an hour before*\n",
        "\n",
        " This can be done for a particuar city as well"
      ],
      "metadata": {
        "id": "ZkaDn5YSCYxe"
      }
    },
    {
      "cell_type": "code",
      "source": [],
      "metadata": {
        "id": "w5QGZ2aoB-7j"
      },
      "execution_count": null,
      "outputs": []
    },
    {
      "cell_type": "markdown",
      "source": [
        "**Question 4: What products are often sold together ?**"
      ],
      "metadata": {
        "id": "h_xDGUuYDaPx"
      }
    },
    {
      "cell_type": "markdown",
      "source": [
        "If product are having the same order id, then they are ordered together![Screenshot 2023-02-19 195510.jpg](data:image/jpeg;base64,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)"
      ],
      "metadata": {
        "id": "rw7OIcpeD8ql"
      }
    },
    {
      "cell_type": "code",
      "source": [
        "df = all_data[all_data[\"Order ID\"].duplicated(keep=False)]\n",
        "df.head(10)"
      ],
      "metadata": {
        "colab": {
          "base_uri": "https://localhost:8080/",
          "height": 597
        },
        "id": "vPfPdR_zDXWW",
        "outputId": "4e6b3d57-693d-4e3c-ef9d-a4318ff4ec1f"
      },
      "execution_count": 175,
      "outputs": [
        {
          "output_type": "execute_result",
          "data": {
            "text/plain": [
              "    Order ID                     Product  Quantity Ordered  Price Each  \\\n",
              "16    295681                Google Phone                 1      600.00   \n",
              "17    295681        USB-C Charging Cable                 1       11.95   \n",
              "18    295681  Bose SoundSport Headphones                 1       99.99   \n",
              "19    295681            Wired Headphones                 1       11.99   \n",
              "36    295698             Vareebadd Phone                 1      400.00   \n",
              "37    295698        USB-C Charging Cable                 2       11.95   \n",
              "42    295703       AA Batteries (4-pack)                 1        3.84   \n",
              "43    295703  Bose SoundSport Headphones                 1       99.99   \n",
              "66    295726                      iPhone                 1      700.00   \n",
              "67    295726    Lightning Charging Cable                 1       14.95   \n",
              "\n",
              "            Order Date                     Purchase Address  Month   Sales  \\\n",
              "16 2019-12-25 12:37:00          79 Elm St, Boston, MA 02215     12  600.00   \n",
              "17 2019-12-25 12:37:00          79 Elm St, Boston, MA 02215     12   11.95   \n",
              "18 2019-12-25 12:37:00          79 Elm St, Boston, MA 02215     12   99.99   \n",
              "19 2019-12-25 12:37:00          79 Elm St, Boston, MA 02215     12   11.99   \n",
              "36 2019-12-13 14:32:00  175 1st St, New York City, NY 10001     12  400.00   \n",
              "37 2019-12-13 14:32:00  175 1st St, New York City, NY 10001     12   23.90   \n",
              "42 2019-12-17 12:27:00   502 Jefferson St, Austin, TX 73301     12    3.84   \n",
              "43 2019-12-17 12:27:00   502 Jefferson St, Austin, TX 73301     12   99.99   \n",
              "66 2019-12-25 14:49:00    203 Lakeview St, Boston, MA 02215     12  700.00   \n",
              "67 2019-12-25 14:49:00    203 Lakeview St, Boston, MA 02215     12   14.95   \n",
              "\n",
              "                  City  Hour  \n",
              "16         Boston (MA)    12  \n",
              "17         Boston (MA)    12  \n",
              "18         Boston (MA)    12  \n",
              "19         Boston (MA)    12  \n",
              "36  New York City (NY)    14  \n",
              "37  New York City (NY)    14  \n",
              "42         Austin (TX)    12  \n",
              "43         Austin (TX)    12  \n",
              "66         Boston (MA)    14  \n",
              "67         Boston (MA)    14  "
            ],
            "text/html": [
              "\n",
              "  <div id=\"df-04350fcc-867d-4d17-99d5-532fa8987cd1\">\n",
              "    <div class=\"colab-df-container\">\n",
              "      <div>\n",
              "<style scoped>\n",
              "    .dataframe tbody tr th:only-of-type {\n",
              "        vertical-align: middle;\n",
              "    }\n",
              "\n",
              "    .dataframe tbody tr th {\n",
              "        vertical-align: top;\n",
              "    }\n",
              "\n",
              "    .dataframe thead th {\n",
              "        text-align: right;\n",
              "    }\n",
              "</style>\n",
              "<table border=\"1\" class=\"dataframe\">\n",
              "  <thead>\n",
              "    <tr style=\"text-align: right;\">\n",
              "      <th></th>\n",
              "      <th>Order ID</th>\n",
              "      <th>Product</th>\n",
              "      <th>Quantity Ordered</th>\n",
              "      <th>Price Each</th>\n",
              "      <th>Order Date</th>\n",
              "      <th>Purchase Address</th>\n",
              "      <th>Month</th>\n",
              "      <th>Sales</th>\n",
              "      <th>City</th>\n",
              "      <th>Hour</th>\n",
              "    </tr>\n",
              "  </thead>\n",
              "  <tbody>\n",
              "    <tr>\n",
              "      <th>16</th>\n",
              "      <td>295681</td>\n",
              "      <td>Google Phone</td>\n",
              "      <td>1</td>\n",
              "      <td>600.00</td>\n",
              "      <td>2019-12-25 12:37:00</td>\n",
              "      <td>79 Elm St, Boston, MA 02215</td>\n",
              "      <td>12</td>\n",
              "      <td>600.00</td>\n",
              "      <td>Boston (MA)</td>\n",
              "      <td>12</td>\n",
              "    </tr>\n",
              "    <tr>\n",
              "      <th>17</th>\n",
              "      <td>295681</td>\n",
              "      <td>USB-C Charging Cable</td>\n",
              "      <td>1</td>\n",
              "      <td>11.95</td>\n",
              "      <td>2019-12-25 12:37:00</td>\n",
              "      <td>79 Elm St, Boston, MA 02215</td>\n",
              "      <td>12</td>\n",
              "      <td>11.95</td>\n",
              "      <td>Boston (MA)</td>\n",
              "      <td>12</td>\n",
              "    </tr>\n",
              "    <tr>\n",
              "      <th>18</th>\n",
              "      <td>295681</td>\n",
              "      <td>Bose SoundSport Headphones</td>\n",
              "      <td>1</td>\n",
              "      <td>99.99</td>\n",
              "      <td>2019-12-25 12:37:00</td>\n",
              "      <td>79 Elm St, Boston, MA 02215</td>\n",
              "      <td>12</td>\n",
              "      <td>99.99</td>\n",
              "      <td>Boston (MA)</td>\n",
              "      <td>12</td>\n",
              "    </tr>\n",
              "    <tr>\n",
              "      <th>19</th>\n",
              "      <td>295681</td>\n",
              "      <td>Wired Headphones</td>\n",
              "      <td>1</td>\n",
              "      <td>11.99</td>\n",
              "      <td>2019-12-25 12:37:00</td>\n",
              "      <td>79 Elm St, Boston, MA 02215</td>\n",
              "      <td>12</td>\n",
              "      <td>11.99</td>\n",
              "      <td>Boston (MA)</td>\n",
              "      <td>12</td>\n",
              "    </tr>\n",
              "    <tr>\n",
              "      <th>36</th>\n",
              "      <td>295698</td>\n",
              "      <td>Vareebadd Phone</td>\n",
              "      <td>1</td>\n",
              "      <td>400.00</td>\n",
              "      <td>2019-12-13 14:32:00</td>\n",
              "      <td>175 1st St, New York City, NY 10001</td>\n",
              "      <td>12</td>\n",
              "      <td>400.00</td>\n",
              "      <td>New York City (NY)</td>\n",
              "      <td>14</td>\n",
              "    </tr>\n",
              "    <tr>\n",
              "      <th>37</th>\n",
              "      <td>295698</td>\n",
              "      <td>USB-C Charging Cable</td>\n",
              "      <td>2</td>\n",
              "      <td>11.95</td>\n",
              "      <td>2019-12-13 14:32:00</td>\n",
              "      <td>175 1st St, New York City, NY 10001</td>\n",
              "      <td>12</td>\n",
              "      <td>23.90</td>\n",
              "      <td>New York City (NY)</td>\n",
              "      <td>14</td>\n",
              "    </tr>\n",
              "    <tr>\n",
              "      <th>42</th>\n",
              "      <td>295703</td>\n",
              "      <td>AA Batteries (4-pack)</td>\n",
              "      <td>1</td>\n",
              "      <td>3.84</td>\n",
              "      <td>2019-12-17 12:27:00</td>\n",
              "      <td>502 Jefferson St, Austin, TX 73301</td>\n",
              "      <td>12</td>\n",
              "      <td>3.84</td>\n",
              "      <td>Austin (TX)</td>\n",
              "      <td>12</td>\n",
              "    </tr>\n",
              "    <tr>\n",
              "      <th>43</th>\n",
              "      <td>295703</td>\n",
              "      <td>Bose SoundSport Headphones</td>\n",
              "      <td>1</td>\n",
              "      <td>99.99</td>\n",
              "      <td>2019-12-17 12:27:00</td>\n",
              "      <td>502 Jefferson St, Austin, TX 73301</td>\n",
              "      <td>12</td>\n",
              "      <td>99.99</td>\n",
              "      <td>Austin (TX)</td>\n",
              "      <td>12</td>\n",
              "    </tr>\n",
              "    <tr>\n",
              "      <th>66</th>\n",
              "      <td>295726</td>\n",
              "      <td>iPhone</td>\n",
              "      <td>1</td>\n",
              "      <td>700.00</td>\n",
              "      <td>2019-12-25 14:49:00</td>\n",
              "      <td>203 Lakeview St, Boston, MA 02215</td>\n",
              "      <td>12</td>\n",
              "      <td>700.00</td>\n",
              "      <td>Boston (MA)</td>\n",
              "      <td>14</td>\n",
              "    </tr>\n",
              "    <tr>\n",
              "      <th>67</th>\n",
              "      <td>295726</td>\n",
              "      <td>Lightning Charging Cable</td>\n",
              "      <td>1</td>\n",
              "      <td>14.95</td>\n",
              "      <td>2019-12-25 14:49:00</td>\n",
              "      <td>203 Lakeview St, Boston, MA 02215</td>\n",
              "      <td>12</td>\n",
              "      <td>14.95</td>\n",
              "      <td>Boston (MA)</td>\n",
              "      <td>14</td>\n",
              "    </tr>\n",
              "  </tbody>\n",
              "</table>\n",
              "</div>\n",
              "      <button class=\"colab-df-convert\" onclick=\"convertToInteractive('df-04350fcc-867d-4d17-99d5-532fa8987cd1')\"\n",
              "              title=\"Convert this dataframe to an interactive table.\"\n",
              "              style=\"display:none;\">\n",
              "        \n",
              "  <svg xmlns=\"http://www.w3.org/2000/svg\" height=\"24px\"viewBox=\"0 0 24 24\"\n",
              "       width=\"24px\">\n",
              "    <path d=\"M0 0h24v24H0V0z\" fill=\"none\"/>\n",
              "    <path d=\"M18.56 5.44l.94 2.06.94-2.06 2.06-.94-2.06-.94-.94-2.06-.94 2.06-2.06.94zm-11 1L8.5 8.5l.94-2.06 2.06-.94-2.06-.94L8.5 2.5l-.94 2.06-2.06.94zm10 10l.94 2.06.94-2.06 2.06-.94-2.06-.94-.94-2.06-.94 2.06-2.06.94z\"/><path d=\"M17.41 7.96l-1.37-1.37c-.4-.4-.92-.59-1.43-.59-.52 0-1.04.2-1.43.59L10.3 9.45l-7.72 7.72c-.78.78-.78 2.05 0 2.83L4 21.41c.39.39.9.59 1.41.59.51 0 1.02-.2 1.41-.59l7.78-7.78 2.81-2.81c.8-.78.8-2.07 0-2.86zM5.41 20L4 18.59l7.72-7.72 1.47 1.35L5.41 20z\"/>\n",
              "  </svg>\n",
              "      </button>\n",
              "      \n",
              "  <style>\n",
              "    .colab-df-container {\n",
              "      display:flex;\n",
              "      flex-wrap:wrap;\n",
              "      gap: 12px;\n",
              "    }\n",
              "\n",
              "    .colab-df-convert {\n",
              "      background-color: #E8F0FE;\n",
              "      border: none;\n",
              "      border-radius: 50%;\n",
              "      cursor: pointer;\n",
              "      display: none;\n",
              "      fill: #1967D2;\n",
              "      height: 32px;\n",
              "      padding: 0 0 0 0;\n",
              "      width: 32px;\n",
              "    }\n",
              "\n",
              "    .colab-df-convert:hover {\n",
              "      background-color: #E2EBFA;\n",
              "      box-shadow: 0px 1px 2px rgba(60, 64, 67, 0.3), 0px 1px 3px 1px rgba(60, 64, 67, 0.15);\n",
              "      fill: #174EA6;\n",
              "    }\n",
              "\n",
              "    [theme=dark] .colab-df-convert {\n",
              "      background-color: #3B4455;\n",
              "      fill: #D2E3FC;\n",
              "    }\n",
              "\n",
              "    [theme=dark] .colab-df-convert:hover {\n",
              "      background-color: #434B5C;\n",
              "      box-shadow: 0px 1px 3px 1px rgba(0, 0, 0, 0.15);\n",
              "      filter: drop-shadow(0px 1px 2px rgba(0, 0, 0, 0.3));\n",
              "      fill: #FFFFFF;\n",
              "    }\n",
              "  </style>\n",
              "\n",
              "      <script>\n",
              "        const buttonEl =\n",
              "          document.querySelector('#df-04350fcc-867d-4d17-99d5-532fa8987cd1 button.colab-df-convert');\n",
              "        buttonEl.style.display =\n",
              "          google.colab.kernel.accessAllowed ? 'block' : 'none';\n",
              "\n",
              "        async function convertToInteractive(key) {\n",
              "          const element = document.querySelector('#df-04350fcc-867d-4d17-99d5-532fa8987cd1');\n",
              "          const dataTable =\n",
              "            await google.colab.kernel.invokeFunction('convertToInteractive',\n",
              "                                                     [key], {});\n",
              "          if (!dataTable) return;\n",
              "\n",
              "          const docLinkHtml = 'Like what you see? Visit the ' +\n",
              "            '<a target=\"_blank\" href=https://colab.research.google.com/notebooks/data_table.ipynb>data table notebook</a>'\n",
              "            + ' to learn more about interactive tables.';\n",
              "          element.innerHTML = '';\n",
              "          dataTable['output_type'] = 'display_data';\n",
              "          await google.colab.output.renderOutput(dataTable, element);\n",
              "          const docLink = document.createElement('div');\n",
              "          docLink.innerHTML = docLinkHtml;\n",
              "          element.appendChild(docLink);\n",
              "        }\n",
              "      </script>\n",
              "    </div>\n",
              "  </div>\n",
              "  "
            ]
          },
          "metadata": {},
          "execution_count": 175
        }
      ]
    },
    {
      "cell_type": "code",
      "source": [
        "df[\"Grouped\"] = df.groupby(\"Order ID\")[\"Product\"].transform(lambda x: \",\".join(x))"
      ],
      "metadata": {
        "colab": {
          "base_uri": "https://localhost:8080/"
        },
        "id": "bNlNyjBzDXhV",
        "outputId": "c4d84527-66d9-4d93-a1b4-bc758ca4c813"
      },
      "execution_count": 176,
      "outputs": [
        {
          "output_type": "stream",
          "name": "stderr",
          "text": [
            "<ipython-input-176-1455eba0bd3a>:1: SettingWithCopyWarning: \n",
            "A value is trying to be set on a copy of a slice from a DataFrame.\n",
            "Try using .loc[row_indexer,col_indexer] = value instead\n",
            "\n",
            "See the caveats in the documentation: https://pandas.pydata.org/pandas-docs/stable/user_guide/indexing.html#returning-a-view-versus-a-copy\n",
            "  df[\"Grouped\"] = df.groupby(\"Order ID\")[\"Product\"].transform(lambda x: \",\".join(x))\n"
          ]
        }
      ]
    },
    {
      "cell_type": "code",
      "source": [
        "df.head(5)"
      ],
      "metadata": {
        "colab": {
          "base_uri": "https://localhost:8080/",
          "height": 354
        },
        "id": "owIpZIvGDXkx",
        "outputId": "7f082d2c-ea31-4391-b9d4-f4ce44e705c2"
      },
      "execution_count": 177,
      "outputs": [
        {
          "output_type": "execute_result",
          "data": {
            "text/plain": [
              "    Order ID                     Product  Quantity Ordered  Price Each  \\\n",
              "16    295681                Google Phone                 1      600.00   \n",
              "17    295681        USB-C Charging Cable                 1       11.95   \n",
              "18    295681  Bose SoundSport Headphones                 1       99.99   \n",
              "19    295681            Wired Headphones                 1       11.99   \n",
              "36    295698             Vareebadd Phone                 1      400.00   \n",
              "\n",
              "            Order Date                     Purchase Address  Month   Sales  \\\n",
              "16 2019-12-25 12:37:00          79 Elm St, Boston, MA 02215     12  600.00   \n",
              "17 2019-12-25 12:37:00          79 Elm St, Boston, MA 02215     12   11.95   \n",
              "18 2019-12-25 12:37:00          79 Elm St, Boston, MA 02215     12   99.99   \n",
              "19 2019-12-25 12:37:00          79 Elm St, Boston, MA 02215     12   11.99   \n",
              "36 2019-12-13 14:32:00  175 1st St, New York City, NY 10001     12  400.00   \n",
              "\n",
              "                  City  Hour  \\\n",
              "16         Boston (MA)    12   \n",
              "17         Boston (MA)    12   \n",
              "18         Boston (MA)    12   \n",
              "19         Boston (MA)    12   \n",
              "36  New York City (NY)    14   \n",
              "\n",
              "                                              Grouped  \n",
              "16  Google Phone,USB-C Charging Cable,Bose SoundSp...  \n",
              "17  Google Phone,USB-C Charging Cable,Bose SoundSp...  \n",
              "18  Google Phone,USB-C Charging Cable,Bose SoundSp...  \n",
              "19  Google Phone,USB-C Charging Cable,Bose SoundSp...  \n",
              "36               Vareebadd Phone,USB-C Charging Cable  "
            ],
            "text/html": [
              "\n",
              "  <div id=\"df-c9168b4c-aabb-4bd0-b99f-dae3b475bbce\">\n",
              "    <div class=\"colab-df-container\">\n",
              "      <div>\n",
              "<style scoped>\n",
              "    .dataframe tbody tr th:only-of-type {\n",
              "        vertical-align: middle;\n",
              "    }\n",
              "\n",
              "    .dataframe tbody tr th {\n",
              "        vertical-align: top;\n",
              "    }\n",
              "\n",
              "    .dataframe thead th {\n",
              "        text-align: right;\n",
              "    }\n",
              "</style>\n",
              "<table border=\"1\" class=\"dataframe\">\n",
              "  <thead>\n",
              "    <tr style=\"text-align: right;\">\n",
              "      <th></th>\n",
              "      <th>Order ID</th>\n",
              "      <th>Product</th>\n",
              "      <th>Quantity Ordered</th>\n",
              "      <th>Price Each</th>\n",
              "      <th>Order Date</th>\n",
              "      <th>Purchase Address</th>\n",
              "      <th>Month</th>\n",
              "      <th>Sales</th>\n",
              "      <th>City</th>\n",
              "      <th>Hour</th>\n",
              "      <th>Grouped</th>\n",
              "    </tr>\n",
              "  </thead>\n",
              "  <tbody>\n",
              "    <tr>\n",
              "      <th>16</th>\n",
              "      <td>295681</td>\n",
              "      <td>Google Phone</td>\n",
              "      <td>1</td>\n",
              "      <td>600.00</td>\n",
              "      <td>2019-12-25 12:37:00</td>\n",
              "      <td>79 Elm St, Boston, MA 02215</td>\n",
              "      <td>12</td>\n",
              "      <td>600.00</td>\n",
              "      <td>Boston (MA)</td>\n",
              "      <td>12</td>\n",
              "      <td>Google Phone,USB-C Charging Cable,Bose SoundSp...</td>\n",
              "    </tr>\n",
              "    <tr>\n",
              "      <th>17</th>\n",
              "      <td>295681</td>\n",
              "      <td>USB-C Charging Cable</td>\n",
              "      <td>1</td>\n",
              "      <td>11.95</td>\n",
              "      <td>2019-12-25 12:37:00</td>\n",
              "      <td>79 Elm St, Boston, MA 02215</td>\n",
              "      <td>12</td>\n",
              "      <td>11.95</td>\n",
              "      <td>Boston (MA)</td>\n",
              "      <td>12</td>\n",
              "      <td>Google Phone,USB-C Charging Cable,Bose SoundSp...</td>\n",
              "    </tr>\n",
              "    <tr>\n",
              "      <th>18</th>\n",
              "      <td>295681</td>\n",
              "      <td>Bose SoundSport Headphones</td>\n",
              "      <td>1</td>\n",
              "      <td>99.99</td>\n",
              "      <td>2019-12-25 12:37:00</td>\n",
              "      <td>79 Elm St, Boston, MA 02215</td>\n",
              "      <td>12</td>\n",
              "      <td>99.99</td>\n",
              "      <td>Boston (MA)</td>\n",
              "      <td>12</td>\n",
              "      <td>Google Phone,USB-C Charging Cable,Bose SoundSp...</td>\n",
              "    </tr>\n",
              "    <tr>\n",
              "      <th>19</th>\n",
              "      <td>295681</td>\n",
              "      <td>Wired Headphones</td>\n",
              "      <td>1</td>\n",
              "      <td>11.99</td>\n",
              "      <td>2019-12-25 12:37:00</td>\n",
              "      <td>79 Elm St, Boston, MA 02215</td>\n",
              "      <td>12</td>\n",
              "      <td>11.99</td>\n",
              "      <td>Boston (MA)</td>\n",
              "      <td>12</td>\n",
              "      <td>Google Phone,USB-C Charging Cable,Bose SoundSp...</td>\n",
              "    </tr>\n",
              "    <tr>\n",
              "      <th>36</th>\n",
              "      <td>295698</td>\n",
              "      <td>Vareebadd Phone</td>\n",
              "      <td>1</td>\n",
              "      <td>400.00</td>\n",
              "      <td>2019-12-13 14:32:00</td>\n",
              "      <td>175 1st St, New York City, NY 10001</td>\n",
              "      <td>12</td>\n",
              "      <td>400.00</td>\n",
              "      <td>New York City (NY)</td>\n",
              "      <td>14</td>\n",
              "      <td>Vareebadd Phone,USB-C Charging Cable</td>\n",
              "    </tr>\n",
              "  </tbody>\n",
              "</table>\n",
              "</div>\n",
              "      <button class=\"colab-df-convert\" onclick=\"convertToInteractive('df-c9168b4c-aabb-4bd0-b99f-dae3b475bbce')\"\n",
              "              title=\"Convert this dataframe to an interactive table.\"\n",
              "              style=\"display:none;\">\n",
              "        \n",
              "  <svg xmlns=\"http://www.w3.org/2000/svg\" height=\"24px\"viewBox=\"0 0 24 24\"\n",
              "       width=\"24px\">\n",
              "    <path d=\"M0 0h24v24H0V0z\" fill=\"none\"/>\n",
              "    <path d=\"M18.56 5.44l.94 2.06.94-2.06 2.06-.94-2.06-.94-.94-2.06-.94 2.06-2.06.94zm-11 1L8.5 8.5l.94-2.06 2.06-.94-2.06-.94L8.5 2.5l-.94 2.06-2.06.94zm10 10l.94 2.06.94-2.06 2.06-.94-2.06-.94-.94-2.06-.94 2.06-2.06.94z\"/><path d=\"M17.41 7.96l-1.37-1.37c-.4-.4-.92-.59-1.43-.59-.52 0-1.04.2-1.43.59L10.3 9.45l-7.72 7.72c-.78.78-.78 2.05 0 2.83L4 21.41c.39.39.9.59 1.41.59.51 0 1.02-.2 1.41-.59l7.78-7.78 2.81-2.81c.8-.78.8-2.07 0-2.86zM5.41 20L4 18.59l7.72-7.72 1.47 1.35L5.41 20z\"/>\n",
              "  </svg>\n",
              "      </button>\n",
              "      \n",
              "  <style>\n",
              "    .colab-df-container {\n",
              "      display:flex;\n",
              "      flex-wrap:wrap;\n",
              "      gap: 12px;\n",
              "    }\n",
              "\n",
              "    .colab-df-convert {\n",
              "      background-color: #E8F0FE;\n",
              "      border: none;\n",
              "      border-radius: 50%;\n",
              "      cursor: pointer;\n",
              "      display: none;\n",
              "      fill: #1967D2;\n",
              "      height: 32px;\n",
              "      padding: 0 0 0 0;\n",
              "      width: 32px;\n",
              "    }\n",
              "\n",
              "    .colab-df-convert:hover {\n",
              "      background-color: #E2EBFA;\n",
              "      box-shadow: 0px 1px 2px rgba(60, 64, 67, 0.3), 0px 1px 3px 1px rgba(60, 64, 67, 0.15);\n",
              "      fill: #174EA6;\n",
              "    }\n",
              "\n",
              "    [theme=dark] .colab-df-convert {\n",
              "      background-color: #3B4455;\n",
              "      fill: #D2E3FC;\n",
              "    }\n",
              "\n",
              "    [theme=dark] .colab-df-convert:hover {\n",
              "      background-color: #434B5C;\n",
              "      box-shadow: 0px 1px 3px 1px rgba(0, 0, 0, 0.15);\n",
              "      filter: drop-shadow(0px 1px 2px rgba(0, 0, 0, 0.3));\n",
              "      fill: #FFFFFF;\n",
              "    }\n",
              "  </style>\n",
              "\n",
              "      <script>\n",
              "        const buttonEl =\n",
              "          document.querySelector('#df-c9168b4c-aabb-4bd0-b99f-dae3b475bbce button.colab-df-convert');\n",
              "        buttonEl.style.display =\n",
              "          google.colab.kernel.accessAllowed ? 'block' : 'none';\n",
              "\n",
              "        async function convertToInteractive(key) {\n",
              "          const element = document.querySelector('#df-c9168b4c-aabb-4bd0-b99f-dae3b475bbce');\n",
              "          const dataTable =\n",
              "            await google.colab.kernel.invokeFunction('convertToInteractive',\n",
              "                                                     [key], {});\n",
              "          if (!dataTable) return;\n",
              "\n",
              "          const docLinkHtml = 'Like what you see? Visit the ' +\n",
              "            '<a target=\"_blank\" href=https://colab.research.google.com/notebooks/data_table.ipynb>data table notebook</a>'\n",
              "            + ' to learn more about interactive tables.';\n",
              "          element.innerHTML = '';\n",
              "          dataTable['output_type'] = 'display_data';\n",
              "          await google.colab.output.renderOutput(dataTable, element);\n",
              "          const docLink = document.createElement('div');\n",
              "          docLink.innerHTML = docLinkHtml;\n",
              "          element.appendChild(docLink);\n",
              "        }\n",
              "      </script>\n",
              "    </div>\n",
              "  </div>\n",
              "  "
            ]
          },
          "metadata": {},
          "execution_count": 177
        }
      ]
    },
    {
      "cell_type": "code",
      "source": [
        "#Dublicates have been created\n"
      ],
      "metadata": {
        "id": "VmRCn8rHDX-y"
      },
      "execution_count": 178,
      "outputs": []
    },
    {
      "cell_type": "code",
      "source": [
        "#dropping the dublicate occurance\n",
        "\n",
        "df =df[[\"Order ID\", \"Grouped\"]].drop_duplicates()\n",
        "df.head()"
      ],
      "metadata": {
        "colab": {
          "base_uri": "https://localhost:8080/",
          "height": 206
        },
        "id": "qBqQ637kGiMZ",
        "outputId": "563e440f-5bf4-4ba0-ed95-1912fdb04b1a"
      },
      "execution_count": 179,
      "outputs": [
        {
          "output_type": "execute_result",
          "data": {
            "text/plain": [
              "    Order ID                                            Grouped\n",
              "16    295681  Google Phone,USB-C Charging Cable,Bose SoundSp...\n",
              "36    295698               Vareebadd Phone,USB-C Charging Cable\n",
              "42    295703   AA Batteries (4-pack),Bose SoundSport Headphones\n",
              "66    295726                    iPhone,Lightning Charging Cable\n",
              "76    295735   iPhone,Apple Airpods Headphones,Wired Headphones"
            ],
            "text/html": [
              "\n",
              "  <div id=\"df-0eec7c72-b916-4ed3-b383-2a6ed92bf1c6\">\n",
              "    <div class=\"colab-df-container\">\n",
              "      <div>\n",
              "<style scoped>\n",
              "    .dataframe tbody tr th:only-of-type {\n",
              "        vertical-align: middle;\n",
              "    }\n",
              "\n",
              "    .dataframe tbody tr th {\n",
              "        vertical-align: top;\n",
              "    }\n",
              "\n",
              "    .dataframe thead th {\n",
              "        text-align: right;\n",
              "    }\n",
              "</style>\n",
              "<table border=\"1\" class=\"dataframe\">\n",
              "  <thead>\n",
              "    <tr style=\"text-align: right;\">\n",
              "      <th></th>\n",
              "      <th>Order ID</th>\n",
              "      <th>Grouped</th>\n",
              "    </tr>\n",
              "  </thead>\n",
              "  <tbody>\n",
              "    <tr>\n",
              "      <th>16</th>\n",
              "      <td>295681</td>\n",
              "      <td>Google Phone,USB-C Charging Cable,Bose SoundSp...</td>\n",
              "    </tr>\n",
              "    <tr>\n",
              "      <th>36</th>\n",
              "      <td>295698</td>\n",
              "      <td>Vareebadd Phone,USB-C Charging Cable</td>\n",
              "    </tr>\n",
              "    <tr>\n",
              "      <th>42</th>\n",
              "      <td>295703</td>\n",
              "      <td>AA Batteries (4-pack),Bose SoundSport Headphones</td>\n",
              "    </tr>\n",
              "    <tr>\n",
              "      <th>66</th>\n",
              "      <td>295726</td>\n",
              "      <td>iPhone,Lightning Charging Cable</td>\n",
              "    </tr>\n",
              "    <tr>\n",
              "      <th>76</th>\n",
              "      <td>295735</td>\n",
              "      <td>iPhone,Apple Airpods Headphones,Wired Headphones</td>\n",
              "    </tr>\n",
              "  </tbody>\n",
              "</table>\n",
              "</div>\n",
              "      <button class=\"colab-df-convert\" onclick=\"convertToInteractive('df-0eec7c72-b916-4ed3-b383-2a6ed92bf1c6')\"\n",
              "              title=\"Convert this dataframe to an interactive table.\"\n",
              "              style=\"display:none;\">\n",
              "        \n",
              "  <svg xmlns=\"http://www.w3.org/2000/svg\" height=\"24px\"viewBox=\"0 0 24 24\"\n",
              "       width=\"24px\">\n",
              "    <path d=\"M0 0h24v24H0V0z\" fill=\"none\"/>\n",
              "    <path d=\"M18.56 5.44l.94 2.06.94-2.06 2.06-.94-2.06-.94-.94-2.06-.94 2.06-2.06.94zm-11 1L8.5 8.5l.94-2.06 2.06-.94-2.06-.94L8.5 2.5l-.94 2.06-2.06.94zm10 10l.94 2.06.94-2.06 2.06-.94-2.06-.94-.94-2.06-.94 2.06-2.06.94z\"/><path d=\"M17.41 7.96l-1.37-1.37c-.4-.4-.92-.59-1.43-.59-.52 0-1.04.2-1.43.59L10.3 9.45l-7.72 7.72c-.78.78-.78 2.05 0 2.83L4 21.41c.39.39.9.59 1.41.59.51 0 1.02-.2 1.41-.59l7.78-7.78 2.81-2.81c.8-.78.8-2.07 0-2.86zM5.41 20L4 18.59l7.72-7.72 1.47 1.35L5.41 20z\"/>\n",
              "  </svg>\n",
              "      </button>\n",
              "      \n",
              "  <style>\n",
              "    .colab-df-container {\n",
              "      display:flex;\n",
              "      flex-wrap:wrap;\n",
              "      gap: 12px;\n",
              "    }\n",
              "\n",
              "    .colab-df-convert {\n",
              "      background-color: #E8F0FE;\n",
              "      border: none;\n",
              "      border-radius: 50%;\n",
              "      cursor: pointer;\n",
              "      display: none;\n",
              "      fill: #1967D2;\n",
              "      height: 32px;\n",
              "      padding: 0 0 0 0;\n",
              "      width: 32px;\n",
              "    }\n",
              "\n",
              "    .colab-df-convert:hover {\n",
              "      background-color: #E2EBFA;\n",
              "      box-shadow: 0px 1px 2px rgba(60, 64, 67, 0.3), 0px 1px 3px 1px rgba(60, 64, 67, 0.15);\n",
              "      fill: #174EA6;\n",
              "    }\n",
              "\n",
              "    [theme=dark] .colab-df-convert {\n",
              "      background-color: #3B4455;\n",
              "      fill: #D2E3FC;\n",
              "    }\n",
              "\n",
              "    [theme=dark] .colab-df-convert:hover {\n",
              "      background-color: #434B5C;\n",
              "      box-shadow: 0px 1px 3px 1px rgba(0, 0, 0, 0.15);\n",
              "      filter: drop-shadow(0px 1px 2px rgba(0, 0, 0, 0.3));\n",
              "      fill: #FFFFFF;\n",
              "    }\n",
              "  </style>\n",
              "\n",
              "      <script>\n",
              "        const buttonEl =\n",
              "          document.querySelector('#df-0eec7c72-b916-4ed3-b383-2a6ed92bf1c6 button.colab-df-convert');\n",
              "        buttonEl.style.display =\n",
              "          google.colab.kernel.accessAllowed ? 'block' : 'none';\n",
              "\n",
              "        async function convertToInteractive(key) {\n",
              "          const element = document.querySelector('#df-0eec7c72-b916-4ed3-b383-2a6ed92bf1c6');\n",
              "          const dataTable =\n",
              "            await google.colab.kernel.invokeFunction('convertToInteractive',\n",
              "                                                     [key], {});\n",
              "          if (!dataTable) return;\n",
              "\n",
              "          const docLinkHtml = 'Like what you see? Visit the ' +\n",
              "            '<a target=\"_blank\" href=https://colab.research.google.com/notebooks/data_table.ipynb>data table notebook</a>'\n",
              "            + ' to learn more about interactive tables.';\n",
              "          element.innerHTML = '';\n",
              "          dataTable['output_type'] = 'display_data';\n",
              "          await google.colab.output.renderOutput(dataTable, element);\n",
              "          const docLink = document.createElement('div');\n",
              "          docLink.innerHTML = docLinkHtml;\n",
              "          element.appendChild(docLink);\n",
              "        }\n",
              "      </script>\n",
              "    </div>\n",
              "  </div>\n",
              "  "
            ]
          },
          "metadata": {},
          "execution_count": 179
        }
      ]
    },
    {
      "cell_type": "code",
      "source": [
        "from itertools import combinations\n",
        "from collections import Counter"
      ],
      "metadata": {
        "id": "zxiFGcF-IHsS"
      },
      "execution_count": 180,
      "outputs": []
    },
    {
      "cell_type": "code",
      "source": [
        "\n",
        "\n",
        "count = Counter()\n",
        "\n",
        "for row in df[\"Grouped\"]:\n",
        "  row_list = row.split(\",\")\n",
        "  count.update(Counter(combinations(row_list,2)))\n",
        "    #different group of two items, \n",
        "    #update their count in Counter\n",
        "  "
      ],
      "metadata": {
        "id": "ga2-gKxyHBTR"
      },
      "execution_count": 181,
      "outputs": []
    },
    {
      "cell_type": "code",
      "source": [
        "print(count)"
      ],
      "metadata": {
        "colab": {
          "base_uri": "https://localhost:8080/"
        },
        "id": "J9KxRu11Iha6",
        "outputId": "562cdb65-dac9-42a6-8455-229d2abf5cf8"
      },
      "execution_count": 182,
      "outputs": [
        {
          "output_type": "stream",
          "name": "stdout",
          "text": [
            "Counter({('iPhone', 'Lightning Charging Cable'): 1005, ('Google Phone', 'USB-C Charging Cable'): 987, ('iPhone', 'Wired Headphones'): 447, ('Google Phone', 'Wired Headphones'): 414, ('Vareebadd Phone', 'USB-C Charging Cable'): 361, ('iPhone', 'Apple Airpods Headphones'): 360, ('Google Phone', 'Bose SoundSport Headphones'): 220, ('USB-C Charging Cable', 'Wired Headphones'): 160, ('Vareebadd Phone', 'Wired Headphones'): 143, ('Lightning Charging Cable', 'Wired Headphones'): 92, ('Lightning Charging Cable', 'Apple Airpods Headphones'): 81, ('Vareebadd Phone', 'Bose SoundSport Headphones'): 80, ('USB-C Charging Cable', 'Bose SoundSport Headphones'): 77, ('Apple Airpods Headphones', 'Wired Headphones'): 69, ('Lightning Charging Cable', 'USB-C Charging Cable'): 58, ('Lightning Charging Cable', 'AA Batteries (4-pack)'): 55, ('Lightning Charging Cable', 'Lightning Charging Cable'): 54, ('Bose SoundSport Headphones', 'Wired Headphones'): 53, ('AA Batteries (4-pack)', 'Lightning Charging Cable'): 51, ('AAA Batteries (4-pack)', 'USB-C Charging Cable'): 50, ('AA Batteries (4-pack)', 'AAA Batteries (4-pack)'): 48, ('AAA Batteries (4-pack)', 'AAA Batteries (4-pack)'): 48, ('Apple Airpods Headphones', 'AAA Batteries (4-pack)'): 48, ('USB-C Charging Cable', 'USB-C Charging Cable'): 48, ('Wired Headphones', 'USB-C Charging Cable'): 45, ('USB-C Charging Cable', 'AAA Batteries (4-pack)'): 45, ('AAA Batteries (4-pack)', 'Lightning Charging Cable'): 44, ('AA Batteries (4-pack)', 'Wired Headphones'): 44, ('Wired Headphones', 'AAA Batteries (4-pack)'): 43, ('AAA Batteries (4-pack)', 'Wired Headphones'): 43, ('USB-C Charging Cable', 'Lightning Charging Cable'): 42, ('AA Batteries (4-pack)', 'Apple Airpods Headphones'): 41, ('Lightning Charging Cable', 'Bose SoundSport Headphones'): 39, ('Wired Headphones', 'AA Batteries (4-pack)'): 39, ('AAA Batteries (4-pack)', 'AA Batteries (4-pack)'): 39, ('USB-C Charging Cable', 'AA Batteries (4-pack)'): 38, ('Bose SoundSport Headphones', 'AAA Batteries (4-pack)'): 37, ('AA Batteries (4-pack)', 'USB-C Charging Cable'): 37, ('Wired Headphones', 'Lightning Charging Cable'): 37, ('Lightning Charging Cable', 'AAA Batteries (4-pack)'): 36, ('Wired Headphones', 'Wired Headphones'): 35, ('AA Batteries (4-pack)', 'AA Batteries (4-pack)'): 35, ('Apple Airpods Headphones', 'Lightning Charging Cable'): 35, ('USB-C Charging Cable', 'Apple Airpods Headphones'): 34, ('AAA Batteries (4-pack)', 'Apple Airpods Headphones'): 33, ('Bose SoundSport Headphones', 'Lightning Charging Cable'): 33, ('Apple Airpods Headphones', 'Bose SoundSport Headphones'): 32, ('USB-C Charging Cable', '27in FHD Monitor'): 31, ('Wired Headphones', 'Apple Airpods Headphones'): 31, ('Apple Airpods Headphones', 'AA Batteries (4-pack)'): 29, ('Apple Airpods Headphones', 'USB-C Charging Cable'): 29, ('AA Batteries (4-pack)', 'Bose SoundSport Headphones'): 28, ('Bose SoundSport Headphones', 'Bose SoundSport Headphones'): 27, ('Bose SoundSport Headphones', 'AA Batteries (4-pack)'): 27, ('Bose SoundSport Headphones', 'USB-C Charging Cable'): 25, ('Apple Airpods Headphones', 'Apple Airpods Headphones'): 24, ('AAA Batteries (4-pack)', '27in FHD Monitor'): 22, ('27in FHD Monitor', 'AAA Batteries (4-pack)'): 21, ('Wired Headphones', 'Bose SoundSport Headphones'): 21, ('AAA Batteries (4-pack)', 'Bose SoundSport Headphones'): 20, ('34in Ultrawide Monitor', 'AA Batteries (4-pack)'): 19, ('34in Ultrawide Monitor', 'Lightning Charging Cable'): 18, ('Lightning Charging Cable', '27in 4K Gaming Monitor'): 18, ('Lightning Charging Cable', '27in FHD Monitor'): 18, ('AA Batteries (4-pack)', 'iPhone'): 18, ('Wired Headphones', '27in 4K Gaming Monitor'): 18, ('Bose SoundSport Headphones', 'Apple Airpods Headphones'): 18, ('27in FHD Monitor', 'Lightning Charging Cable'): 18, ('iPhone', 'AAA Batteries (4-pack)'): 17, ('Wired Headphones', '34in Ultrawide Monitor'): 17, ('Lightning Charging Cable', 'Google Phone'): 16, ('ThinkPad Laptop', 'AAA Batteries (4-pack)'): 16, ('27in 4K Gaming Monitor', 'Lightning Charging Cable'): 16, ('27in 4K Gaming Monitor', 'AAA Batteries (4-pack)'): 15, ('20in Monitor', 'USB-C Charging Cable'): 15, ('Lightning Charging Cable', '34in Ultrawide Monitor'): 15, ('34in Ultrawide Monitor', 'USB-C Charging Cable'): 15, ('27in FHD Monitor', 'AA Batteries (4-pack)'): 15, ('Lightning Charging Cable', '20in Monitor'): 15, ('Wired Headphones', 'iPhone'): 15, ('AAA Batteries (4-pack)', '27in 4K Gaming Monitor'): 15, ('iPhone', 'USB-C Charging Cable'): 15, ('iPhone', 'AA Batteries (4-pack)'): 14, ('USB-C Charging Cable', 'iPhone'): 14, ('Bose SoundSport Headphones', '27in FHD Monitor'): 14, ('Apple Airpods Headphones', 'Google Phone'): 14, ('AAA Batteries (4-pack)', 'iPhone'): 14, ('AA Batteries (4-pack)', '27in 4K Gaming Monitor'): 14, ('Google Phone', 'AA Batteries (4-pack)'): 14, ('Wired Headphones', 'Macbook Pro Laptop'): 13, ('AA Batteries (4-pack)', 'Flatscreen TV'): 13, ('AA Batteries (4-pack)', '34in Ultrawide Monitor'): 13, ('Apple Airpods Headphones', 'iPhone'): 13, ('AAA Batteries (4-pack)', '34in Ultrawide Monitor'): 13, ('27in FHD Monitor', 'Bose SoundSport Headphones'): 12, ('27in FHD Monitor', 'Apple Airpods Headphones'): 12, ('20in Monitor', 'Wired Headphones'): 12, ('USB-C Charging Cable', 'Google Phone'): 12, ('Apple Airpods Headphones', '27in FHD Monitor'): 12, ('27in 4K Gaming Monitor', 'AA Batteries (4-pack)'): 12, ('27in FHD Monitor', 'USB-C Charging Cable'): 12, ('Apple Airpods Headphones', '27in 4K Gaming Monitor'): 12, ('Macbook Pro Laptop', 'USB-C Charging Cable'): 12, ('34in Ultrawide Monitor', 'AAA Batteries (4-pack)'): 12, ('Google Phone', 'Lightning Charging Cable'): 12, ('Lightning Charging Cable', 'Flatscreen TV'): 12, ('Wired Headphones', '27in FHD Monitor'): 12, ('Apple Airpods Headphones', 'Macbook Pro Laptop'): 12, ('27in 4K Gaming Monitor', 'USB-C Charging Cable'): 12, ('27in 4K Gaming Monitor', 'Wired Headphones'): 11, ('Macbook Pro Laptop', 'Lightning Charging Cable'): 11, ('AAA Batteries (4-pack)', 'ThinkPad Laptop'): 11, ('USB-C Charging Cable', '27in 4K Gaming Monitor'): 11, ('ThinkPad Laptop', 'Lightning Charging Cable'): 11, ('Google Phone', 'AAA Batteries (4-pack)'): 11, ('USB-C Charging Cable', 'ThinkPad Laptop'): 11, ('Flatscreen TV', 'AAA Batteries (4-pack)'): 11, ('USB-C Charging Cable', '34in Ultrawide Monitor'): 11, ('Bose SoundSport Headphones', '34in Ultrawide Monitor'): 11, ('AAA Batteries (4-pack)', 'Macbook Pro Laptop'): 11, ('AAA Batteries (4-pack)', 'Google Phone'): 11, ('34in Ultrawide Monitor', 'Wired Headphones'): 11, ('AA Batteries (4-pack)', '27in FHD Monitor'): 11, ('AA Batteries (4-pack)', 'Google Phone'): 11, ('Macbook Pro Laptop', 'Bose SoundSport Headphones'): 11, ('20in Monitor', 'Lightning Charging Cable'): 11, ('USB-C Charging Cable', '20in Monitor'): 10, ('USB-C Charging Cable', 'Flatscreen TV'): 10, ('Flatscreen TV', 'Lightning Charging Cable'): 10, ('AAA Batteries (4-pack)', 'Flatscreen TV'): 10, ('Lightning Charging Cable', 'iPhone'): 10, ('27in FHD Monitor', 'Wired Headphones'): 10, ('Bose SoundSport Headphones', 'Flatscreen TV'): 10, ('Lightning Charging Cable', 'Macbook Pro Laptop'): 10, ('AA Batteries (4-pack)', '20in Monitor'): 10, ('Bose SoundSport Headphones', '27in 4K Gaming Monitor'): 10, ('Wired Headphones', 'ThinkPad Laptop'): 10, ('27in 4K Gaming Monitor', 'Apple Airpods Headphones'): 10, ('ThinkPad Laptop', 'Bose SoundSport Headphones'): 9, ('20in Monitor', 'Bose SoundSport Headphones'): 9, ('AA Batteries (4-pack)', 'ThinkPad Laptop'): 9, ('Lightning Charging Cable', 'ThinkPad Laptop'): 9, ('Wired Headphones', 'Google Phone'): 9, ('ThinkPad Laptop', 'USB-C Charging Cable'): 9, ('Macbook Pro Laptop', 'AA Batteries (4-pack)'): 9, ('USB-C Charging Cable', 'Macbook Pro Laptop'): 9, ('27in 4K Gaming Monitor', 'Bose SoundSport Headphones'): 9, ('27in FHD Monitor', '27in FHD Monitor'): 9, ('Apple Airpods Headphones', 'ThinkPad Laptop'): 9, ('Vareebadd Phone', 'AA Batteries (4-pack)'): 9, ('AAA Batteries (4-pack)', '20in Monitor'): 8, ('Flatscreen TV', 'AA Batteries (4-pack)'): 8, ('AA Batteries (4-pack)', 'Macbook Pro Laptop'): 8, ('34in Ultrawide Monitor', 'Apple Airpods Headphones'): 8, ('Apple Airpods Headphones', 'Flatscreen TV'): 8, ('ThinkPad Laptop', 'AA Batteries (4-pack)'): 8, ('Bose SoundSport Headphones', 'Google Phone'): 8, ('Macbook Pro Laptop', 'Apple Airpods Headphones'): 7, ('34in Ultrawide Monitor', 'iPhone'): 7, ('Macbook Pro Laptop', 'AAA Batteries (4-pack)'): 7, ('34in Ultrawide Monitor', '34in Ultrawide Monitor'): 7, ('USB-C Charging Cable', 'Vareebadd Phone'): 7, ('Macbook Pro Laptop', 'Wired Headphones'): 7, ('Google Phone', 'Apple Airpods Headphones'): 7, ('Flatscreen TV', 'USB-C Charging Cable'): 7, ('Bose SoundSport Headphones', 'iPhone'): 7, ('Macbook Pro Laptop', '27in 4K Gaming Monitor'): 7, ('Wired Headphones', '20in Monitor'): 7, ('20in Monitor', 'Apple Airpods Headphones'): 7, ('ThinkPad Laptop', 'Apple Airpods Headphones'): 7, ('Google Phone', '27in FHD Monitor'): 7, ('Wired Headphones', 'Flatscreen TV'): 7, ('Flatscreen TV', 'Flatscreen TV'): 6, ('Apple Airpods Headphones', '20in Monitor'): 6, ('Apple Airpods Headphones', 'Vareebadd Phone'): 6, ('iPhone', '34in Ultrawide Monitor'): 6, ('Wired Headphones', 'Vareebadd Phone'): 6, ('34in Ultrawide Monitor', 'Bose SoundSport Headphones'): 6, ('27in 4K Gaming Monitor', '34in Ultrawide Monitor'): 6, ('iPhone', 'Flatscreen TV'): 6, ('20in Monitor', 'AA Batteries (4-pack)'): 6, ('27in FHD Monitor', 'Macbook Pro Laptop'): 6, ('Google Phone', 'iPhone'): 6, ('27in 4K Gaming Monitor', 'Macbook Pro Laptop'): 6, ('Apple Airpods Headphones', '34in Ultrawide Monitor'): 6, ('Bose SoundSport Headphones', '20in Monitor'): 6, ('iPhone', '27in 4K Gaming Monitor'): 6, ('Vareebadd Phone', 'Apple Airpods Headphones'): 6, ('Flatscreen TV', '34in Ultrawide Monitor'): 5, ('27in 4K Gaming Monitor', 'Google Phone'): 5, ('27in 4K Gaming Monitor', '27in 4K Gaming Monitor'): 5, ('27in FHD Monitor', '34in Ultrawide Monitor'): 5, ('Flatscreen TV', 'Apple Airpods Headphones'): 5, ('34in Ultrawide Monitor', '27in FHD Monitor'): 5, ('iPhone', 'Bose SoundSport Headphones'): 5, ('Macbook Pro Laptop', 'Google Phone'): 4, ('Macbook Pro Laptop', '34in Ultrawide Monitor'): 4, ('27in 4K Gaming Monitor', '27in FHD Monitor'): 4, ('Vareebadd Phone', '34in Ultrawide Monitor'): 4, ('Lightning Charging Cable', 'LG Washing Machine'): 4, ('27in FHD Monitor', 'ThinkPad Laptop'): 4, ('27in 4K Gaming Monitor', 'ThinkPad Laptop'): 4, ('Flatscreen TV', 'Macbook Pro Laptop'): 4, ('AAA Batteries (4-pack)', 'Vareebadd Phone'): 4, ('ThinkPad Laptop', 'Flatscreen TV'): 4, ('Bose SoundSport Headphones', 'Macbook Pro Laptop'): 4, ('Flatscreen TV', '27in FHD Monitor'): 4, ('iPhone', 'Vareebadd Phone'): 4, ('Bose SoundSport Headphones', 'ThinkPad Laptop'): 4, ('20in Monitor', 'Macbook Pro Laptop'): 4, ('Flatscreen TV', 'Wired Headphones'): 4, ('iPhone', 'ThinkPad Laptop'): 4, ('Flatscreen TV', 'iPhone'): 4, ('ThinkPad Laptop', 'Wired Headphones'): 4, ('LG Dryer', 'AA Batteries (4-pack)'): 4, ('27in FHD Monitor', '27in 4K Gaming Monitor'): 4, ('Vareebadd Phone', 'Google Phone'): 4, ('LG Washing Machine', 'AAA Batteries (4-pack)'): 4, ('Macbook Pro Laptop', 'iPhone'): 3, ('Vareebadd Phone', 'iPhone'): 3, ('Vareebadd Phone', 'Flatscreen TV'): 3, ('Wired Headphones', 'LG Washing Machine'): 3, ('ThinkPad Laptop', 'iPhone'): 3, ('Google Phone', '34in Ultrawide Monitor'): 3, ('Macbook Pro Laptop', '27in FHD Monitor'): 3, ('Lightning Charging Cable', 'Vareebadd Phone'): 3, ('34in Ultrawide Monitor', 'ThinkPad Laptop'): 3, ('Macbook Pro Laptop', 'ThinkPad Laptop'): 3, ('iPhone', 'Macbook Pro Laptop'): 3, ('27in FHD Monitor', '20in Monitor'): 3, ('34in Ultrawide Monitor', 'Macbook Pro Laptop'): 3, ('Flatscreen TV', 'Bose SoundSport Headphones'): 3, ('20in Monitor', '20in Monitor'): 3, ('Google Phone', 'ThinkPad Laptop'): 3, ('Google Phone', 'Google Phone'): 3, ('Google Phone', 'Macbook Pro Laptop'): 3, ('AA Batteries (4-pack)', 'Vareebadd Phone'): 3, ('ThinkPad Laptop', 'Google Phone'): 3, ('20in Monitor', 'AAA Batteries (4-pack)'): 3, ('iPhone', 'Google Phone'): 3, ('Apple Airpods Headphones', 'LG Dryer'): 3, ('27in 4K Gaming Monitor', 'iPhone'): 3, ('Macbook Pro Laptop', 'Macbook Pro Laptop'): 3, ('Flatscreen TV', 'Google Phone'): 3, ('27in 4K Gaming Monitor', 'Flatscreen TV'): 3, ('34in Ultrawide Monitor', 'Flatscreen TV'): 3, ('20in Monitor', '27in FHD Monitor'): 2, ('ThinkPad Laptop', 'ThinkPad Laptop'): 2, ('ThinkPad Laptop', 'Macbook Pro Laptop'): 2, ('Bose SoundSport Headphones', 'Vareebadd Phone'): 2, ('Vareebadd Phone', 'ThinkPad Laptop'): 2, ('20in Monitor', 'ThinkPad Laptop'): 2, ('Macbook Pro Laptop', 'LG Washing Machine'): 2, ('Google Phone', '20in Monitor'): 2, ('20in Monitor', 'Google Phone'): 2, ('iPhone', '20in Monitor'): 2, ('Macbook Pro Laptop', '20in Monitor'): 2, ('LG Washing Machine', 'Lightning Charging Cable'): 2, ('LG Washing Machine', 'Bose SoundSport Headphones'): 2, ('34in Ultrawide Monitor', 'Google Phone'): 2, ('Lightning Charging Cable', 'LG Dryer'): 2, ('Flatscreen TV', '27in 4K Gaming Monitor'): 2, ('ThinkPad Laptop', '27in FHD Monitor'): 2, ('Vareebadd Phone', 'AAA Batteries (4-pack)'): 2, ('27in FHD Monitor', 'LG Dryer'): 2, ('27in FHD Monitor', 'Flatscreen TV'): 2, ('27in 4K Gaming Monitor', '20in Monitor'): 2, ('AA Batteries (4-pack)', 'LG Dryer'): 2, ('Flatscreen TV', 'ThinkPad Laptop'): 2, ('iPhone', 'iPhone'): 2, ('Vareebadd Phone', '27in 4K Gaming Monitor'): 2, ('Macbook Pro Laptop', 'Flatscreen TV'): 1, ('ThinkPad Laptop', 'Vareebadd Phone'): 1, ('Google Phone', 'Flatscreen TV'): 1, ('LG Dryer', 'AAA Batteries (4-pack)'): 1, ('ThinkPad Laptop', '34in Ultrawide Monitor'): 1, ('iPhone', 'LG Washing Machine'): 1, ('AAA Batteries (4-pack)', 'LG Dryer'): 1, ('LG Dryer', '27in 4K Gaming Monitor'): 1, ('27in FHD Monitor', 'LG Washing Machine'): 1, ('LG Dryer', '27in FHD Monitor'): 1, ('20in Monitor', '34in Ultrawide Monitor'): 1, ('34in Ultrawide Monitor', '20in Monitor'): 1, ('27in 4K Gaming Monitor', 'Vareebadd Phone'): 1, ('27in FHD Monitor', 'iPhone'): 1, ('Vareebadd Phone', 'Lightning Charging Cable'): 1, ('Vareebadd Phone', '27in FHD Monitor'): 1, ('ThinkPad Laptop', '27in 4K Gaming Monitor'): 1, ('20in Monitor', 'Flatscreen TV'): 1, ('USB-C Charging Cable', 'LG Dryer'): 1, ('LG Washing Machine', '20in Monitor'): 1, ('Flatscreen TV', '20in Monitor'): 1, ('LG Dryer', 'Lightning Charging Cable'): 1, ('ThinkPad Laptop', 'LG Dryer'): 1, ('LG Washing Machine', 'AA Batteries (4-pack)'): 1, ('LG Dryer', 'Flatscreen TV'): 1, ('27in FHD Monitor', 'Google Phone'): 1, ('iPhone', '27in FHD Monitor'): 1, ('34in Ultrawide Monitor', 'LG Washing Machine'): 1, ('Google Phone', '27in 4K Gaming Monitor'): 1, ('LG Washing Machine', 'iPhone'): 1, ('LG Dryer', 'Wired Headphones'): 1, ('LG Washing Machine', 'Google Phone'): 1, ('LG Washing Machine', 'Wired Headphones'): 1, ('Google Phone', 'Vareebadd Phone'): 1, ('20in Monitor', 'iPhone'): 1, ('LG Dryer', 'Vareebadd Phone'): 1, ('27in FHD Monitor', 'Vareebadd Phone'): 1, ('LG Washing Machine', '27in 4K Gaming Monitor'): 1, ('LG Washing Machine', 'Apple Airpods Headphones'): 1, ('27in 4K Gaming Monitor', 'LG Dryer'): 1, ('20in Monitor', 'LG Washing Machine'): 1, ('LG Dryer', 'Google Phone'): 1})\n"
          ]
        }
      ]
    },
    {
      "cell_type": "markdown",
      "source": [
        "#Answer\n",
        "('iPhone', 'Lightning Charging Cable'): **1005**, **HIGHEST**\n",
        "\n",
        "('Google Phone', 'USB-C Charging Cable'): 987, Second Place\n",
        "\n",
        "('iPhone', 'Wired Headphones'): 447, \n",
        "\n",
        "('Google Phone', 'Wired Headphones'): 414, \n",
        "\n",
        "('Vareebadd Phone', 'USB-C Charging Cable'): 361"
      ],
      "metadata": {
        "id": "Xm6rnGbOIqdG"
      }
    },
    {
      "cell_type": "code",
      "source": [
        "count.most_common(10)"
      ],
      "metadata": {
        "colab": {
          "base_uri": "https://localhost:8080/"
        },
        "id": "QnQqgMXCIiqL",
        "outputId": "90dc4223-6124-4d3d-dcfe-5a9fac6cf530"
      },
      "execution_count": 183,
      "outputs": [
        {
          "output_type": "execute_result",
          "data": {
            "text/plain": [
              "[(('iPhone', 'Lightning Charging Cable'), 1005),\n",
              " (('Google Phone', 'USB-C Charging Cable'), 987),\n",
              " (('iPhone', 'Wired Headphones'), 447),\n",
              " (('Google Phone', 'Wired Headphones'), 414),\n",
              " (('Vareebadd Phone', 'USB-C Charging Cable'), 361),\n",
              " (('iPhone', 'Apple Airpods Headphones'), 360),\n",
              " (('Google Phone', 'Bose SoundSport Headphones'), 220),\n",
              " (('USB-C Charging Cable', 'Wired Headphones'), 160),\n",
              " (('Vareebadd Phone', 'Wired Headphones'), 143),\n",
              " (('Lightning Charging Cable', 'Wired Headphones'), 92)]"
            ]
          },
          "metadata": {},
          "execution_count": 183
        }
      ]
    },
    {
      "cell_type": "code",
      "source": [
        "#MOST COMMON 3 ITEMS BOUGHT TOGETHER\n",
        "count = Counter()\n",
        "\n",
        "for row in df[\"Grouped\"]:\n",
        "  row_list = row.split(\",\")\n",
        "  count.update(Counter(combinations(row_list,3)))\n",
        "\n",
        "count.most_common(10)"
      ],
      "metadata": {
        "colab": {
          "base_uri": "https://localhost:8080/"
        },
        "id": "cxfF_YP8JNRR",
        "outputId": "0f1dd9c0-1f13-4e8d-b334-2a5fdee1811d"
      },
      "execution_count": 184,
      "outputs": [
        {
          "output_type": "execute_result",
          "data": {
            "text/plain": [
              "[(('Google Phone', 'USB-C Charging Cable', 'Wired Headphones'), 87),\n",
              " (('iPhone', 'Lightning Charging Cable', 'Wired Headphones'), 62),\n",
              " (('iPhone', 'Lightning Charging Cable', 'Apple Airpods Headphones'), 47),\n",
              " (('Google Phone', 'USB-C Charging Cable', 'Bose SoundSport Headphones'), 35),\n",
              " (('Vareebadd Phone', 'USB-C Charging Cable', 'Wired Headphones'), 33),\n",
              " (('iPhone', 'Apple Airpods Headphones', 'Wired Headphones'), 27),\n",
              " (('Google Phone', 'Bose SoundSport Headphones', 'Wired Headphones'), 24),\n",
              " (('Vareebadd Phone', 'USB-C Charging Cable', 'Bose SoundSport Headphones'),\n",
              "  16),\n",
              " (('USB-C Charging Cable', 'Bose SoundSport Headphones', 'Wired Headphones'),\n",
              "  5),\n",
              " (('Vareebadd Phone', 'Bose SoundSport Headphones', 'Wired Headphones'), 5)]"
            ]
          },
          "metadata": {},
          "execution_count": 184
        }
      ]
    },
    {
      "cell_type": "code",
      "source": [],
      "metadata": {
        "id": "s36Gdcg-Jchs"
      },
      "execution_count": null,
      "outputs": []
    },
    {
      "cell_type": "markdown",
      "source": [
        "**Question 5: What product Sold the most ?**"
      ],
      "metadata": {
        "id": "lRRaRDQKJuag"
      }
    },
    {
      "cell_type": "code",
      "source": [
        "all_data.head(5)"
      ],
      "metadata": {
        "colab": {
          "base_uri": "https://localhost:8080/",
          "height": 354
        },
        "id": "VP_8-bcBJrTh",
        "outputId": "ff517532-3c9c-463e-a0eb-07e348a2b5a4"
      },
      "execution_count": 185,
      "outputs": [
        {
          "output_type": "execute_result",
          "data": {
            "text/plain": [
              "   Order ID               Product  Quantity Ordered  Price Each  \\\n",
              "0    295665    Macbook Pro Laptop                 1     1700.00   \n",
              "1    295666    LG Washing Machine                 1      600.00   \n",
              "2    295667  USB-C Charging Cable                 1       11.95   \n",
              "3    295668      27in FHD Monitor                 1      149.99   \n",
              "4    295669  USB-C Charging Cable                 1       11.95   \n",
              "\n",
              "           Order Date                        Purchase Address  Month    Sales  \\\n",
              "0 2019-12-30 00:01:00  136 Church St, New York City, NY 10001     12  1700.00   \n",
              "1 2019-12-29 07:03:00     562 2nd St, New York City, NY 10001     12   600.00   \n",
              "2 2019-12-12 18:21:00    277 Main St, New York City, NY 10001     12    11.95   \n",
              "3 2019-12-22 15:13:00     410 6th St, San Francisco, CA 94016     12   149.99   \n",
              "4 2019-12-18 12:38:00           43 Hill St, Atlanta, GA 30301     12    11.95   \n",
              "\n",
              "                 City  Hour  \n",
              "0  New York City (NY)     0  \n",
              "1  New York City (NY)     7  \n",
              "2  New York City (NY)    18  \n",
              "3  San Francisco (CA)    15  \n",
              "4        Atlanta (GA)    12  "
            ],
            "text/html": [
              "\n",
              "  <div id=\"df-fe1ee973-5627-482c-a6a6-eb02d11fe37a\">\n",
              "    <div class=\"colab-df-container\">\n",
              "      <div>\n",
              "<style scoped>\n",
              "    .dataframe tbody tr th:only-of-type {\n",
              "        vertical-align: middle;\n",
              "    }\n",
              "\n",
              "    .dataframe tbody tr th {\n",
              "        vertical-align: top;\n",
              "    }\n",
              "\n",
              "    .dataframe thead th {\n",
              "        text-align: right;\n",
              "    }\n",
              "</style>\n",
              "<table border=\"1\" class=\"dataframe\">\n",
              "  <thead>\n",
              "    <tr style=\"text-align: right;\">\n",
              "      <th></th>\n",
              "      <th>Order ID</th>\n",
              "      <th>Product</th>\n",
              "      <th>Quantity Ordered</th>\n",
              "      <th>Price Each</th>\n",
              "      <th>Order Date</th>\n",
              "      <th>Purchase Address</th>\n",
              "      <th>Month</th>\n",
              "      <th>Sales</th>\n",
              "      <th>City</th>\n",
              "      <th>Hour</th>\n",
              "    </tr>\n",
              "  </thead>\n",
              "  <tbody>\n",
              "    <tr>\n",
              "      <th>0</th>\n",
              "      <td>295665</td>\n",
              "      <td>Macbook Pro Laptop</td>\n",
              "      <td>1</td>\n",
              "      <td>1700.00</td>\n",
              "      <td>2019-12-30 00:01:00</td>\n",
              "      <td>136 Church St, New York City, NY 10001</td>\n",
              "      <td>12</td>\n",
              "      <td>1700.00</td>\n",
              "      <td>New York City (NY)</td>\n",
              "      <td>0</td>\n",
              "    </tr>\n",
              "    <tr>\n",
              "      <th>1</th>\n",
              "      <td>295666</td>\n",
              "      <td>LG Washing Machine</td>\n",
              "      <td>1</td>\n",
              "      <td>600.00</td>\n",
              "      <td>2019-12-29 07:03:00</td>\n",
              "      <td>562 2nd St, New York City, NY 10001</td>\n",
              "      <td>12</td>\n",
              "      <td>600.00</td>\n",
              "      <td>New York City (NY)</td>\n",
              "      <td>7</td>\n",
              "    </tr>\n",
              "    <tr>\n",
              "      <th>2</th>\n",
              "      <td>295667</td>\n",
              "      <td>USB-C Charging Cable</td>\n",
              "      <td>1</td>\n",
              "      <td>11.95</td>\n",
              "      <td>2019-12-12 18:21:00</td>\n",
              "      <td>277 Main St, New York City, NY 10001</td>\n",
              "      <td>12</td>\n",
              "      <td>11.95</td>\n",
              "      <td>New York City (NY)</td>\n",
              "      <td>18</td>\n",
              "    </tr>\n",
              "    <tr>\n",
              "      <th>3</th>\n",
              "      <td>295668</td>\n",
              "      <td>27in FHD Monitor</td>\n",
              "      <td>1</td>\n",
              "      <td>149.99</td>\n",
              "      <td>2019-12-22 15:13:00</td>\n",
              "      <td>410 6th St, San Francisco, CA 94016</td>\n",
              "      <td>12</td>\n",
              "      <td>149.99</td>\n",
              "      <td>San Francisco (CA)</td>\n",
              "      <td>15</td>\n",
              "    </tr>\n",
              "    <tr>\n",
              "      <th>4</th>\n",
              "      <td>295669</td>\n",
              "      <td>USB-C Charging Cable</td>\n",
              "      <td>1</td>\n",
              "      <td>11.95</td>\n",
              "      <td>2019-12-18 12:38:00</td>\n",
              "      <td>43 Hill St, Atlanta, GA 30301</td>\n",
              "      <td>12</td>\n",
              "      <td>11.95</td>\n",
              "      <td>Atlanta (GA)</td>\n",
              "      <td>12</td>\n",
              "    </tr>\n",
              "  </tbody>\n",
              "</table>\n",
              "</div>\n",
              "      <button class=\"colab-df-convert\" onclick=\"convertToInteractive('df-fe1ee973-5627-482c-a6a6-eb02d11fe37a')\"\n",
              "              title=\"Convert this dataframe to an interactive table.\"\n",
              "              style=\"display:none;\">\n",
              "        \n",
              "  <svg xmlns=\"http://www.w3.org/2000/svg\" height=\"24px\"viewBox=\"0 0 24 24\"\n",
              "       width=\"24px\">\n",
              "    <path d=\"M0 0h24v24H0V0z\" fill=\"none\"/>\n",
              "    <path d=\"M18.56 5.44l.94 2.06.94-2.06 2.06-.94-2.06-.94-.94-2.06-.94 2.06-2.06.94zm-11 1L8.5 8.5l.94-2.06 2.06-.94-2.06-.94L8.5 2.5l-.94 2.06-2.06.94zm10 10l.94 2.06.94-2.06 2.06-.94-2.06-.94-.94-2.06-.94 2.06-2.06.94z\"/><path d=\"M17.41 7.96l-1.37-1.37c-.4-.4-.92-.59-1.43-.59-.52 0-1.04.2-1.43.59L10.3 9.45l-7.72 7.72c-.78.78-.78 2.05 0 2.83L4 21.41c.39.39.9.59 1.41.59.51 0 1.02-.2 1.41-.59l7.78-7.78 2.81-2.81c.8-.78.8-2.07 0-2.86zM5.41 20L4 18.59l7.72-7.72 1.47 1.35L5.41 20z\"/>\n",
              "  </svg>\n",
              "      </button>\n",
              "      \n",
              "  <style>\n",
              "    .colab-df-container {\n",
              "      display:flex;\n",
              "      flex-wrap:wrap;\n",
              "      gap: 12px;\n",
              "    }\n",
              "\n",
              "    .colab-df-convert {\n",
              "      background-color: #E8F0FE;\n",
              "      border: none;\n",
              "      border-radius: 50%;\n",
              "      cursor: pointer;\n",
              "      display: none;\n",
              "      fill: #1967D2;\n",
              "      height: 32px;\n",
              "      padding: 0 0 0 0;\n",
              "      width: 32px;\n",
              "    }\n",
              "\n",
              "    .colab-df-convert:hover {\n",
              "      background-color: #E2EBFA;\n",
              "      box-shadow: 0px 1px 2px rgba(60, 64, 67, 0.3), 0px 1px 3px 1px rgba(60, 64, 67, 0.15);\n",
              "      fill: #174EA6;\n",
              "    }\n",
              "\n",
              "    [theme=dark] .colab-df-convert {\n",
              "      background-color: #3B4455;\n",
              "      fill: #D2E3FC;\n",
              "    }\n",
              "\n",
              "    [theme=dark] .colab-df-convert:hover {\n",
              "      background-color: #434B5C;\n",
              "      box-shadow: 0px 1px 3px 1px rgba(0, 0, 0, 0.15);\n",
              "      filter: drop-shadow(0px 1px 2px rgba(0, 0, 0, 0.3));\n",
              "      fill: #FFFFFF;\n",
              "    }\n",
              "  </style>\n",
              "\n",
              "      <script>\n",
              "        const buttonEl =\n",
              "          document.querySelector('#df-fe1ee973-5627-482c-a6a6-eb02d11fe37a button.colab-df-convert');\n",
              "        buttonEl.style.display =\n",
              "          google.colab.kernel.accessAllowed ? 'block' : 'none';\n",
              "\n",
              "        async function convertToInteractive(key) {\n",
              "          const element = document.querySelector('#df-fe1ee973-5627-482c-a6a6-eb02d11fe37a');\n",
              "          const dataTable =\n",
              "            await google.colab.kernel.invokeFunction('convertToInteractive',\n",
              "                                                     [key], {});\n",
              "          if (!dataTable) return;\n",
              "\n",
              "          const docLinkHtml = 'Like what you see? Visit the ' +\n",
              "            '<a target=\"_blank\" href=https://colab.research.google.com/notebooks/data_table.ipynb>data table notebook</a>'\n",
              "            + ' to learn more about interactive tables.';\n",
              "          element.innerHTML = '';\n",
              "          dataTable['output_type'] = 'display_data';\n",
              "          await google.colab.output.renderOutput(dataTable, element);\n",
              "          const docLink = document.createElement('div');\n",
              "          docLink.innerHTML = docLinkHtml;\n",
              "          element.appendChild(docLink);\n",
              "        }\n",
              "      </script>\n",
              "    </div>\n",
              "  </div>\n",
              "  "
            ]
          },
          "metadata": {},
          "execution_count": 185
        }
      ]
    },
    {
      "cell_type": "code",
      "source": [
        "df0 = pd.DataFrame(all_data[\"Product\"].value_counts())\n",
        "df0"
      ],
      "metadata": {
        "colab": {
          "base_uri": "https://localhost:8080/",
          "height": 645
        },
        "id": "0EXIlL_WJ3vU",
        "outputId": "b4175d94-780f-4c71-98a3-6925b10488f4"
      },
      "execution_count": 193,
      "outputs": [
        {
          "output_type": "execute_result",
          "data": {
            "text/plain": [
              "                            Product\n",
              "USB-C Charging Cable          21903\n",
              "Lightning Charging Cable      21658\n",
              "AAA Batteries (4-pack)        20641\n",
              "AA Batteries (4-pack)         20577\n",
              "Wired Headphones              18882\n",
              "Apple Airpods Headphones      15549\n",
              "Bose SoundSport Headphones    13325\n",
              "27in FHD Monitor               7507\n",
              "iPhone                         6842\n",
              "27in 4K Gaming Monitor         6230\n",
              "34in Ultrawide Monitor         6181\n",
              "Google Phone                   5525\n",
              "Flatscreen TV                  4800\n",
              "Macbook Pro Laptop             4724\n",
              "ThinkPad Laptop                4128\n",
              "20in Monitor                   4101\n",
              "Vareebadd Phone                2065\n",
              "LG Washing Machine              666\n",
              "LG Dryer                        646"
            ],
            "text/html": [
              "\n",
              "  <div id=\"df-67c011a5-0cd0-49e3-8538-a559cd0a3f12\">\n",
              "    <div class=\"colab-df-container\">\n",
              "      <div>\n",
              "<style scoped>\n",
              "    .dataframe tbody tr th:only-of-type {\n",
              "        vertical-align: middle;\n",
              "    }\n",
              "\n",
              "    .dataframe tbody tr th {\n",
              "        vertical-align: top;\n",
              "    }\n",
              "\n",
              "    .dataframe thead th {\n",
              "        text-align: right;\n",
              "    }\n",
              "</style>\n",
              "<table border=\"1\" class=\"dataframe\">\n",
              "  <thead>\n",
              "    <tr style=\"text-align: right;\">\n",
              "      <th></th>\n",
              "      <th>Product</th>\n",
              "    </tr>\n",
              "  </thead>\n",
              "  <tbody>\n",
              "    <tr>\n",
              "      <th>USB-C Charging Cable</th>\n",
              "      <td>21903</td>\n",
              "    </tr>\n",
              "    <tr>\n",
              "      <th>Lightning Charging Cable</th>\n",
              "      <td>21658</td>\n",
              "    </tr>\n",
              "    <tr>\n",
              "      <th>AAA Batteries (4-pack)</th>\n",
              "      <td>20641</td>\n",
              "    </tr>\n",
              "    <tr>\n",
              "      <th>AA Batteries (4-pack)</th>\n",
              "      <td>20577</td>\n",
              "    </tr>\n",
              "    <tr>\n",
              "      <th>Wired Headphones</th>\n",
              "      <td>18882</td>\n",
              "    </tr>\n",
              "    <tr>\n",
              "      <th>Apple Airpods Headphones</th>\n",
              "      <td>15549</td>\n",
              "    </tr>\n",
              "    <tr>\n",
              "      <th>Bose SoundSport Headphones</th>\n",
              "      <td>13325</td>\n",
              "    </tr>\n",
              "    <tr>\n",
              "      <th>27in FHD Monitor</th>\n",
              "      <td>7507</td>\n",
              "    </tr>\n",
              "    <tr>\n",
              "      <th>iPhone</th>\n",
              "      <td>6842</td>\n",
              "    </tr>\n",
              "    <tr>\n",
              "      <th>27in 4K Gaming Monitor</th>\n",
              "      <td>6230</td>\n",
              "    </tr>\n",
              "    <tr>\n",
              "      <th>34in Ultrawide Monitor</th>\n",
              "      <td>6181</td>\n",
              "    </tr>\n",
              "    <tr>\n",
              "      <th>Google Phone</th>\n",
              "      <td>5525</td>\n",
              "    </tr>\n",
              "    <tr>\n",
              "      <th>Flatscreen TV</th>\n",
              "      <td>4800</td>\n",
              "    </tr>\n",
              "    <tr>\n",
              "      <th>Macbook Pro Laptop</th>\n",
              "      <td>4724</td>\n",
              "    </tr>\n",
              "    <tr>\n",
              "      <th>ThinkPad Laptop</th>\n",
              "      <td>4128</td>\n",
              "    </tr>\n",
              "    <tr>\n",
              "      <th>20in Monitor</th>\n",
              "      <td>4101</td>\n",
              "    </tr>\n",
              "    <tr>\n",
              "      <th>Vareebadd Phone</th>\n",
              "      <td>2065</td>\n",
              "    </tr>\n",
              "    <tr>\n",
              "      <th>LG Washing Machine</th>\n",
              "      <td>666</td>\n",
              "    </tr>\n",
              "    <tr>\n",
              "      <th>LG Dryer</th>\n",
              "      <td>646</td>\n",
              "    </tr>\n",
              "  </tbody>\n",
              "</table>\n",
              "</div>\n",
              "      <button class=\"colab-df-convert\" onclick=\"convertToInteractive('df-67c011a5-0cd0-49e3-8538-a559cd0a3f12')\"\n",
              "              title=\"Convert this dataframe to an interactive table.\"\n",
              "              style=\"display:none;\">\n",
              "        \n",
              "  <svg xmlns=\"http://www.w3.org/2000/svg\" height=\"24px\"viewBox=\"0 0 24 24\"\n",
              "       width=\"24px\">\n",
              "    <path d=\"M0 0h24v24H0V0z\" fill=\"none\"/>\n",
              "    <path d=\"M18.56 5.44l.94 2.06.94-2.06 2.06-.94-2.06-.94-.94-2.06-.94 2.06-2.06.94zm-11 1L8.5 8.5l.94-2.06 2.06-.94-2.06-.94L8.5 2.5l-.94 2.06-2.06.94zm10 10l.94 2.06.94-2.06 2.06-.94-2.06-.94-.94-2.06-.94 2.06-2.06.94z\"/><path d=\"M17.41 7.96l-1.37-1.37c-.4-.4-.92-.59-1.43-.59-.52 0-1.04.2-1.43.59L10.3 9.45l-7.72 7.72c-.78.78-.78 2.05 0 2.83L4 21.41c.39.39.9.59 1.41.59.51 0 1.02-.2 1.41-.59l7.78-7.78 2.81-2.81c.8-.78.8-2.07 0-2.86zM5.41 20L4 18.59l7.72-7.72 1.47 1.35L5.41 20z\"/>\n",
              "  </svg>\n",
              "      </button>\n",
              "      \n",
              "  <style>\n",
              "    .colab-df-container {\n",
              "      display:flex;\n",
              "      flex-wrap:wrap;\n",
              "      gap: 12px;\n",
              "    }\n",
              "\n",
              "    .colab-df-convert {\n",
              "      background-color: #E8F0FE;\n",
              "      border: none;\n",
              "      border-radius: 50%;\n",
              "      cursor: pointer;\n",
              "      display: none;\n",
              "      fill: #1967D2;\n",
              "      height: 32px;\n",
              "      padding: 0 0 0 0;\n",
              "      width: 32px;\n",
              "    }\n",
              "\n",
              "    .colab-df-convert:hover {\n",
              "      background-color: #E2EBFA;\n",
              "      box-shadow: 0px 1px 2px rgba(60, 64, 67, 0.3), 0px 1px 3px 1px rgba(60, 64, 67, 0.15);\n",
              "      fill: #174EA6;\n",
              "    }\n",
              "\n",
              "    [theme=dark] .colab-df-convert {\n",
              "      background-color: #3B4455;\n",
              "      fill: #D2E3FC;\n",
              "    }\n",
              "\n",
              "    [theme=dark] .colab-df-convert:hover {\n",
              "      background-color: #434B5C;\n",
              "      box-shadow: 0px 1px 3px 1px rgba(0, 0, 0, 0.15);\n",
              "      filter: drop-shadow(0px 1px 2px rgba(0, 0, 0, 0.3));\n",
              "      fill: #FFFFFF;\n",
              "    }\n",
              "  </style>\n",
              "\n",
              "      <script>\n",
              "        const buttonEl =\n",
              "          document.querySelector('#df-67c011a5-0cd0-49e3-8538-a559cd0a3f12 button.colab-df-convert');\n",
              "        buttonEl.style.display =\n",
              "          google.colab.kernel.accessAllowed ? 'block' : 'none';\n",
              "\n",
              "        async function convertToInteractive(key) {\n",
              "          const element = document.querySelector('#df-67c011a5-0cd0-49e3-8538-a559cd0a3f12');\n",
              "          const dataTable =\n",
              "            await google.colab.kernel.invokeFunction('convertToInteractive',\n",
              "                                                     [key], {});\n",
              "          if (!dataTable) return;\n",
              "\n",
              "          const docLinkHtml = 'Like what you see? Visit the ' +\n",
              "            '<a target=\"_blank\" href=https://colab.research.google.com/notebooks/data_table.ipynb>data table notebook</a>'\n",
              "            + ' to learn more about interactive tables.';\n",
              "          element.innerHTML = '';\n",
              "          dataTable['output_type'] = 'display_data';\n",
              "          await google.colab.output.renderOutput(dataTable, element);\n",
              "          const docLink = document.createElement('div');\n",
              "          docLink.innerHTML = docLinkHtml;\n",
              "          element.appendChild(docLink);\n",
              "        }\n",
              "      </script>\n",
              "    </div>\n",
              "  </div>\n",
              "  "
            ]
          },
          "metadata": {},
          "execution_count": 193
        }
      ]
    },
    {
      "cell_type": "code",
      "source": [
        "#CANNOT EXTRACT THE PRODUCT NAME FORM ABOVE METHOD\n",
        "#Need to use Group By"
      ],
      "metadata": {
        "id": "FQGdu_e7Nhr9"
      },
      "execution_count": 198,
      "outputs": []
    },
    {
      "cell_type": "code",
      "source": [
        "quantity_ordered = all_data.groupby('Product').sum()[\"Quantity Ordered\"]\n"
      ],
      "metadata": {
        "id": "CrGuhk2qPaWL"
      },
      "execution_count": 200,
      "outputs": []
    },
    {
      "cell_type": "code",
      "source": [
        "quantity_ordered"
      ],
      "metadata": {
        "colab": {
          "base_uri": "https://localhost:8080/"
        },
        "id": "90uK83qmPbYl",
        "outputId": "b0976f34-ed42-4a1b-c666-bbacef404288"
      },
      "execution_count": 201,
      "outputs": [
        {
          "output_type": "execute_result",
          "data": {
            "text/plain": [
              "Product\n",
              "20in Monitor                   4129.0\n",
              "27in 4K Gaming Monitor         6244.0\n",
              "27in FHD Monitor               7550.0\n",
              "34in Ultrawide Monitor         6199.0\n",
              "AA Batteries (4-pack)         27635.0\n",
              "AAA Batteries (4-pack)        31017.0\n",
              "Apple Airpods Headphones      15661.0\n",
              "Bose SoundSport Headphones    13457.0\n",
              "Flatscreen TV                  4819.0\n",
              "Google Phone                   5532.0\n",
              "LG Dryer                        646.0\n",
              "LG Washing Machine              666.0\n",
              "Lightning Charging Cable      23217.0\n",
              "Macbook Pro Laptop             4728.0\n",
              "ThinkPad Laptop                4130.0\n",
              "USB-C Charging Cable          23975.0\n",
              "Vareebadd Phone                2068.0\n",
              "Wired Headphones              20557.0\n",
              "iPhone                         6849.0\n",
              "Name: Quantity Ordered, dtype: float64"
            ]
          },
          "metadata": {},
          "execution_count": 201
        }
      ]
    },
    {
      "cell_type": "code",
      "source": [
        "#plotting the graph\n",
        "\n",
        "products = all_data.groupby(\"Product\")\n",
        "quantity_ordered = products.sum()[\"Quantity Ordered\"]\n",
        "\n",
        "x = [prd for prd, df in products]\n",
        "\n",
        "plt.bar(x, quantity_ordered, color=\"#CCCCFF\")\n",
        "plt.xticks(x, rotation='vertical', size=8)\n",
        "\n",
        "plt.title(\"Product Sold\")\n",
        "plt.xlabel(\"Products\")\n",
        "plt.ylabel(\"Number of Item Sold\")\n",
        "\n",
        "\n",
        "plt.show()"
      ],
      "metadata": {
        "colab": {
          "base_uri": "https://localhost:8080/",
          "height": 407
        },
        "id": "aOOFB_nkQp3a",
        "outputId": "1f31f91b-d2fc-4058-eb38-1c1cf8d5a861"
      },
      "execution_count": 204,
      "outputs": [
        {
          "output_type": "display_data",
          "data": {
            "text/plain": [
              "<Figure size 432x288 with 1 Axes>"
            ],
            "image/png": "[encoded data removed]"
          },
          "metadata": {
            "needs_background": "light"
          }
        }
      ]
    },
    {
      "cell_type": "code",
      "source": [
        "quantity_ordered"
      ],
      "metadata": {
        "colab": {
          "base_uri": "https://localhost:8080/"
        },
        "id": "oKpSbkk3RmVi",
        "outputId": "9ef9b24f-6d7f-402e-aa5b-bda5c6cf4bff"
      },
      "execution_count": 205,
      "outputs": [
        {
          "output_type": "execute_result",
          "data": {
            "text/plain": [
              "Product\n",
              "20in Monitor                   4129.0\n",
              "27in 4K Gaming Monitor         6244.0\n",
              "27in FHD Monitor               7550.0\n",
              "34in Ultrawide Monitor         6199.0\n",
              "AA Batteries (4-pack)         27635.0\n",
              "AAA Batteries (4-pack)        31017.0\n",
              "Apple Airpods Headphones      15661.0\n",
              "Bose SoundSport Headphones    13457.0\n",
              "Flatscreen TV                  4819.0\n",
              "Google Phone                   5532.0\n",
              "LG Dryer                        646.0\n",
              "LG Washing Machine              666.0\n",
              "Lightning Charging Cable      23217.0\n",
              "Macbook Pro Laptop             4728.0\n",
              "ThinkPad Laptop                4130.0\n",
              "USB-C Charging Cable          23975.0\n",
              "Vareebadd Phone                2068.0\n",
              "Wired Headphones              20557.0\n",
              "iPhone                         6849.0\n",
              "Name: Quantity Ordered, dtype: float64"
            ]
          },
          "metadata": {},
          "execution_count": 205
        }
      ]
    },
    {
      "cell_type": "code",
      "source": [
        "all_data[\"Product\"].value_counts()"
      ],
      "metadata": {
        "colab": {
          "base_uri": "https://localhost:8080/"
        },
        "id": "dpwnFgVBR9uQ",
        "outputId": "e03759d6-201d-4d70-9548-4cb3b9cc4d3c"
      },
      "execution_count": 207,
      "outputs": [
        {
          "output_type": "execute_result",
          "data": {
            "text/plain": [
              "USB-C Charging Cable          21903\n",
              "Lightning Charging Cable      21658\n",
              "AAA Batteries (4-pack)        20641\n",
              "AA Batteries (4-pack)         20577\n",
              "Wired Headphones              18882\n",
              "Apple Airpods Headphones      15549\n",
              "Bose SoundSport Headphones    13325\n",
              "27in FHD Monitor               7507\n",
              "iPhone                         6842\n",
              "27in 4K Gaming Monitor         6230\n",
              "34in Ultrawide Monitor         6181\n",
              "Google Phone                   5525\n",
              "Flatscreen TV                  4800\n",
              "Macbook Pro Laptop             4724\n",
              "ThinkPad Laptop                4128\n",
              "20in Monitor                   4101\n",
              "Vareebadd Phone                2065\n",
              "LG Washing Machine              666\n",
              "LG Dryer                        646\n",
              "Name: Product, dtype: int64"
            ]
          },
          "metadata": {},
          "execution_count": 207
        }
      ]
    },
    {
      "cell_type": "code",
      "source": [
        "products.sum()[\"Quantity Ordered\"]"
      ],
      "metadata": {
        "colab": {
          "base_uri": "https://localhost:8080/"
        },
        "id": "MvwcgDjGSHgY",
        "outputId": "1ffc015f-2f00-4a36-daec-2ccdee386cc2"
      },
      "execution_count": 209,
      "outputs": [
        {
          "output_type": "execute_result",
          "data": {
            "text/plain": [
              "Product\n",
              "20in Monitor                   4129.0\n",
              "27in 4K Gaming Monitor         6244.0\n",
              "27in FHD Monitor               7550.0\n",
              "34in Ultrawide Monitor         6199.0\n",
              "AA Batteries (4-pack)         27635.0\n",
              "AAA Batteries (4-pack)        31017.0\n",
              "Apple Airpods Headphones      15661.0\n",
              "Bose SoundSport Headphones    13457.0\n",
              "Flatscreen TV                  4819.0\n",
              "Google Phone                   5532.0\n",
              "LG Dryer                        646.0\n",
              "LG Washing Machine              666.0\n",
              "Lightning Charging Cable      23217.0\n",
              "Macbook Pro Laptop             4728.0\n",
              "ThinkPad Laptop                4130.0\n",
              "USB-C Charging Cable          23975.0\n",
              "Vareebadd Phone                2068.0\n",
              "Wired Headphones              20557.0\n",
              "iPhone                         6849.0\n",
              "Name: Quantity Ordered, dtype: float64"
            ]
          },
          "metadata": {},
          "execution_count": 209
        }
      ]
    },
    {
      "cell_type": "code",
      "source": [
        "all_data.info()"
      ],
      "metadata": {
        "colab": {
          "base_uri": "https://localhost:8080/"
        },
        "id": "lA_9gCGISZh_",
        "outputId": "24fd3d8e-edce-4def-9a17-0b61269aa8f1"
      },
      "execution_count": 210,
      "outputs": [
        {
          "output_type": "stream",
          "name": "stdout",
          "text": [
            "<class 'pandas.core.frame.DataFrame'>\n",
            "Int64Index: 185950 entries, 0 to 15225\n",
            "Data columns (total 10 columns):\n",
            " #   Column            Non-Null Count   Dtype         \n",
            "---  ------            --------------   -----         \n",
            " 0   Order ID          185950 non-null  int32         \n",
            " 1   Product           185950 non-null  object        \n",
            " 2   Quantity Ordered  185950 non-null  int32         \n",
            " 3   Price Each        185950 non-null  float64       \n",
            " 4   Order Date        185950 non-null  datetime64[ns]\n",
            " 5   Purchase Address  185950 non-null  object        \n",
            " 6   Month             185950 non-null  int32         \n",
            " 7   Sales             185950 non-null  float64       \n",
            " 8   City              185950 non-null  object        \n",
            " 9   Hour              185950 non-null  int64         \n",
            "dtypes: datetime64[ns](1), float64(2), int32(3), int64(1), object(3)\n",
            "memory usage: 17.5+ MB\n"
          ]
        }
      ]
    },
    {
      "cell_type": "code",
      "source": [
        "prices = all_data.groupby(\"Product\").mean()[\"Price Each\"]\n",
        "prices"
      ],
      "metadata": {
        "colab": {
          "base_uri": "https://localhost:8080/"
        },
        "id": "nslxsRb1SpLx",
        "outputId": "2e91cf86-874a-454c-dd9e-dc4a7b2d0691"
      },
      "execution_count": 211,
      "outputs": [
        {
          "output_type": "execute_result",
          "data": {
            "text/plain": [
              "Product\n",
              "20in Monitor                   109.99\n",
              "27in 4K Gaming Monitor         389.99\n",
              "27in FHD Monitor               149.99\n",
              "34in Ultrawide Monitor         379.99\n",
              "AA Batteries (4-pack)            3.84\n",
              "AAA Batteries (4-pack)           2.99\n",
              "Apple Airpods Headphones       150.00\n",
              "Bose SoundSport Headphones      99.99\n",
              "Flatscreen TV                  300.00\n",
              "Google Phone                   600.00\n",
              "LG Dryer                       600.00\n",
              "LG Washing Machine             600.00\n",
              "Lightning Charging Cable        14.95\n",
              "Macbook Pro Laptop            1700.00\n",
              "ThinkPad Laptop                999.99\n",
              "USB-C Charging Cable            11.95\n",
              "Vareebadd Phone                400.00\n",
              "Wired Headphones                11.99\n",
              "iPhone                         700.00\n",
              "Name: Price Each, dtype: float64"
            ]
          },
          "metadata": {},
          "execution_count": 211
        }
      ]
    },
    {
      "cell_type": "code",
      "source": [
        "#Product sold and the mean prices in same graph\n",
        "\n",
        "fig, ax1 = plt.subplots()\n",
        "\n",
        "ax2 = ax1.twinx()\n",
        "\n",
        "ax1.bar(x, quantity_ordered, color=\"#CCC0FF\")\n",
        "ax1.set_xticklabels(x, rotation='vertical', size=8)\n",
        "\n",
        "ax2.plot(x, prices,  color=\"#E74C3C\")\n",
        "\n",
        "plt.title(\"Product Sold\")\n",
        "\n",
        "ax1.set_xlabel(\"Products\")\n",
        "ax1.set_ylabel(\"Number of Item Sold\", color=\"green\")\n",
        "ax2.set_ylabel(\"Price\", color=\"red\")\n",
        "\n",
        "plt.show()\n"
      ],
      "metadata": {
        "colab": {
          "base_uri": "https://localhost:8080/",
          "height": 407
        },
        "id": "pnMxcFroTKTb",
        "outputId": "ae59ca34-0a42-4d24-f3de-0c3540b15bcb"
      },
      "execution_count": 220,
      "outputs": [
        {
          "output_type": "display_data",
          "data": {
            "text/plain": [
              "<Figure size 432x288 with 2 Axes>"
            ],
            "image/png": "[encoded data removed]"
          },
          "metadata": {
            "needs_background": "light"
          }
        }
      ]
    },
    {
      "cell_type": "markdown",
      "source": [
        "For products having low price (Batteries, Lightning Cable, USB) quantity ordered is more, "
      ],
      "metadata": {
        "id": "tWi1hY9FVtyL"
      }
    },
    {
      "cell_type": "code",
      "source": [],
      "metadata": {
        "id": "LdpRIYHwXvpx"
      },
      "execution_count": null,
      "outputs": []
    },
    {
      "cell_type": "code",
      "source": [],
      "metadata": {
        "id": "h68KlwOkXvct"
      },
      "execution_count": null,
      "outputs": []
    },
    {
      "cell_type": "code",
      "source": [],
      "metadata": {
        "id": "71XfPk9_U3a9"
      },
      "execution_count": null,
      "outputs": []
    },
    {
      "cell_type": "markdown",
      "source": [
        "# The End "
      ],
      "metadata": {
        "id": "Y1VfEWzqXwP8"
      }
    }
  ],
  "metadata": {
    "colab": {
      "provenance": [],
      "authorship_tag": "ABX9TyNE3PsJ8hXFoRaborERjVqJ",
      "include_colab_link": true
    },
    "kernelspec": {
      "display_name": "Python 3",
      "name": "python3"
    },
    "language_info": {
      "name": "python"
    }
  },
  "nbformat": 4,
  "nbformat_minor": 0
}